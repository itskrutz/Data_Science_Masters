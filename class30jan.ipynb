{
 "cells": [
  {
   "cell_type": "code",
   "execution_count": 5,
   "id": "bfadd4d9-cc90-4876-a812-27300c46b3bc",
   "metadata": {},
   "outputs": [
    {
     "name": "stdin",
     "output_type": "stream",
     "text": [
      "Enter your age 45\n"
     ]
    },
    {
     "name": "stdout",
     "output_type": "stream",
     "text": [
      "You are young blood\n"
     ]
    }
   ],
   "source": [
    "age=int(input(\"Enter your age\"))\n",
    "if age>=18 and age<=45:\n",
    "    print(\"You are young blood\")"
   ]
  },
  {
   "cell_type": "code",
   "execution_count": 6,
   "id": "cd0cde05-16af-47fc-a37d-cf85b2b44f9f",
   "metadata": {},
   "outputs": [
    {
     "data": {
      "text/plain": [
       "True"
      ]
     },
     "execution_count": 6,
     "metadata": {},
     "output_type": "execute_result"
    }
   ],
   "source": [
    "34>=18 and 34<=45"
   ]
  },
  {
   "cell_type": "code",
   "execution_count": 7,
   "id": "c3381794-6271-451a-a4e2-7fde3e04dcda",
   "metadata": {},
   "outputs": [
    {
     "name": "stdin",
     "output_type": "stream",
     "text": [
      "Enter the product price 1200\n"
     ]
    },
    {
     "name": "stdout",
     "output_type": "stream",
     "text": [
      "960.0\n"
     ]
    }
   ],
   "source": [
    "price=int(input(\"Enter the product price\"))\n",
    "if price>1000:\n",
    "    print(price-(20/100)*price)\n",
    "else:\n",
    "    print(price-(30/100)*price)\n",
    "    "
   ]
  },
  {
   "cell_type": "code",
   "execution_count": 3,
   "id": "9d17a53d-9ed1-440e-b16c-be1316f1c9dc",
   "metadata": {},
   "outputs": [
    {
     "name": "stdin",
     "output_type": "stream",
     "text": [
      "Enter the product price 56\n"
     ]
    },
    {
     "name": "stdout",
     "output_type": "stream",
     "text": [
      "The final price of your item is: 39.199999999999996\n"
     ]
    }
   ],
   "source": [
    "price=int(input(\"Enter the product price\"))\n",
    "if price>1000:\n",
    "    print(\"The final price of your item is: {}\".format(price*0.8))\n",
    "else:\n",
    "    print(f\"The final price of your item is: {price*0.7}\")\n",
    "    "
   ]
  },
  {
   "cell_type": "code",
   "execution_count": 6,
   "id": "97dfb4b7-2c59-48ec-be0d-8798237f34d5",
   "metadata": {},
   "outputs": [
    {
     "name": "stdin",
     "output_type": "stream",
     "text": [
      "Enter the product price 5000\n"
     ]
    },
    {
     "name": "stdout",
     "output_type": "stream",
     "text": [
      "The final price of your item is: 4000.0\n"
     ]
    }
   ],
   "source": [
    "price=int(input(\"Enter the product price\"))\n",
    "if price>=3000:\n",
    "    print(\"The final price of your item is: {}\".format(price*0.8))\n",
    "elif price<3000 and price>=2000:\n",
    "    print(\"The final price of your item is: {price1}\".format(price1=price*0.7))\n",
    "else:\n",
    "    print(f\"The final price of your item is: {price*0.6}\")\n",
    "    "
   ]
  },
  {
   "cell_type": "code",
   "execution_count": 16,
   "id": "769c9d53-856b-4cf2-93c7-ab9a8abb48d6",
   "metadata": {},
   "outputs": [
    {
     "name": "stdout",
     "output_type": "stream",
     "text": [
      "25\n",
      "26\n",
      "27\n",
      "28\n",
      "29\n",
      "30\n",
      "31\n",
      "32\n",
      "33\n",
      "34\n",
      "35\n",
      "36\n",
      "37\n",
      "38\n",
      "39\n",
      "40\n",
      "41\n",
      "42\n",
      "43\n",
      "44\n",
      "45\n",
      "46\n",
      "47\n",
      "48\n",
      "49\n",
      "50\n",
      "51\n",
      "52\n",
      "53\n",
      "54\n",
      "55\n",
      "56\n",
      "57\n",
      "58\n",
      "59\n",
      "60\n",
      "It is time to retire\n"
     ]
    }
   ],
   "source": [
    "age=25\n",
    "while age<=60:\n",
    "    print(age)\n",
    "    age=age+1\n",
    "else:\n",
    "    print(\"It is time to retire\")"
   ]
  },
  {
   "cell_type": "code",
   "execution_count": 8,
   "id": "348fe359-91f8-4886-a5a6-29614ceeaa95",
   "metadata": {},
   "outputs": [],
   "source": [
    "lst=[\"krutz\",1,2,3,4,\"apple\",'banana']"
   ]
  },
  {
   "cell_type": "code",
   "execution_count": 9,
   "id": "887c241e-e0ba-4ad7-91dd-18f9dd402a02",
   "metadata": {},
   "outputs": [
    {
     "data": {
      "text/plain": [
       "list"
      ]
     },
     "execution_count": 9,
     "metadata": {},
     "output_type": "execute_result"
    }
   ],
   "source": [
    "type(lst)"
   ]
  },
  {
   "cell_type": "code",
   "execution_count": 11,
   "id": "b2c4ebf6-8a06-42f0-990d-64eab8b2d689",
   "metadata": {},
   "outputs": [
    {
     "name": "stdout",
     "output_type": "stream",
     "text": [
      "krutz\n",
      "1\n",
      "2\n",
      "3\n",
      "4\n",
      "apple\n",
      "banana\n"
     ]
    }
   ],
   "source": [
    "for i in lst:\n",
    "    print(i)"
   ]
  },
  {
   "cell_type": "code",
   "execution_count": 12,
   "id": "210a8fbe-a2f8-4419-9014-ddf21814f07d",
   "metadata": {},
   "outputs": [],
   "source": [
    "fruit_list=['banana','watermelon','apple','strawberry','papaya']"
   ]
  },
  {
   "cell_type": "code",
   "execution_count": 20,
   "id": "1aa7e07a-1275-4a63-857c-9f52ff77ad3d",
   "metadata": {},
   "outputs": [
    {
     "name": "stdout",
     "output_type": "stream",
     "text": [
      "banana watermelon \n",
      "This is my fav one\n",
      "apple strawberry papaya "
     ]
    }
   ],
   "source": [
    "for a in fruit_list:\n",
    "    print(a,end=' ')##to print in the same line, do this\n",
    "    if a=='watermelon':\n",
    "        print('\\nThis is my fav one')\n",
    "    "
   ]
  },
  {
   "cell_type": "code",
   "execution_count": 21,
   "id": "b43dcf6d-8a2f-4bf7-b643-77ec798f6abb",
   "metadata": {},
   "outputs": [
    {
     "name": "stdout",
     "output_type": "stream",
     "text": [
      "\n",
      "This is my fav one\n"
     ]
    }
   ],
   "source": [
    "for a in fruit_list:\n",
    "    \n",
    "    if a=='watermelon':\n",
    "        print('\\nThis is my fav one')\n",
    "    "
   ]
  },
  {
   "cell_type": "code",
   "execution_count": 24,
   "id": "68724988-2009-487b-a5c0-f940dc645f31",
   "metadata": {},
   "outputs": [
    {
     "name": "stdout",
     "output_type": "stream",
     "text": [
      "m\n",
      "a\n",
      "n\n",
      "g\n",
      "o\n"
     ]
    }
   ],
   "source": [
    "fruit=\"mango\"\n",
    "for x in fruit:\n",
    "    print(x) \n",
    "    \n",
    "##so string is also a collection of data. This makes this strings so much easier to work with than in Java or C++"
   ]
  },
  {
   "cell_type": "code",
   "execution_count": 25,
   "id": "572064a1-87a4-45e9-ab2c-d45650cc9f01",
   "metadata": {},
   "outputs": [
    {
     "data": {
      "text/plain": [
       "'m'"
      ]
     },
     "execution_count": 25,
     "metadata": {},
     "output_type": "execute_result"
    }
   ],
   "source": [
    "fruit[0]"
   ]
  },
  {
   "cell_type": "code",
   "execution_count": 26,
   "id": "967358ee-472e-4920-b158-9b8921177c7c",
   "metadata": {},
   "outputs": [
    {
     "data": {
      "text/plain": [
       "'o'"
      ]
     },
     "execution_count": 26,
     "metadata": {},
     "output_type": "execute_result"
    }
   ],
   "source": [
    "fruit[4]"
   ]
  },
  {
   "cell_type": "markdown",
   "id": "ad24f8bd-11a4-4f5a-b60f-46e41ba71f51",
   "metadata": {},
   "source": [
    "### Nested Loops"
   ]
  },
  {
   "cell_type": "code",
   "execution_count": 28,
   "id": "52c0fb44-af86-4646-b23f-4db299f06f8f",
   "metadata": {},
   "outputs": [
    {
     "name": "stdout",
     "output_type": "stream",
     "text": [
      "1\n",
      "2\n",
      "3\n",
      "4\n",
      "5\n"
     ]
    }
   ],
   "source": [
    "for i in range(1,6):\n",
    "    print(i)"
   ]
  },
  {
   "cell_type": "code",
   "execution_count": 29,
   "id": "646fc1ef-83e9-4a36-8838-d50c1bc71a7d",
   "metadata": {},
   "outputs": [
    {
     "name": "stdout",
     "output_type": "stream",
     "text": [
      "1\n",
      "3\n",
      "5\n"
     ]
    }
   ],
   "source": [
    "for i in range(1,6,2):##the third parameter is the step size\n",
    "    print(i)"
   ]
  },
  {
   "cell_type": "code",
   "execution_count": 34,
   "id": "6639515d-361e-4457-876f-cefc2ab41ec5",
   "metadata": {},
   "outputs": [
    {
     "name": "stdout",
     "output_type": "stream",
     "text": [
      "*\n",
      "**\n",
      "***\n",
      "****\n",
      "*****\n",
      "******\n",
      "*******\n"
     ]
    }
   ],
   "source": [
    "n=7\n",
    "\n",
    "for i in range(0,n):\n",
    "    for j in range(0,i+1):\n",
    "        print(\"*\",end='')\n",
    "    print('\\r')## this is carraige return"
   ]
  },
  {
   "cell_type": "markdown",
   "id": "91af7b49-941c-4361-a31b-cebc0f7da9ce",
   "metadata": {},
   "source": [
    "## Loop Control"
   ]
  },
  {
   "cell_type": "code",
   "execution_count": 35,
   "id": "e4583dc0-d800-4b95-9504-35bd1a82276f",
   "metadata": {},
   "outputs": [],
   "source": [
    "##break and continue statement\n",
    "fruits_list = [\"Mango\",\"Cherry\",\"Apple\",\"Papaya\",\"Banana\"]"
   ]
  },
  {
   "cell_type": "code",
   "execution_count": 36,
   "id": "7d6afba6-36d9-499f-aa5d-6ea0086bf939",
   "metadata": {},
   "outputs": [
    {
     "name": "stdout",
     "output_type": "stream",
     "text": [
      "Mango\n",
      "Cherry\n",
      "The fruit is apple\n"
     ]
    }
   ],
   "source": [
    "for i in fruits_list:\n",
    "    if i==\"Apple\":\n",
    "        print(\"The fruit is apple\")\n",
    "        break\n",
    "    print(i)"
   ]
  },
  {
   "cell_type": "code",
   "execution_count": 37,
   "id": "bf0edf9c-b3be-45ee-b135-af9d62e377dc",
   "metadata": {},
   "outputs": [
    {
     "name": "stdout",
     "output_type": "stream",
     "text": [
      "Mango\n",
      "Cherry\n",
      "The fruit is apple\n",
      "Apple\n",
      "Papaya\n",
      "Banana\n"
     ]
    }
   ],
   "source": [
    "for i in fruits_list:\n",
    "    if i==\"Apple\":\n",
    "        print(\"The fruit is apple\")\n",
    "        pass\n",
    "    print(i)"
   ]
  },
  {
   "cell_type": "code",
   "execution_count": 38,
   "id": "2a3eaad6-9652-4a7b-9ed2-1e31e4272de8",
   "metadata": {},
   "outputs": [
    {
     "name": "stdout",
     "output_type": "stream",
     "text": [
      "Mango\n",
      "Cherry\n",
      "The fruit is apple\n",
      "Papaya\n",
      "Banana\n"
     ]
    }
   ],
   "source": [
    "##continue\n",
    "for i in fruits_list:\n",
    "    if i==\"Apple\":\n",
    "        print(\"The fruit is apple\")\n",
    "        continue\n",
    "    print(i)"
   ]
  },
  {
   "cell_type": "code",
   "execution_count": 41,
   "id": "515d04f8-edfb-4b8d-b8e8-656e9d06f881",
   "metadata": {},
   "outputs": [
    {
     "data": {
      "text/plain": [
       "True"
      ]
     },
     "execution_count": 41,
     "metadata": {},
     "output_type": "execute_result"
    }
   ],
   "source": [
    "\"pwskills\".upper().lower().isalnum()"
   ]
  },
  {
   "cell_type": "code",
   "execution_count": null,
   "id": "e228cf22-5751-43bc-84d4-9105b23db7c3",
   "metadata": {},
   "outputs": [],
   "source": [
    "##Assignment hai\n",
    "\n",
    "#      *\n",
    "#     ***\n",
    "#    *****\n",
    "#   *******\n",
    "#  *********\n",
    "    "
   ]
  },
  {
   "cell_type": "code",
   "execution_count": null,
   "id": "583e9bd9-62c2-4a72-9bc4-60bcee68dcfc",
   "metadata": {},
   "outputs": [],
   "source": []
  },
  {
   "cell_type": "code",
   "execution_count": null,
   "id": "01d8e1d2-fc1b-4ffa-a88e-8970e0115d1a",
   "metadata": {},
   "outputs": [],
   "source": []
  },
  {
   "cell_type": "code",
   "execution_count": null,
   "id": "9ab8eb1a-47b6-40b9-9e7f-fac502fcb396",
   "metadata": {},
   "outputs": [],
   "source": []
  },
  {
   "cell_type": "code",
   "execution_count": null,
   "id": "a14226d2-08f3-40bf-bb31-9ea68298800b",
   "metadata": {},
   "outputs": [],
   "source": []
  }
 ],
 "metadata": {
  "kernelspec": {
   "display_name": "Python 3 (ipykernel)",
   "language": "python",
   "name": "python3"
  },
  "language_info": {
   "codemirror_mode": {
    "name": "ipython",
    "version": 3
   },
   "file_extension": ".py",
   "mimetype": "text/x-python",
   "name": "python",
   "nbconvert_exporter": "python",
   "pygments_lexer": "ipython3",
   "version": "3.10.8"
  }
 },
 "nbformat": 4,
 "nbformat_minor": 5
}
