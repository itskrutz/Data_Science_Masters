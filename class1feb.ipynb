{
 "cells": [
  {
   "cell_type": "code",
   "execution_count": 1,
   "id": "27a1ef95",
   "metadata": {},
   "outputs": [],
   "source": [
    "name=\"Data science Masters\""
   ]
  },
  {
   "cell_type": "code",
   "execution_count": 2,
   "id": "00f89f80",
   "metadata": {
    "scrolled": true
   },
   "outputs": [
    {
     "data": {
      "text/plain": [
       "'dATA SCIENCE mASTERS'"
      ]
     },
     "execution_count": 2,
     "metadata": {},
     "output_type": "execute_result"
    }
   ],
   "source": [
    "name.swapcase()"
   ]
  },
  {
   "cell_type": "code",
   "execution_count": 3,
   "id": "88a885b5",
   "metadata": {
    "scrolled": true
   },
   "outputs": [
    {
     "data": {
      "text/plain": [
       "'Data Science Masters'"
      ]
     },
     "execution_count": 3,
     "metadata": {},
     "output_type": "execute_result"
    }
   ],
   "source": [
    "name.title()"
   ]
  },
  {
   "cell_type": "code",
   "execution_count": 4,
   "id": "04eac32a",
   "metadata": {},
   "outputs": [
    {
     "data": {
      "text/plain": [
       "'Data science masters'"
      ]
     },
     "execution_count": 4,
     "metadata": {},
     "output_type": "execute_result"
    }
   ],
   "source": [
    "name.capitalize() ##Makes first character capital and the rest all lower case"
   ]
  },
  {
   "cell_type": "markdown",
   "id": "6b99b6dc",
   "metadata": {},
   "source": [
    "## Reversing a string"
   ]
  },
  {
   "cell_type": "code",
   "execution_count": 5,
   "id": "efd869c8",
   "metadata": {},
   "outputs": [
    {
     "data": {
      "text/plain": [
       "'sretsaM ecneics ataD'"
      ]
     },
     "execution_count": 5,
     "metadata": {},
     "output_type": "execute_result"
    }
   ],
   "source": [
    "name[::-1] ##Method 1 to reverse a string"
   ]
  },
  {
   "cell_type": "code",
   "execution_count": 6,
   "id": "78ed2b24",
   "metadata": {
    "scrolled": true
   },
   "outputs": [
    {
     "data": {
      "text/plain": [
       "<reversed at 0x22912c1dd00>"
      ]
     },
     "execution_count": 6,
     "metadata": {},
     "output_type": "execute_result"
    }
   ],
   "source": [
    "reversed(name)"
   ]
  },
  {
   "cell_type": "code",
   "execution_count": 7,
   "id": "ee41ef9e",
   "metadata": {},
   "outputs": [
    {
     "data": {
      "text/plain": [
       "'sretsaM ecneics ataD'"
      ]
     },
     "execution_count": 7,
     "metadata": {},
     "output_type": "execute_result"
    }
   ],
   "source": [
    "''.join(reversed(name)) ##Method 2 to reverse a string"
   ]
  },
  {
   "cell_type": "code",
   "execution_count": 8,
   "id": "7c622687",
   "metadata": {},
   "outputs": [
    {
     "data": {
      "text/plain": [
       "'FCaptainlCaptainiCaptainnCaptaint'"
      ]
     },
     "execution_count": 8,
     "metadata": {},
     "output_type": "execute_result"
    }
   ],
   "source": [
    "\"Captain\".join(\"Flint\")"
   ]
  },
  {
   "cell_type": "code",
   "execution_count": 9,
   "id": "c201dfc8",
   "metadata": {},
   "outputs": [
    {
     "data": {
      "text/plain": [
       "'F l i n t'"
      ]
     },
     "execution_count": 9,
     "metadata": {},
     "output_type": "execute_result"
    }
   ],
   "source": [
    "\" \".join('Flint') ##join function"
   ]
  },
  {
   "cell_type": "code",
   "execution_count": 10,
   "id": "f6651c9b",
   "metadata": {},
   "outputs": [
    {
     "data": {
      "text/plain": [
       "'S L L I K S W P'"
      ]
     },
     "execution_count": 10,
     "metadata": {},
     "output_type": "execute_result"
    }
   ],
   "source": [
    "' '.join(reversed('PWSKILLS'))"
   ]
  },
  {
   "cell_type": "code",
   "execution_count": 11,
   "id": "24ee9aeb",
   "metadata": {},
   "outputs": [
    {
     "data": {
      "text/plain": [
       "'A \\n B \\n C \\n D \\n E \\n F \\n G'"
      ]
     },
     "execution_count": 11,
     "metadata": {},
     "output_type": "execute_result"
    }
   ],
   "source": [
    "\" \\n \".join(\"ABCDEFG\") ##Guess \\n does not work here then"
   ]
  },
  {
   "cell_type": "code",
   "execution_count": 12,
   "id": "e3c87c69",
   "metadata": {},
   "outputs": [
    {
     "data": {
      "text/plain": [
       "<reversed at 0x22912c6c400>"
      ]
     },
     "execution_count": 12,
     "metadata": {},
     "output_type": "execute_result"
    }
   ],
   "source": [
    "reversed('ant')"
   ]
  },
  {
   "cell_type": "code",
   "execution_count": 13,
   "id": "61ca3c12",
   "metadata": {},
   "outputs": [],
   "source": [
    "##typecasting\n",
    "a=list(reversed('ant'))"
   ]
  },
  {
   "cell_type": "code",
   "execution_count": 14,
   "id": "f2042c2e",
   "metadata": {},
   "outputs": [
    {
     "data": {
      "text/plain": [
       "'<reversed object at 0x0000022912C6C1F0>'"
      ]
     },
     "execution_count": 14,
     "metadata": {},
     "output_type": "execute_result"
    }
   ],
   "source": [
    "str(reversed('ant'))"
   ]
  },
  {
   "cell_type": "code",
   "execution_count": 15,
   "id": "2baf6e40",
   "metadata": {},
   "outputs": [
    {
     "name": "stdout",
     "output_type": "stream",
     "text": [
      "tna"
     ]
    }
   ],
   "source": [
    "for i in a:\n",
    "    print(i,end='')"
   ]
  },
  {
   "cell_type": "code",
   "execution_count": 16,
   "id": "b37ba456",
   "metadata": {},
   "outputs": [],
   "source": [
    "##Removing chracter from the end of a string"
   ]
  },
  {
   "cell_type": "code",
   "execution_count": 17,
   "id": "cdb3271b",
   "metadata": {},
   "outputs": [],
   "source": [
    "string_a=\" tennal \""
   ]
  },
  {
   "cell_type": "code",
   "execution_count": 18,
   "id": "f310092e",
   "metadata": {},
   "outputs": [
    {
     "data": {
      "text/plain": [
       "'tennal'"
      ]
     },
     "execution_count": 18,
     "metadata": {},
     "output_type": "execute_result"
    }
   ],
   "source": [
    "string_a.strip()\n",
    "## Return a copy of the string with leading and trailing whitespace removed"
   ]
  },
  {
   "cell_type": "code",
   "execution_count": 19,
   "id": "8e22dc71",
   "metadata": {},
   "outputs": [
    {
     "data": {
      "text/plain": [
       "'tennal '"
      ]
     },
     "execution_count": 19,
     "metadata": {},
     "output_type": "execute_result"
    }
   ],
   "source": [
    "string_a.lstrip()\n",
    "## leading whitespace removed"
   ]
  },
  {
   "cell_type": "code",
   "execution_count": 20,
   "id": "f1169149",
   "metadata": {},
   "outputs": [
    {
     "data": {
      "text/plain": [
       "' tennal'"
      ]
     },
     "execution_count": 20,
     "metadata": {},
     "output_type": "execute_result"
    }
   ],
   "source": [
    "string_a.rstrip()\n",
    "## trailing whitespace removed"
   ]
  },
  {
   "cell_type": "code",
   "execution_count": 21,
   "id": "3f52b3b3",
   "metadata": {},
   "outputs": [
    {
     "data": {
      "text/plain": [
       "'Welcome to PWSkills'"
      ]
     },
     "execution_count": 21,
     "metadata": {},
     "output_type": "execute_result"
    }
   ],
   "source": [
    "string_n=\"Greetings to PWSkills\"\n",
    "string_n.replace(\"Greetings\",\"Welcome\")"
   ]
  },
  {
   "cell_type": "code",
   "execution_count": 22,
   "id": "f5323d9f",
   "metadata": {},
   "outputs": [],
   "source": [
    "string_n=\"Greetings to PWSkills\"\n",
    "var_a=string_n.replace(\"G\",\"T\")"
   ]
  },
  {
   "cell_type": "code",
   "execution_count": 23,
   "id": "6f0f000d",
   "metadata": {},
   "outputs": [
    {
     "name": "stdout",
     "output_type": "stream",
     "text": [
      "2375448584880\n",
      "2375448585760\n"
     ]
    }
   ],
   "source": [
    "print(id(string_n))\n",
    "print(id(var_a))\n",
    "## replace() function creates a new copy of the string"
   ]
  },
  {
   "cell_type": "code",
   "execution_count": 24,
   "id": "7814b9f9",
   "metadata": {},
   "outputs": [
    {
     "data": {
      "text/plain": [
       "'test gmail.com'"
      ]
     },
     "execution_count": 24,
     "metadata": {},
     "output_type": "execute_result"
    }
   ],
   "source": [
    "string_n=\"test@gmail.com\"\n",
    "var_a=string_n.replace(\"@\",\" \")\n",
    "var_a"
   ]
  },
  {
   "cell_type": "code",
   "execution_count": 25,
   "id": "2b025031",
   "metadata": {},
   "outputs": [
    {
     "data": {
      "text/plain": [
       "'hello \\tworld'"
      ]
     },
     "execution_count": 25,
     "metadata": {},
     "output_type": "execute_result"
    }
   ],
   "source": [
    "\"hello \\tworld\"\n",
    "## \\t will not work unless it is in print"
   ]
  },
  {
   "cell_type": "code",
   "execution_count": 26,
   "id": "41ff1fba",
   "metadata": {},
   "outputs": [
    {
     "name": "stdout",
     "output_type": "stream",
     "text": [
      "hello \tworld\n"
     ]
    }
   ],
   "source": [
    "print(\"hello \\tworld\")"
   ]
  },
  {
   "cell_type": "code",
   "execution_count": 27,
   "id": "0aee2a34",
   "metadata": {},
   "outputs": [
    {
     "data": {
      "text/plain": [
       "'hello   world'"
      ]
     },
     "execution_count": 27,
     "metadata": {},
     "output_type": "execute_result"
    }
   ],
   "source": [
    "'hello \\tworld'.expandtabs()\n",
    "## expandtabs will help execute \\t"
   ]
  },
  {
   "cell_type": "code",
   "execution_count": 28,
   "id": "7b597567",
   "metadata": {},
   "outputs": [],
   "source": [
    "str1=\"Welcome to PWSkills.Welcome to Dat cience Masters \""
   ]
  },
  {
   "cell_type": "code",
   "execution_count": 29,
   "id": "c7d7f162",
   "metadata": {},
   "outputs": [
    {
     "data": {
      "text/plain": [
       "'Welcome to PWSkills.Welcome to Dat cience Masters '"
      ]
     },
     "execution_count": 29,
     "metadata": {},
     "output_type": "execute_result"
    }
   ],
   "source": [
    "str1.replace(\"Dat\",\"Data\")\n",
    "str1.replace(\"cience\",'Science')\n",
    "str1"
   ]
  },
  {
   "cell_type": "code",
   "execution_count": 30,
   "id": "8f147128",
   "metadata": {},
   "outputs": [
    {
     "data": {
      "text/plain": [
       "'Welcome to PWSkills.Welcome to Dat cience Masters '"
      ]
     },
     "execution_count": 30,
     "metadata": {},
     "output_type": "execute_result"
    }
   ],
   "source": [
    "str1"
   ]
  },
  {
   "cell_type": "code",
   "execution_count": 31,
   "id": "d1ae31bb",
   "metadata": {},
   "outputs": [
    {
     "data": {
      "text/plain": [
       "False"
      ]
     },
     "execution_count": 31,
     "metadata": {},
     "output_type": "execute_result"
    }
   ],
   "source": [
    "str1.isupper()"
   ]
  },
  {
   "cell_type": "code",
   "execution_count": 32,
   "id": "018ecadb",
   "metadata": {},
   "outputs": [],
   "source": [
    "str1=\"KRUTZ\""
   ]
  },
  {
   "cell_type": "code",
   "execution_count": 33,
   "id": "24331250",
   "metadata": {},
   "outputs": [
    {
     "data": {
      "text/plain": [
       "True"
      ]
     },
     "execution_count": 33,
     "metadata": {},
     "output_type": "execute_result"
    }
   ],
   "source": [
    "str1.isupper()"
   ]
  },
  {
   "cell_type": "code",
   "execution_count": 34,
   "id": "0f3b1aac",
   "metadata": {},
   "outputs": [
    {
     "data": {
      "text/plain": [
       "False"
      ]
     },
     "execution_count": 34,
     "metadata": {},
     "output_type": "execute_result"
    }
   ],
   "source": [
    "str1.islower()"
   ]
  },
  {
   "cell_type": "code",
   "execution_count": 35,
   "id": "4f18f871",
   "metadata": {},
   "outputs": [
    {
     "data": {
      "text/plain": [
       "False"
      ]
     },
     "execution_count": 35,
     "metadata": {},
     "output_type": "execute_result"
    }
   ],
   "source": [
    "str1.isspace()"
   ]
  },
  {
   "cell_type": "code",
   "execution_count": 36,
   "id": "88264519",
   "metadata": {},
   "outputs": [
    {
     "data": {
      "text/plain": [
       "True"
      ]
     },
     "execution_count": 36,
     "metadata": {},
     "output_type": "execute_result"
    }
   ],
   "source": [
    "str_2=\" \"\n",
    "str_2.isspace()"
   ]
  },
  {
   "cell_type": "code",
   "execution_count": 37,
   "id": "b7b5349e",
   "metadata": {},
   "outputs": [
    {
     "data": {
      "text/plain": [
       "False"
      ]
     },
     "execution_count": 37,
     "metadata": {},
     "output_type": "execute_result"
    }
   ],
   "source": [
    "''.isspace()"
   ]
  },
  {
   "cell_type": "code",
   "execution_count": 38,
   "id": "262fa53c",
   "metadata": {},
   "outputs": [],
   "source": [
    "str2=\"pwskills\""
   ]
  },
  {
   "cell_type": "code",
   "execution_count": 39,
   "id": "de200d63",
   "metadata": {},
   "outputs": [
    {
     "data": {
      "text/plain": [
       "True"
      ]
     },
     "execution_count": 39,
     "metadata": {},
     "output_type": "execute_result"
    }
   ],
   "source": [
    "str2.endswith('s')"
   ]
  },
  {
   "cell_type": "code",
   "execution_count": 40,
   "id": "2479f63f",
   "metadata": {},
   "outputs": [
    {
     "data": {
      "text/plain": [
       "False"
      ]
     },
     "execution_count": 40,
     "metadata": {},
     "output_type": "execute_result"
    }
   ],
   "source": [
    "str2.startswith('r')"
   ]
  },
  {
   "cell_type": "code",
   "execution_count": 41,
   "id": "947ef939",
   "metadata": {},
   "outputs": [
    {
     "data": {
      "text/plain": [
       "True"
      ]
     },
     "execution_count": 41,
     "metadata": {},
     "output_type": "execute_result"
    }
   ],
   "source": [
    "## check if all the characters in the tring are alphanumeric\n",
    "a='abcd1234'\n",
    "a.isalnum()"
   ]
  },
  {
   "cell_type": "code",
   "execution_count": 42,
   "id": "7a4dfc80",
   "metadata": {},
   "outputs": [
    {
     "name": "stdout",
     "output_type": "stream",
     "text": [
      "g\n",
      "g\n",
      "g\n",
      "g\n",
      "f\n",
      "f\n",
      "f\n",
      "f\n"
     ]
    }
   ],
   "source": [
    "for i in a:\n",
    "    if i.isdigit():\n",
    "        print(\"f\")\n",
    "    elif i.isalpha():\n",
    "        print(\"g\")"
   ]
  },
  {
   "cell_type": "code",
   "execution_count": 43,
   "id": "da4a6bbc",
   "metadata": {},
   "outputs": [],
   "source": [
    "## to count the number of characters in the string\n"
   ]
  },
  {
   "cell_type": "code",
   "execution_count": 44,
   "id": "5c388910",
   "metadata": {},
   "outputs": [
    {
     "data": {
      "text/plain": [
       "9"
      ]
     },
     "execution_count": 44,
     "metadata": {},
     "output_type": "execute_result"
    }
   ],
   "source": [
    "a.count('') ## gives one more than actual length"
   ]
  },
  {
   "cell_type": "code",
   "execution_count": 45,
   "id": "7d454124",
   "metadata": {},
   "outputs": [
    {
     "data": {
      "text/plain": [
       "8"
      ]
     },
     "execution_count": 45,
     "metadata": {},
     "output_type": "execute_result"
    }
   ],
   "source": [
    "len(a)"
   ]
  },
  {
   "cell_type": "code",
   "execution_count": 46,
   "id": "025e3bfa",
   "metadata": {},
   "outputs": [
    {
     "name": "stdout",
     "output_type": "stream",
     "text": [
      "8\n"
     ]
    }
   ],
   "source": [
    "count=0\n",
    "for i in str2:\n",
    "    count=count+1\n",
    "print(count)"
   ]
  },
  {
   "cell_type": "code",
   "execution_count": 47,
   "id": "ac7019e3",
   "metadata": {},
   "outputs": [
    {
     "data": {
      "text/plain": [
       "'pwskills'"
      ]
     },
     "execution_count": 47,
     "metadata": {},
     "output_type": "execute_result"
    }
   ],
   "source": [
    "str2"
   ]
  },
  {
   "cell_type": "code",
   "execution_count": 48,
   "id": "341a1310",
   "metadata": {},
   "outputs": [
    {
     "name": "stdout",
     "output_type": "stream",
     "text": [
      "p\n",
      "w\n",
      "s\n",
      "k\n",
      "i\n",
      "l\n",
      "l\n",
      "s\n"
     ]
    }
   ],
   "source": [
    "for i in str2:\n",
    "    print(i)"
   ]
  },
  {
   "cell_type": "code",
   "execution_count": 49,
   "id": "3fb512d4",
   "metadata": {},
   "outputs": [
    {
     "name": "stdout",
     "output_type": "stream",
     "text": [
      "p\n",
      "w\n",
      "s\n",
      "k\n",
      "i\n",
      "l\n",
      "l\n",
      "s\n"
     ]
    }
   ],
   "source": [
    "for i in range(len(str2)):\n",
    "    print(str2[i])"
   ]
  },
  {
   "cell_type": "code",
   "execution_count": 50,
   "id": "9287951a",
   "metadata": {},
   "outputs": [
    {
     "name": "stdout",
     "output_type": "stream",
     "text": [
      "k\n",
      "i\n",
      "l\n",
      "l\n",
      "s\n"
     ]
    }
   ],
   "source": [
    "for i in range(3,len(str2)):\n",
    "    print(str2[i])"
   ]
  },
  {
   "cell_type": "code",
   "execution_count": 51,
   "id": "7efeeb8f",
   "metadata": {},
   "outputs": [],
   "source": [
    "# we can use index to iterate string index direction"
   ]
  },
  {
   "cell_type": "code",
   "execution_count": 52,
   "id": "fc641339",
   "metadata": {
    "scrolled": true
   },
   "outputs": [
    {
     "name": "stdout",
     "output_type": "stream",
     "text": [
      "7  =  s\n",
      "6  =  l\n",
      "5  =  l\n",
      "4  =  i\n",
      "3  =  k\n",
      "2  =  s\n",
      "1  =  w\n",
      "0  =  p\n"
     ]
    }
   ],
   "source": [
    "for i in range(len(str2)-1,-1,-1):\n",
    "    print(i,\" = \",str2[i])"
   ]
  },
  {
   "cell_type": "code",
   "execution_count": 53,
   "id": "f72fcd83",
   "metadata": {},
   "outputs": [
    {
     "name": "stdout",
     "output_type": "stream",
     "text": [
      "s\n",
      "l\n",
      "l\n",
      "i\n",
      "k\n",
      "s\n",
      "w\n",
      "p\n"
     ]
    }
   ],
   "source": [
    "string=\"pwskills\"\n",
    "ch=len(string)-1\n",
    "while ch>=0:\n",
    "    print(string[ch])\n",
    "    ch=ch-1"
   ]
  },
  {
   "cell_type": "code",
   "execution_count": 54,
   "id": "1146376a",
   "metadata": {},
   "outputs": [
    {
     "name": "stdout",
     "output_type": "stream",
     "text": [
      "s\n",
      "l\n",
      "l\n",
      "i\n",
      "k\n",
      "s\n",
      "w\n",
      "p\n"
     ]
    }
   ],
   "source": [
    "for i in range(len(str2)):\n",
    "    print(str2[len(str2)-(i+1)])"
   ]
  },
  {
   "cell_type": "code",
   "execution_count": 55,
   "id": "27701e0c",
   "metadata": {},
   "outputs": [
    {
     "name": "stdout",
     "output_type": "stream",
     "text": [
      "K is not a vowel\n",
      "r is not a vowel\n",
      "u is a vowel\n",
      "t is not a vowel\n",
      "i is a vowel\n",
      "k is not a vowel\n",
      "a is a vowel\n"
     ]
    }
   ],
   "source": [
    "name=\"Krutika\"\n",
    "vowels=\"AaEeIiOoUu\"\n",
    "for i in name:\n",
    "    if i in vowels:\n",
    "        print(i,\"is a vowel\")\n",
    "    else:\n",
    "        print(i, \"is not a vowel\")"
   ]
  },
  {
   "cell_type": "markdown",
   "id": "9c92e346",
   "metadata": {},
   "source": [
    "# Lists"
   ]
  },
  {
   "cell_type": "code",
   "execution_count": 56,
   "id": "4bdda589",
   "metadata": {},
   "outputs": [
    {
     "data": {
      "text/plain": [
       "'pwskills'"
      ]
     },
     "execution_count": 56,
     "metadata": {},
     "output_type": "execute_result"
    }
   ],
   "source": [
    "str2"
   ]
  },
  {
   "cell_type": "code",
   "execution_count": 57,
   "id": "69137c9d",
   "metadata": {},
   "outputs": [
    {
     "data": {
      "text/plain": [
       "['p', 'w', 's', 'k', 'i', 'l', 'l', 's']"
      ]
     },
     "execution_count": 57,
     "metadata": {},
     "output_type": "execute_result"
    }
   ],
   "source": [
    "list(str2)"
   ]
  },
  {
   "cell_type": "code",
   "execution_count": 58,
   "id": "0772d057",
   "metadata": {},
   "outputs": [],
   "source": [
    "str1=\"Pwskills data science masters\""
   ]
  },
  {
   "cell_type": "code",
   "execution_count": 59,
   "id": "1b59fd3c",
   "metadata": {},
   "outputs": [
    {
     "data": {
      "text/plain": [
       "['Pwskills', 'data', 'science', 'masters']"
      ]
     },
     "execution_count": 59,
     "metadata": {},
     "output_type": "execute_result"
    }
   ],
   "source": [
    "str1.split(\" \")"
   ]
  },
  {
   "cell_type": "code",
   "execution_count": 60,
   "id": "a7b4ae46",
   "metadata": {},
   "outputs": [
    {
     "data": {
      "text/plain": [
       "['Pwskills', 'data', 'science', 'masters']"
      ]
     },
     "execution_count": 60,
     "metadata": {},
     "output_type": "execute_result"
    }
   ],
   "source": [
    "list(str1.split(\" \"))"
   ]
  },
  {
   "cell_type": "code",
   "execution_count": 61,
   "id": "06ef0091",
   "metadata": {},
   "outputs": [],
   "source": [
    "lst1=str1.split(\" \")"
   ]
  },
  {
   "cell_type": "code",
   "execution_count": 62,
   "id": "0aac28a2",
   "metadata": {},
   "outputs": [
    {
     "data": {
      "text/plain": [
       "['data', 'science', 'masters']"
      ]
     },
     "execution_count": 62,
     "metadata": {},
     "output_type": "execute_result"
    }
   ],
   "source": [
    "lst1[1:]"
   ]
  },
  {
   "cell_type": "code",
   "execution_count": 63,
   "id": "2023956a",
   "metadata": {},
   "outputs": [
    {
     "data": {
      "text/plain": [
       "['data', 'science']"
      ]
     },
     "execution_count": 63,
     "metadata": {},
     "output_type": "execute_result"
    }
   ],
   "source": [
    "lst1[1:3]"
   ]
  },
  {
   "cell_type": "code",
   "execution_count": 64,
   "id": "5000f584",
   "metadata": {},
   "outputs": [],
   "source": [
    "lst1[1]=\"Datas\""
   ]
  },
  {
   "cell_type": "code",
   "execution_count": 65,
   "id": "3c98f70f",
   "metadata": {},
   "outputs": [
    {
     "data": {
      "text/plain": [
       "['Pwskills', 'Datas', 'science', 'masters']"
      ]
     },
     "execution_count": 65,
     "metadata": {},
     "output_type": "execute_result"
    }
   ],
   "source": [
    "lst1"
   ]
  },
  {
   "cell_type": "code",
   "execution_count": 66,
   "id": "6cd14886",
   "metadata": {},
   "outputs": [
    {
     "data": {
      "text/plain": [
       "['masters', 'Datas']"
      ]
     },
     "execution_count": 66,
     "metadata": {},
     "output_type": "execute_result"
    }
   ],
   "source": [
    "lst1[::-2]"
   ]
  },
  {
   "cell_type": "code",
   "execution_count": 67,
   "id": "1a7cf46d",
   "metadata": {},
   "outputs": [
    {
     "data": {
      "text/plain": [
       "['Pwskills']"
      ]
     },
     "execution_count": 67,
     "metadata": {},
     "output_type": "execute_result"
    }
   ],
   "source": [
    "lst1[-4::-2]"
   ]
  },
  {
   "cell_type": "code",
   "execution_count": 68,
   "id": "b33001f5",
   "metadata": {},
   "outputs": [
    {
     "data": {
      "text/plain": [
       "['masters', 'Datas']"
      ]
     },
     "execution_count": 68,
     "metadata": {},
     "output_type": "execute_result"
    }
   ],
   "source": [
    "lst1[-1:-4:-2]"
   ]
  },
  {
   "cell_type": "code",
   "execution_count": 69,
   "id": "8e3f8d10",
   "metadata": {},
   "outputs": [],
   "source": [
    "#concatenation operation"
   ]
  },
  {
   "cell_type": "code",
   "execution_count": 70,
   "id": "fd6cd475",
   "metadata": {},
   "outputs": [
    {
     "data": {
      "text/plain": [
       "['Pwskills', 'Datas', 'science', 'masters', 'new element', 3]"
      ]
     },
     "execution_count": 70,
     "metadata": {},
     "output_type": "execute_result"
    }
   ],
   "source": [
    "lst1+[\"new element\",3]"
   ]
  },
  {
   "cell_type": "code",
   "execution_count": 71,
   "id": "f3722125",
   "metadata": {},
   "outputs": [],
   "source": [
    "lst2=lst1+[[\"new element\",3]]\n",
    "##multinested lists or smthg"
   ]
  },
  {
   "cell_type": "code",
   "execution_count": 72,
   "id": "bd77c2b8",
   "metadata": {},
   "outputs": [
    {
     "data": {
      "text/plain": [
       "['Pwskills', 'Datas', 'science', 'masters', ['new element', 3]]"
      ]
     },
     "execution_count": 72,
     "metadata": {},
     "output_type": "execute_result"
    }
   ],
   "source": [
    "lst2"
   ]
  },
  {
   "cell_type": "code",
   "execution_count": 73,
   "id": "53d26a74",
   "metadata": {},
   "outputs": [
    {
     "data": {
      "text/plain": [
       "['new element', 3]"
      ]
     },
     "execution_count": 73,
     "metadata": {},
     "output_type": "execute_result"
    }
   ],
   "source": [
    "lst2[-1]"
   ]
  },
  {
   "cell_type": "code",
   "execution_count": 74,
   "id": "bf92a913",
   "metadata": {},
   "outputs": [
    {
     "data": {
      "text/plain": [
       "'new element'"
      ]
     },
     "execution_count": 74,
     "metadata": {},
     "output_type": "execute_result"
    }
   ],
   "source": [
    "lst2[-1][0]"
   ]
  },
  {
   "cell_type": "code",
   "execution_count": 75,
   "id": "4e6ce53a",
   "metadata": {},
   "outputs": [
    {
     "data": {
      "text/plain": [
       "['Pwskills',\n",
       " 'Datas',\n",
       " 'science',\n",
       " 'masters',\n",
       " 'Pwskills',\n",
       " 'Datas',\n",
       " 'science',\n",
       " 'masters']"
      ]
     },
     "execution_count": 75,
     "metadata": {},
     "output_type": "execute_result"
    }
   ],
   "source": [
    "lst1 * 2"
   ]
  },
  {
   "cell_type": "code",
   "execution_count": 76,
   "id": "b7b89c66",
   "metadata": {},
   "outputs": [
    {
     "name": "stdout",
     "output_type": "stream",
     "text": [
      "science\n"
     ]
    }
   ],
   "source": [
    "for i in lst1:\n",
    "     if i==\"science\":\n",
    "        print(i)\n",
    "        break"
   ]
  },
  {
   "cell_type": "code",
   "execution_count": 77,
   "id": "c8997e7b",
   "metadata": {},
   "outputs": [
    {
     "name": "stdout",
     "output_type": "stream",
     "text": [
      "oh ya\n"
     ]
    }
   ],
   "source": [
    "if \"science\" in lst1:\n",
    "    print(\"oh ya\")"
   ]
  },
  {
   "cell_type": "code",
   "execution_count": 78,
   "id": "1e4cdcc7",
   "metadata": {},
   "outputs": [
    {
     "data": {
      "text/plain": [
       "True"
      ]
     },
     "execution_count": 78,
     "metadata": {},
     "output_type": "execute_result"
    }
   ],
   "source": [
    "lst=[1,2,3,4]\n",
    "4 in lst"
   ]
  },
  {
   "cell_type": "code",
   "execution_count": 79,
   "id": "ef2824d1",
   "metadata": {},
   "outputs": [],
   "source": [
    "lst1=[\"Zebra\",\"Monkey\",\"Donkey\",\"Lion\"]\n",
    "lst2=[5,6,2,9,5,8,6]"
   ]
  },
  {
   "cell_type": "code",
   "execution_count": 80,
   "id": "74ec93f4",
   "metadata": {},
   "outputs": [
    {
     "name": "stdout",
     "output_type": "stream",
     "text": [
      "Zebra\n"
     ]
    }
   ],
   "source": [
    "print(max(lst1))"
   ]
  },
  {
   "cell_type": "code",
   "execution_count": 81,
   "id": "fe0d2b02",
   "metadata": {},
   "outputs": [
    {
     "data": {
      "text/plain": [
       "2"
      ]
     },
     "execution_count": 81,
     "metadata": {},
     "output_type": "execute_result"
    }
   ],
   "source": [
    "min(lst2)"
   ]
  },
  {
   "cell_type": "code",
   "execution_count": 82,
   "id": "5d271be4",
   "metadata": {},
   "outputs": [
    {
     "data": {
      "text/plain": [
       "'Donkey'"
      ]
     },
     "execution_count": 82,
     "metadata": {},
     "output_type": "execute_result"
    }
   ],
   "source": [
    "min(lst1)"
   ]
  },
  {
   "cell_type": "code",
   "execution_count": 83,
   "id": "57e4a864",
   "metadata": {},
   "outputs": [
    {
     "data": {
      "text/plain": [
       "9"
      ]
     },
     "execution_count": 83,
     "metadata": {},
     "output_type": "execute_result"
    }
   ],
   "source": [
    "max(lst2)"
   ]
  },
  {
   "cell_type": "code",
   "execution_count": 84,
   "id": "d3c30f02",
   "metadata": {},
   "outputs": [
    {
     "data": {
      "text/plain": [
       "False"
      ]
     },
     "execution_count": 84,
     "metadata": {},
     "output_type": "execute_result"
    }
   ],
   "source": [
    "1.9 in lst2"
   ]
  },
  {
   "cell_type": "code",
   "execution_count": 85,
   "id": "aea01c5e",
   "metadata": {},
   "outputs": [
    {
     "data": {
      "text/plain": [
       "False"
      ]
     },
     "execution_count": 85,
     "metadata": {},
     "output_type": "execute_result"
    }
   ],
   "source": [
    "1.9999999999 in lst2"
   ]
  },
  {
   "cell_type": "code",
   "execution_count": 86,
   "id": "4d9b4ccf",
   "metadata": {},
   "outputs": [
    {
     "data": {
      "text/plain": [
       "True"
      ]
     },
     "execution_count": 86,
     "metadata": {},
     "output_type": "execute_result"
    }
   ],
   "source": [
    "1.99999999999999999999999 in lst2  ##bug?"
   ]
  },
  {
   "cell_type": "code",
   "execution_count": 87,
   "id": "6a724564",
   "metadata": {},
   "outputs": [
    {
     "data": {
      "text/plain": [
       "True"
      ]
     },
     "execution_count": 87,
     "metadata": {},
     "output_type": "execute_result"
    }
   ],
   "source": [
    "5==5.0"
   ]
  },
  {
   "cell_type": "code",
   "execution_count": 88,
   "id": "68b64e95",
   "metadata": {},
   "outputs": [
    {
     "data": {
      "text/plain": [
       "True"
      ]
     },
     "execution_count": 88,
     "metadata": {},
     "output_type": "execute_result"
    }
   ],
   "source": [
    "lst3=[5,6,2,9,5,8,6]\n",
    "type(lst3[0])  ## output is integer\n",
    "type(5.0)  ### output is float\n",
    "5.0 in lst3 ## output is TRUE"
   ]
  },
  {
   "cell_type": "code",
   "execution_count": 89,
   "id": "b6792c3c",
   "metadata": {},
   "outputs": [],
   "source": [
    "##Append"
   ]
  },
  {
   "cell_type": "code",
   "execution_count": 90,
   "id": "3b087d76",
   "metadata": {},
   "outputs": [],
   "source": [
    "lst=[1,2,3,4,5,6]"
   ]
  },
  {
   "cell_type": "code",
   "execution_count": 91,
   "id": "103a9593",
   "metadata": {},
   "outputs": [
    {
     "data": {
      "text/plain": [
       "[1, 2, 3, 4, 5, 6]"
      ]
     },
     "execution_count": 91,
     "metadata": {},
     "output_type": "execute_result"
    }
   ],
   "source": [
    "lst"
   ]
  },
  {
   "cell_type": "code",
   "execution_count": 92,
   "id": "56e278a7",
   "metadata": {},
   "outputs": [],
   "source": [
    "lst.append(\"PwSkills\")\n",
    "##Append object to the end of the list\n",
    "##Append is \"in-place\" operation"
   ]
  },
  {
   "cell_type": "code",
   "execution_count": 93,
   "id": "bcf6b139",
   "metadata": {},
   "outputs": [
    {
     "data": {
      "text/plain": [
       "[1, 2, 3, 4, 5, 6, 'PwSkills']"
      ]
     },
     "execution_count": 93,
     "metadata": {},
     "output_type": "execute_result"
    }
   ],
   "source": [
    "lst"
   ]
  },
  {
   "cell_type": "code",
   "execution_count": 94,
   "id": "b1eb15c7",
   "metadata": {},
   "outputs": [],
   "source": [
    "lst.append([\"Data\",\"Science\",\"Masters\"])"
   ]
  },
  {
   "cell_type": "code",
   "execution_count": 95,
   "id": "939b7e7a",
   "metadata": {},
   "outputs": [
    {
     "data": {
      "text/plain": [
       "[1, 2, 3, 4, 5, 6, 'PwSkills', ['Data', 'Science', 'Masters']]"
      ]
     },
     "execution_count": 95,
     "metadata": {},
     "output_type": "execute_result"
    }
   ],
   "source": [
    "lst"
   ]
  },
  {
   "cell_type": "code",
   "execution_count": 96,
   "id": "63d3b5ff",
   "metadata": {},
   "outputs": [
    {
     "data": {
      "text/plain": [
       "['Zebra', 'Monkey', 'Donkey', 'Lion']"
      ]
     },
     "execution_count": 96,
     "metadata": {},
     "output_type": "execute_result"
    }
   ],
   "source": [
    "lst1"
   ]
  },
  {
   "cell_type": "code",
   "execution_count": 97,
   "id": "794b3c7c",
   "metadata": {},
   "outputs": [
    {
     "data": {
      "text/plain": [
       "'Lion'"
      ]
     },
     "execution_count": 97,
     "metadata": {},
     "output_type": "execute_result"
    }
   ],
   "source": [
    "lst1.pop()\n",
    "#Remove and return item at index\n",
    "#Default index is -1\n",
    "#\"in-place\" operation"
   ]
  },
  {
   "cell_type": "code",
   "execution_count": 98,
   "id": "2647ff2e",
   "metadata": {},
   "outputs": [
    {
     "data": {
      "text/plain": [
       "['Zebra', 'Monkey', 'Donkey']"
      ]
     },
     "execution_count": 98,
     "metadata": {},
     "output_type": "execute_result"
    }
   ],
   "source": [
    "lst1"
   ]
  },
  {
   "cell_type": "code",
   "execution_count": 99,
   "id": "6abc8e26",
   "metadata": {},
   "outputs": [
    {
     "data": {
      "text/plain": [
       "'Donkey'"
      ]
     },
     "execution_count": 99,
     "metadata": {},
     "output_type": "execute_result"
    }
   ],
   "source": [
    "lst1.pop(2)"
   ]
  },
  {
   "cell_type": "code",
   "execution_count": 100,
   "id": "e60f3406",
   "metadata": {},
   "outputs": [
    {
     "data": {
      "text/plain": [
       "['Zebra', 'Monkey']"
      ]
     },
     "execution_count": 100,
     "metadata": {},
     "output_type": "execute_result"
    }
   ],
   "source": [
    "lst1"
   ]
  },
  {
   "cell_type": "code",
   "execution_count": 101,
   "id": "7f798203",
   "metadata": {},
   "outputs": [],
   "source": [
    "lst1=['Zebra', 'Monkey', 'Donkey', 'Lion']"
   ]
  },
  {
   "cell_type": "code",
   "execution_count": 102,
   "id": "0d342a91",
   "metadata": {},
   "outputs": [
    {
     "data": {
      "text/plain": [
       "'Zebra'"
      ]
     },
     "execution_count": 102,
     "metadata": {},
     "output_type": "execute_result"
    }
   ],
   "source": [
    "removed_element=lst1.pop(0)\n",
    "removed_element"
   ]
  },
  {
   "cell_type": "code",
   "execution_count": 103,
   "id": "dc0b1463",
   "metadata": {},
   "outputs": [],
   "source": [
    "#Sorting and reverse method in lists"
   ]
  },
  {
   "cell_type": "code",
   "execution_count": 104,
   "id": "0f9af0f0",
   "metadata": {},
   "outputs": [
    {
     "data": {
      "text/plain": [
       "['q', 'e', 'f', 's', 't', 'u']"
      ]
     },
     "execution_count": 104,
     "metadata": {},
     "output_type": "execute_result"
    }
   ],
   "source": [
    "new_list=['q','e','f','s','t','u']\n",
    "new_list"
   ]
  },
  {
   "cell_type": "code",
   "execution_count": 105,
   "id": "ed8094fb",
   "metadata": {},
   "outputs": [
    {
     "data": {
      "text/plain": [
       "['u', 't', 's', 'f', 'e', 'q']"
      ]
     },
     "execution_count": 105,
     "metadata": {},
     "output_type": "execute_result"
    }
   ],
   "source": [
    "new_list[::-1]"
   ]
  },
  {
   "cell_type": "code",
   "execution_count": 106,
   "id": "9441bce8",
   "metadata": {},
   "outputs": [
    {
     "data": {
      "text/plain": [
       "['q', 'e', 'f', 's', 't', 'u']"
      ]
     },
     "execution_count": 106,
     "metadata": {},
     "output_type": "execute_result"
    }
   ],
   "source": [
    "new_list\n",
    "##list is not updated, so, not an \"in-place\" operation"
   ]
  },
  {
   "cell_type": "code",
   "execution_count": 107,
   "id": "3b3bed59",
   "metadata": {},
   "outputs": [],
   "source": [
    "new_list.reverse()\n",
    "#reverse() is in-place operation"
   ]
  },
  {
   "cell_type": "code",
   "execution_count": 108,
   "id": "ec75363c",
   "metadata": {},
   "outputs": [
    {
     "data": {
      "text/plain": [
       "['u', 't', 's', 'f', 'e', 'q']"
      ]
     },
     "execution_count": 108,
     "metadata": {},
     "output_type": "execute_result"
    }
   ],
   "source": [
    "new_list"
   ]
  },
  {
   "cell_type": "code",
   "execution_count": 109,
   "id": "c42fc0b4",
   "metadata": {},
   "outputs": [],
   "source": [
    "new_list.sort()\n",
    "#inplace operation\n",
    "#by default this is in ascending order"
   ]
  },
  {
   "cell_type": "code",
   "execution_count": 110,
   "id": "92c60453",
   "metadata": {
    "scrolled": true
   },
   "outputs": [
    {
     "data": {
      "text/plain": [
       "['e', 'f', 'q', 's', 't', 'u']"
      ]
     },
     "execution_count": 110,
     "metadata": {},
     "output_type": "execute_result"
    }
   ],
   "source": [
    "new_list"
   ]
  },
  {
   "cell_type": "code",
   "execution_count": 111,
   "id": "5996c045",
   "metadata": {},
   "outputs": [],
   "source": [
    "new_list.sort(reverse=True)\n",
    "#to sort in descending order"
   ]
  },
  {
   "cell_type": "code",
   "execution_count": 112,
   "id": "a4d04125",
   "metadata": {},
   "outputs": [
    {
     "data": {
      "text/plain": [
       "['u', 't', 's', 'q', 'f', 'e']"
      ]
     },
     "execution_count": 112,
     "metadata": {},
     "output_type": "execute_result"
    }
   ],
   "source": [
    "new_list"
   ]
  },
  {
   "cell_type": "code",
   "execution_count": 113,
   "id": "7778dcbd",
   "metadata": {},
   "outputs": [],
   "source": [
    "lst=[1,2,3,4,5,6]\n",
    "lst.append(10)"
   ]
  },
  {
   "cell_type": "code",
   "execution_count": 114,
   "id": "6bce4320",
   "metadata": {},
   "outputs": [
    {
     "data": {
      "text/plain": [
       "[1, 2, 3, 4, 5, 6, 10, ['pwskills', 'data']]"
      ]
     },
     "execution_count": 114,
     "metadata": {},
     "output_type": "execute_result"
    }
   ],
   "source": [
    "lst.append([\"pwskills\",'data'])\n",
    "lst"
   ]
  },
  {
   "cell_type": "code",
   "execution_count": 115,
   "id": "21daf064",
   "metadata": {},
   "outputs": [],
   "source": [
    "lst=[1,2,3,4,5,6]\n",
    "lst.extend([\"pwskills\",'data'])"
   ]
  },
  {
   "cell_type": "code",
   "execution_count": 116,
   "id": "8bfb6f22",
   "metadata": {},
   "outputs": [
    {
     "data": {
      "text/plain": [
       "[1, 2, 3, 4, 5, 6, 'pwskills', 'data']"
      ]
     },
     "execution_count": 116,
     "metadata": {},
     "output_type": "execute_result"
    }
   ],
   "source": [
    "lst"
   ]
  },
  {
   "cell_type": "markdown",
   "id": "6739ba7c",
   "metadata": {},
   "source": [
    "## Nested List"
   ]
  },
  {
   "cell_type": "code",
   "execution_count": 117,
   "id": "ec1dd271",
   "metadata": {},
   "outputs": [],
   "source": [
    "#Lets make three lists\n",
    "lst_1=[1,2,3]\n",
    "lst_2=[4,5,6]\n",
    "lst_3=[7,8,9]\n",
    "\n",
    "#make a list of three lists to form a matrix\n",
    "matrix=[lst_1,lst_2,lst_3]"
   ]
  },
  {
   "cell_type": "code",
   "execution_count": 118,
   "id": "db1c5301",
   "metadata": {},
   "outputs": [
    {
     "data": {
      "text/plain": [
       "[[1, 2, 3], [4, 5, 6], [7, 8, 9]]"
      ]
     },
     "execution_count": 118,
     "metadata": {},
     "output_type": "execute_result"
    }
   ],
   "source": [
    "matrix"
   ]
  },
  {
   "cell_type": "code",
   "execution_count": 119,
   "id": "7e3e9d46",
   "metadata": {},
   "outputs": [
    {
     "data": {
      "text/plain": [
       "6"
      ]
     },
     "execution_count": 119,
     "metadata": {},
     "output_type": "execute_result"
    }
   ],
   "source": [
    "matrix[1][2]"
   ]
  },
  {
   "cell_type": "code",
   "execution_count": 120,
   "id": "d45c98f9",
   "metadata": {},
   "outputs": [
    {
     "data": {
      "text/plain": [
       "[7, 8, 9]"
      ]
     },
     "execution_count": 120,
     "metadata": {},
     "output_type": "execute_result"
    }
   ],
   "source": [
    "matrix[2]"
   ]
  },
  {
   "cell_type": "code",
   "execution_count": 121,
   "id": "16d73d81",
   "metadata": {},
   "outputs": [
    {
     "data": {
      "text/plain": [
       "[8, 9]"
      ]
     },
     "execution_count": 121,
     "metadata": {},
     "output_type": "execute_result"
    }
   ],
   "source": [
    "matrix[2][1:]"
   ]
  },
  {
   "cell_type": "code",
   "execution_count": 122,
   "id": "1a18531a",
   "metadata": {},
   "outputs": [],
   "source": [
    "## List comprehension"
   ]
  },
  {
   "cell_type": "code",
   "execution_count": 123,
   "id": "326adaf8",
   "metadata": {},
   "outputs": [
    {
     "data": {
      "text/plain": [
       "[0, 1, 2, 3, 4, 5, 6, 7, 8, 9, 10, 11, 12, 13, 14, 15, 16, 17, 18, 19]"
      ]
     },
     "execution_count": 123,
     "metadata": {},
     "output_type": "execute_result"
    }
   ],
   "source": [
    "[i for i in range(20)]"
   ]
  },
  {
   "cell_type": "code",
   "execution_count": 124,
   "id": "e4c43eed",
   "metadata": {},
   "outputs": [
    {
     "data": {
      "text/plain": [
       "[0, '', 2, '', 4, '', 6, '', 8, '', 10, '', 12, '', 14, '', 16, '', 18, '']"
      ]
     },
     "execution_count": 124,
     "metadata": {},
     "output_type": "execute_result"
    }
   ],
   "source": [
    "#even numbers\n",
    "[i if i%2==0 else '' for i in range(20)]"
   ]
  },
  {
   "cell_type": "code",
   "execution_count": 125,
   "id": "53410435",
   "metadata": {},
   "outputs": [],
   "source": [
    "#Assignment\n",
    "#sum of even and odd numbers\n",
    "lst=[1,2,3,4,5,6,7,8]"
   ]
  },
  {
   "cell_type": "code",
   "execution_count": 126,
   "id": "54ad8881",
   "metadata": {},
   "outputs": [
    {
     "name": "stdout",
     "output_type": "stream",
     "text": [
      "odd sum 16\n",
      "even sum 20\n"
     ]
    }
   ],
   "source": [
    "##normal method\n",
    "\n",
    "lst=[1,2,3,4,5,6,7,8]\n",
    "even_sum=0\n",
    "odd_sum=0\n",
    "for i in lst:\n",
    "    if i%2==0:\n",
    "        even_sum+=i\n",
    "    else:\n",
    "        odd_sum+=i\n",
    "\n",
    "print(\"odd sum\", odd_sum)\n",
    "print(\"even sum {}\".format(even_sum))\n",
    "    "
   ]
  },
  {
   "cell_type": "code",
   "execution_count": 129,
   "id": "1175f77d",
   "metadata": {},
   "outputs": [],
   "source": [
    "##list comprehension method\n",
    "even_sum=sum([num for num in lst if num%2==0])"
   ]
  },
  {
   "cell_type": "code",
   "execution_count": 135,
   "id": "689f6dd7",
   "metadata": {},
   "outputs": [
    {
     "data": {
      "text/plain": [
       "[2, 4, 6, 8]"
      ]
     },
     "execution_count": 135,
     "metadata": {},
     "output_type": "execute_result"
    }
   ],
   "source": [
    "[num for num in lst if num%2==0]\n",
    "#if condition can be written on both sides"
   ]
  },
  {
   "cell_type": "code",
   "execution_count": 130,
   "id": "8a0d78dc",
   "metadata": {},
   "outputs": [
    {
     "data": {
      "text/plain": [
       "20"
      ]
     },
     "execution_count": 130,
     "metadata": {},
     "output_type": "execute_result"
    }
   ],
   "source": [
    "even_sum"
   ]
  },
  {
   "cell_type": "code",
   "execution_count": 131,
   "id": "61e984e4",
   "metadata": {},
   "outputs": [],
   "source": [
    "odd_sum=sum([num for num in lst if num%2!=0])"
   ]
  },
  {
   "cell_type": "code",
   "execution_count": 133,
   "id": "a5703b39",
   "metadata": {},
   "outputs": [
    {
     "data": {
      "text/plain": [
       "16"
      ]
     },
     "execution_count": 133,
     "metadata": {},
     "output_type": "execute_result"
    }
   ],
   "source": [
    "odd_sum"
   ]
  },
  {
   "cell_type": "code",
   "execution_count": 136,
   "id": "2622cd17",
   "metadata": {},
   "outputs": [],
   "source": [
    "lst=[1,2,3,4,5,6,7,8,9,10]\n",
    "#find the square of all the numbers"
   ]
  },
  {
   "cell_type": "code",
   "execution_count": 137,
   "id": "c7c6d736",
   "metadata": {},
   "outputs": [
    {
     "data": {
      "text/plain": [
       "[1, 4, 9, 16, 25, 36, 49, 64, 81, 100]"
      ]
     },
     "execution_count": 137,
     "metadata": {},
     "output_type": "execute_result"
    }
   ],
   "source": [
    "[(i*i) for i in lst]\n",
    "##i**2 is also square"
   ]
  },
  {
   "cell_type": "code",
   "execution_count": 138,
   "id": "4d7ac729",
   "metadata": {},
   "outputs": [
    {
     "data": {
      "text/plain": [
       "[1, 8, 27, 64, 125, 216, 343, 512, 729, 1000]"
      ]
     },
     "execution_count": 138,
     "metadata": {},
     "output_type": "execute_result"
    }
   ],
   "source": [
    "[i**3 for i in lst]"
   ]
  },
  {
   "cell_type": "code",
   "execution_count": 139,
   "id": "4f1f6a7e",
   "metadata": {},
   "outputs": [
    {
     "data": {
      "text/plain": [
       "[1, 2, 3, 4]"
      ]
     },
     "execution_count": 139,
     "metadata": {},
     "output_type": "execute_result"
    }
   ],
   "source": [
    "# Example 2: Create a list of only the positive numbers from a given list\n",
    "numbers = [-2, -1, 0, 1, 2, 3, 4]\n",
    "[num for num in numbers if num>0]"
   ]
  },
  {
   "cell_type": "code",
   "execution_count": 140,
   "id": "d3002efa",
   "metadata": {},
   "outputs": [
    {
     "data": {
      "text/plain": [
       "['a', 'b', 'c', 'd']"
      ]
     },
     "execution_count": 140,
     "metadata": {},
     "output_type": "execute_result"
    }
   ],
   "source": [
    "# Example 3: Create a list of only the first letters of words in a list\n",
    "words = ['apple', 'banana', 'cherry', 'date']\n",
    "[word[0] for word in words]"
   ]
  },
  {
   "cell_type": "code",
   "execution_count": 142,
   "id": "50aee05d",
   "metadata": {},
   "outputs": [
    {
     "data": {
      "text/plain": [
       "[32.0, 50.0, 68.0, 86.0, 104.0, 122.0]"
      ]
     },
     "execution_count": 142,
     "metadata": {},
     "output_type": "execute_result"
    }
   ],
   "source": [
    "# Example 4: Convert a list of temperatures from Celsius to Fahrenheit uing list comprehesnion\n",
    "celsius_temperatures = [0, 10, 20, 30, 40, 50]\n",
    "#(9/5)*temp+32\n",
    "[((9/5)*temp+32) for temp in celsius_temperatures]"
   ]
  },
  {
   "cell_type": "code",
   "execution_count": 143,
   "id": "1c9b653a",
   "metadata": {},
   "outputs": [],
   "source": [
    "# Example 5: Flatten a list of lists into a single list\n",
    "lists = [[1, 2, 3], [4, 5, 6], [7, 8, 9]]"
   ]
  },
  {
   "cell_type": "code",
   "execution_count": 144,
   "id": "2a2ddae8",
   "metadata": {},
   "outputs": [
    {
     "data": {
      "text/plain": [
       "[1, 2, 3, 4, 5, 6, 7, 8, 9]"
      ]
     },
     "execution_count": 144,
     "metadata": {},
     "output_type": "execute_result"
    }
   ],
   "source": [
    "[num for sublists in lists for num in sublists] "
   ]
  },
  {
   "cell_type": "code",
   "execution_count": 145,
   "id": "05b661d5",
   "metadata": {},
   "outputs": [],
   "source": [
    "## Assignment \n",
    "## Using both code and list comprehesnion\n",
    "# Example 2: Create a list of only the prime numbers from a given list\n",
    "numbers = [1, 2, 3, 4, 5, 6, 7, 8, 9, 10]"
   ]
  },
  {
   "cell_type": "code",
   "execution_count": 156,
   "id": "203c74e3",
   "metadata": {},
   "outputs": [
    {
     "name": "stdout",
     "output_type": "stream",
     "text": [
      "2  3  5  7  "
     ]
    }
   ],
   "source": [
    "#code\n",
    "for num in numbers:\n",
    "    for i in range(2,num):\n",
    "        if num%i==0:\n",
    "            count+=1\n",
    "    if count==0 and num!=1:\n",
    "        print(num,\" \",end='')\n",
    "    else:\n",
    "        count=0\n",
    "        "
   ]
  },
  {
   "cell_type": "code",
   "execution_count": 157,
   "id": "518b0cf6",
   "metadata": {},
   "outputs": [],
   "source": [
    "# Example 3: Create a list of all the possible combinations of 2 elements from a list\n",
    "# numbers = [1, 2, 3, 4, 5]"
   ]
  },
  {
   "cell_type": "code",
   "execution_count": null,
   "id": "2bfab382",
   "metadata": {},
   "outputs": [],
   "source": []
  }
 ],
 "metadata": {
  "kernelspec": {
   "display_name": "Python 3 (ipykernel)",
   "language": "python",
   "name": "python3"
  },
  "language_info": {
   "codemirror_mode": {
    "name": "ipython",
    "version": 3
   },
   "file_extension": ".py",
   "mimetype": "text/x-python",
   "name": "python",
   "nbconvert_exporter": "python",
   "pygments_lexer": "ipython3",
   "version": "3.9.13"
  }
 },
 "nbformat": 4,
 "nbformat_minor": 5
}
