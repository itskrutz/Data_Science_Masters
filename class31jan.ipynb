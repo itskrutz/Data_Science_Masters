{
 "cells": [
  {
   "cell_type": "markdown",
   "id": "6fb07c1c-9ce8-484c-9787-10dabd09412a",
   "metadata": {
    "tags": []
   },
   "source": [
    "## Logical Operators\n",
    "### And, Or ,Not"
   ]
  },
  {
   "cell_type": "code",
   "execution_count": 6,
   "id": "35947e90-1771-47d8-95f7-f11e64a67757",
   "metadata": {},
   "outputs": [
    {
     "data": {
      "text/plain": [
       "True"
      ]
     },
     "execution_count": 6,
     "metadata": {},
     "output_type": "execute_result"
    }
   ],
   "source": [
    "True and True"
   ]
  },
  {
   "cell_type": "code",
   "execution_count": 7,
   "id": "8013cac7-9192-41c1-baa6-4e10239c1c05",
   "metadata": {},
   "outputs": [
    {
     "data": {
      "text/plain": [
       "False"
      ]
     },
     "execution_count": 7,
     "metadata": {},
     "output_type": "execute_result"
    }
   ],
   "source": [
    "True and False"
   ]
  },
  {
   "cell_type": "code",
   "execution_count": 8,
   "id": "a5ecdb7b-78a4-49b2-acf5-686abb64f3e2",
   "metadata": {
    "tags": []
   },
   "outputs": [
    {
     "data": {
      "text/plain": [
       "True"
      ]
     },
     "execution_count": 8,
     "metadata": {},
     "output_type": "execute_result"
    }
   ],
   "source": [
    "False or True"
   ]
  },
  {
   "cell_type": "code",
   "execution_count": 9,
   "id": "667d77f8-5aeb-4c71-ab51-5a96e63aa386",
   "metadata": {},
   "outputs": [
    {
     "data": {
      "text/plain": [
       "False"
      ]
     },
     "execution_count": 9,
     "metadata": {},
     "output_type": "execute_result"
    }
   ],
   "source": [
    "not True"
   ]
  },
  {
   "cell_type": "code",
   "execution_count": 11,
   "id": "978fd413-af59-42d6-a186-7add36c38842",
   "metadata": {},
   "outputs": [
    {
     "name": "stdout",
     "output_type": "stream",
     "text": [
      "Defined value of START = True\n",
      "Defined value of STOP = False \n",
      "\n",
      "Defined value of START = True\n",
      "Value of STOP by negating START= False \n",
      "\n",
      "Value of START by negating STOP = True\n",
      "Defined value of STOP = False \n",
      "\n"
     ]
    }
   ],
   "source": [
    "# Lets define two variables having boolean values True and False-\n",
    "START = True\n",
    "STOP = False\n",
    "\n",
    "# Print the values as it is\n",
    "print(f\"Defined value of START = {START}\")\n",
    "print(f\"Defined value of STOP = {STOP} \\n\")\n",
    "\n",
    "# if can also be written as - \n",
    "print(f\"Defined value of START = {START}\")\n",
    "print(f\"Value of STOP by negating START= {not START} \\n\")\n",
    "\n",
    "# alternatively -\n",
    "print(f\"Value of START by negating STOP = {not STOP}\")\n",
    "print(f\"Defined value of STOP = {STOP} \\n\")"
   ]
  },
  {
   "cell_type": "code",
   "execution_count": 1,
   "id": "1f940edf-97e0-46ce-952a-af3397f6cde3",
   "metadata": {},
   "outputs": [
    {
     "data": {
      "text/plain": [
       "True"
      ]
     },
     "execution_count": 1,
     "metadata": {},
     "output_type": "execute_result"
    }
   ],
   "source": [
    "not 0"
   ]
  },
  {
   "cell_type": "code",
   "execution_count": 2,
   "id": "beb77fef-f7c4-4cf5-b5ad-0ff0e923188a",
   "metadata": {},
   "outputs": [
    {
     "data": {
      "text/plain": [
       "False"
      ]
     },
     "execution_count": 2,
     "metadata": {},
     "output_type": "execute_result"
    }
   ],
   "source": [
    "not 10"
   ]
  },
  {
   "cell_type": "code",
   "execution_count": 1,
   "id": "30de72a7-3ca9-40e8-82b7-f6e66f7aaeb0",
   "metadata": {},
   "outputs": [
    {
     "data": {
      "text/plain": [
       "0"
      ]
     },
     "execution_count": 1,
     "metadata": {},
     "output_type": "execute_result"
    }
   ],
   "source": [
    "True*False"
   ]
  },
  {
   "cell_type": "code",
   "execution_count": 2,
   "id": "5419cdd5-2779-4c13-8107-4f8ae8401b80",
   "metadata": {},
   "outputs": [
    {
     "data": {
      "text/plain": [
       "True"
      ]
     },
     "execution_count": 2,
     "metadata": {},
     "output_type": "execute_result"
    }
   ],
   "source": [
    "not (False)*False"
   ]
  },
  {
   "cell_type": "code",
   "execution_count": 1,
   "id": "dd36b098-2e90-461f-9376-9d883db27efc",
   "metadata": {},
   "outputs": [],
   "source": [
    "##not is a boolean operator. It will always give the answer in true or false"
   ]
  },
  {
   "cell_type": "markdown",
   "id": "0df9ce72-1154-4170-b43e-a5715bf80aed",
   "metadata": {
    "tags": []
   },
   "source": [
    "### is and is not operators(also id)"
   ]
  },
  {
   "cell_type": "code",
   "execution_count": 43,
   "id": "9ada53a4-c95f-4de0-ac17-c71000339b51",
   "metadata": {},
   "outputs": [],
   "source": [
    "lst_a=[1,2,3,4]\n",
    "lst_b=[1,2,3,4]"
   ]
  },
  {
   "cell_type": "code",
   "execution_count": 7,
   "id": "4608e4b2-2541-42a0-bb95-91c7c9ce32f8",
   "metadata": {},
   "outputs": [
    {
     "name": "stdout",
     "output_type": "stream",
     "text": [
      "139872926700864\n",
      "139872926700864\n"
     ]
    }
   ],
   "source": [
    "print(id(lst_a))\n",
    "print(id(lst_b))"
   ]
  },
  {
   "cell_type": "code",
   "execution_count": 3,
   "id": "b8442451-6a32-4f39-810d-05f116c00421",
   "metadata": {},
   "outputs": [
    {
     "data": {
      "text/plain": [
       "False"
      ]
     },
     "execution_count": 3,
     "metadata": {},
     "output_type": "execute_result"
    }
   ],
   "source": [
    "lst_a is lst_b"
   ]
  },
  {
   "cell_type": "code",
   "execution_count": 4,
   "id": "c5e7d561-d975-4d35-97fa-eab4e4c752d0",
   "metadata": {},
   "outputs": [
    {
     "data": {
      "text/plain": [
       "True"
      ]
     },
     "execution_count": 4,
     "metadata": {},
     "output_type": "execute_result"
    }
   ],
   "source": [
    "lst_a is not lst_b"
   ]
  },
  {
   "cell_type": "code",
   "execution_count": 10,
   "id": "f7990137-240e-4455-bbe8-ce4b31a57443",
   "metadata": {},
   "outputs": [
    {
     "data": {
      "text/plain": [
       "True"
      ]
     },
     "execution_count": 10,
     "metadata": {},
     "output_type": "execute_result"
    }
   ],
   "source": [
    "lst_a==lst_b"
   ]
  },
  {
   "cell_type": "code",
   "execution_count": 6,
   "id": "4bb8c86b-3c50-4012-a072-9ef8ac414d76",
   "metadata": {},
   "outputs": [],
   "source": [
    "lst_a=[1,2,3,4]\n",
    "lst_b=lst_a"
   ]
  },
  {
   "cell_type": "code",
   "execution_count": 8,
   "id": "c85af080-e633-4566-8e7a-ea15a7f7479a",
   "metadata": {},
   "outputs": [
    {
     "name": "stdout",
     "output_type": "stream",
     "text": [
      "139872926700864\n",
      "139872926700864\n"
     ]
    }
   ],
   "source": [
    "print(id(lst_a))\n",
    "print(id(lst_b))"
   ]
  },
  {
   "cell_type": "code",
   "execution_count": 9,
   "id": "831b356d-bb20-4cf8-973b-1a462676775e",
   "metadata": {},
   "outputs": [
    {
     "data": {
      "text/plain": [
       "True"
      ]
     },
     "execution_count": 9,
     "metadata": {},
     "output_type": "execute_result"
    }
   ],
   "source": [
    "lst_a is lst_b"
   ]
  },
  {
   "cell_type": "code",
   "execution_count": 11,
   "id": "8c3ca8c6-5600-42b4-b7b8-058573d06b26",
   "metadata": {},
   "outputs": [
    {
     "name": "stdout",
     "output_type": "stream",
     "text": [
      "[1, 2, 3, 4]\n"
     ]
    }
   ],
   "source": [
    "print(lst_a)"
   ]
  },
  {
   "cell_type": "code",
   "execution_count": 12,
   "id": "9ee0984a-d2bd-4848-b0d1-ad2560b056f9",
   "metadata": {},
   "outputs": [],
   "source": [
    "a=2\n",
    "b=2"
   ]
  },
  {
   "cell_type": "code",
   "execution_count": 14,
   "id": "0fb3cced-1c0f-4cd4-a060-758a3ec37e35",
   "metadata": {},
   "outputs": [
    {
     "name": "stdout",
     "output_type": "stream",
     "text": [
      "139873027588368\n",
      "139873027588368\n"
     ]
    }
   ],
   "source": [
    "print(id(a))\n",
    "print(id(b))"
   ]
  },
  {
   "cell_type": "code",
   "execution_count": 15,
   "id": "0898db54-2982-4a34-80a7-56bc3a21559a",
   "metadata": {},
   "outputs": [],
   "source": [
    "str1=\"Krutika\"\n",
    "str2=\"Krutika\""
   ]
  },
  {
   "cell_type": "code",
   "execution_count": 16,
   "id": "0556ea4d-9bdc-4190-9498-5ac65656bf13",
   "metadata": {},
   "outputs": [
    {
     "name": "stdout",
     "output_type": "stream",
     "text": [
      "139872926755888\n",
      "139872926755888\n"
     ]
    }
   ],
   "source": [
    "print(id(str1))\n",
    "print(id(str2))"
   ]
  },
  {
   "cell_type": "code",
   "execution_count": 29,
   "id": "7f46fe96-7868-4f15-b421-99dfa0ebf1e8",
   "metadata": {},
   "outputs": [],
   "source": [
    "## immutable\n",
    "str1=\"Krutika\"\n",
    "str2=\"Krutika1\""
   ]
  },
  {
   "cell_type": "code",
   "execution_count": 30,
   "id": "71108467-3767-4458-8153-460ab8ffc806",
   "metadata": {},
   "outputs": [
    {
     "name": "stdout",
     "output_type": "stream",
     "text": [
      "139872926755888\n",
      "139872978495664\n"
     ]
    }
   ],
   "source": [
    "print(id(str1))\n",
    "print(id(str2))"
   ]
  },
  {
   "cell_type": "code",
   "execution_count": 17,
   "id": "67d24d33-60f0-4506-a6d2-9396c5401ee1",
   "metadata": {},
   "outputs": [],
   "source": [
    "#Note the different case for lists and integer/strings"
   ]
  },
  {
   "cell_type": "code",
   "execution_count": 18,
   "id": "ff1e2aec-ef62-4b51-8697-05680648a61e",
   "metadata": {},
   "outputs": [],
   "source": [
    "#Now, we understand the meaning of mutable and immutable"
   ]
  },
  {
   "cell_type": "code",
   "execution_count": 19,
   "id": "efc23ff0-862a-40e7-a0e5-329d06d5f39d",
   "metadata": {},
   "outputs": [
    {
     "data": {
      "text/plain": [
       "[1, 2, 3, 4]"
      ]
     },
     "execution_count": 19,
     "metadata": {},
     "output_type": "execute_result"
    }
   ],
   "source": [
    "lst_a"
   ]
  },
  {
   "cell_type": "code",
   "execution_count": 20,
   "id": "d438d502-0710-4a70-8712-162a868bfb1a",
   "metadata": {},
   "outputs": [
    {
     "data": {
      "text/plain": [
       "1"
      ]
     },
     "execution_count": 20,
     "metadata": {},
     "output_type": "execute_result"
    }
   ],
   "source": [
    "lst_a[0]"
   ]
  },
  {
   "cell_type": "code",
   "execution_count": 21,
   "id": "0ca1b8c4-d84d-4de5-a6f7-b37a9870f432",
   "metadata": {},
   "outputs": [],
   "source": [
    "lst_a[0]=10"
   ]
  },
  {
   "cell_type": "code",
   "execution_count": 22,
   "id": "33488ba8-ecaf-4f93-90c8-4046099a73b3",
   "metadata": {},
   "outputs": [
    {
     "data": {
      "text/plain": [
       "[10, 2, 3, 4]"
      ]
     },
     "execution_count": 22,
     "metadata": {},
     "output_type": "execute_result"
    }
   ],
   "source": [
    "lst_a"
   ]
  },
  {
   "cell_type": "code",
   "execution_count": 36,
   "id": "f518ab48-da88-442b-9776-647a320cf25c",
   "metadata": {},
   "outputs": [
    {
     "data": {
      "text/plain": [
       "139872926700864"
      ]
     },
     "execution_count": 36,
     "metadata": {},
     "output_type": "execute_result"
    }
   ],
   "source": [
    "id(lst_a) ##memory address remains same"
   ]
  },
  {
   "cell_type": "code",
   "execution_count": 23,
   "id": "c1541646-091a-46aa-b2c1-c6fe5b4a8e08",
   "metadata": {},
   "outputs": [],
   "source": [
    "##Therefore list is a mutable object"
   ]
  },
  {
   "cell_type": "code",
   "execution_count": 24,
   "id": "74e35a9d-b5d6-4ac4-a675-3b682e500342",
   "metadata": {},
   "outputs": [
    {
     "data": {
      "text/plain": [
       "'Krutika'"
      ]
     },
     "execution_count": 24,
     "metadata": {},
     "output_type": "execute_result"
    }
   ],
   "source": [
    "str1"
   ]
  },
  {
   "cell_type": "code",
   "execution_count": 25,
   "id": "562faae1-7e7c-4983-ba4c-36c89514f285",
   "metadata": {},
   "outputs": [
    {
     "data": {
      "text/plain": [
       "'K'"
      ]
     },
     "execution_count": 25,
     "metadata": {},
     "output_type": "execute_result"
    }
   ],
   "source": [
    "str1[0]"
   ]
  },
  {
   "cell_type": "code",
   "execution_count": 26,
   "id": "9987acaf-cd71-4606-b9d2-f2d7cd1cba76",
   "metadata": {},
   "outputs": [
    {
     "ename": "TypeError",
     "evalue": "'str' object does not support item assignment",
     "output_type": "error",
     "traceback": [
      "\u001b[0;31m---------------------------------------------------------------------------\u001b[0m",
      "\u001b[0;31mTypeError\u001b[0m                                 Traceback (most recent call last)",
      "Cell \u001b[0;32mIn[26], line 1\u001b[0m\n\u001b[0;32m----> 1\u001b[0m \u001b[43mstr1\u001b[49m\u001b[43m[\u001b[49m\u001b[38;5;241;43m0\u001b[39;49m\u001b[43m]\u001b[49m\u001b[38;5;241m=\u001b[39m\u001b[38;5;124m'\u001b[39m\u001b[38;5;124mN\u001b[39m\u001b[38;5;124m'\u001b[39m\n",
      "\u001b[0;31mTypeError\u001b[0m: 'str' object does not support item assignment"
     ]
    }
   ],
   "source": [
    "str1[0]='N'"
   ]
  },
  {
   "cell_type": "code",
   "execution_count": 27,
   "id": "2367472b-6476-4bd0-987a-38b48f8bef8f",
   "metadata": {},
   "outputs": [],
   "source": [
    "##Strings are immutable!"
   ]
  },
  {
   "cell_type": "code",
   "execution_count": 33,
   "id": "219dbe33-08dc-459c-a6da-c0cb46f4e215",
   "metadata": {},
   "outputs": [],
   "source": [
    "##now to check for integers(my personal checking)"
   ]
  },
  {
   "cell_type": "code",
   "execution_count": 37,
   "id": "466ecedf-abf9-45f3-820c-e222c710d488",
   "metadata": {},
   "outputs": [
    {
     "data": {
      "text/plain": [
       "139873027588368"
      ]
     },
     "execution_count": 37,
     "metadata": {},
     "output_type": "execute_result"
    }
   ],
   "source": [
    "x=2\n",
    "id(x)"
   ]
  },
  {
   "cell_type": "code",
   "execution_count": 38,
   "id": "43ed9bb6-950e-4d00-867d-d77b5bd6b8a6",
   "metadata": {},
   "outputs": [],
   "source": [
    "x=6"
   ]
  },
  {
   "cell_type": "code",
   "execution_count": 39,
   "id": "55e122d6-2ada-4239-8944-30a4735ebc36",
   "metadata": {},
   "outputs": [
    {
     "data": {
      "text/plain": [
       "139873027588496"
      ]
     },
     "execution_count": 39,
     "metadata": {},
     "output_type": "execute_result"
    }
   ],
   "source": [
    "id(x)"
   ]
  },
  {
   "cell_type": "code",
   "execution_count": 41,
   "id": "4b62e36e-7ea9-4d2b-8a10-e40e3e1f81da",
   "metadata": {},
   "outputs": [],
   "source": [
    "##value was updated but memory address also changed so immutable"
   ]
  },
  {
   "cell_type": "markdown",
   "id": "b1facf88-50df-4551-bda7-f530c7cbd557",
   "metadata": {},
   "source": [
    "## Arithmethic Operations\n",
    "|Operation|Meaning|\n",
    "|:-:|:-:|\n",
    "| **+** |addition|\n",
    "| **-** |subtraction|\n",
    "| **\\*** |multiplication|\n",
    "| **/** |true division|\n",
    "| **//** |integer division|\n",
    "| **%** |the modulo operator|"
   ]
  },
  {
   "cell_type": "code",
   "execution_count": 46,
   "id": "ec83287b-565a-45ee-9af3-ba087ef15a16",
   "metadata": {},
   "outputs": [],
   "source": [
    "a=25\n",
    "b=101"
   ]
  },
  {
   "cell_type": "code",
   "execution_count": 47,
   "id": "90e776ab-112e-4d65-9025-85fc14871baf",
   "metadata": {},
   "outputs": [
    {
     "data": {
      "text/plain": [
       "2525"
      ]
     },
     "execution_count": 47,
     "metadata": {},
     "output_type": "execute_result"
    }
   ],
   "source": [
    "a*b"
   ]
  },
  {
   "cell_type": "code",
   "execution_count": 48,
   "id": "fb898633-2d9e-4009-8a38-ee4b269aa2d4",
   "metadata": {},
   "outputs": [
    {
     "data": {
      "text/plain": [
       "126"
      ]
     },
     "execution_count": 48,
     "metadata": {},
     "output_type": "execute_result"
    }
   ],
   "source": [
    "a+b"
   ]
  },
  {
   "cell_type": "code",
   "execution_count": 49,
   "id": "6b135d5f-98c4-4a4d-8ca0-81cf16dc36b9",
   "metadata": {},
   "outputs": [
    {
     "data": {
      "text/plain": [
       "0.24752475247524752"
      ]
     },
     "execution_count": 49,
     "metadata": {},
     "output_type": "execute_result"
    }
   ],
   "source": [
    "a/b"
   ]
  },
  {
   "cell_type": "code",
   "execution_count": 50,
   "id": "216b7416-d0b2-4dc5-8905-4ed934c8aee9",
   "metadata": {},
   "outputs": [
    {
     "data": {
      "text/plain": [
       "4.04"
      ]
     },
     "execution_count": 50,
     "metadata": {},
     "output_type": "execute_result"
    }
   ],
   "source": [
    "b/a"
   ]
  },
  {
   "cell_type": "code",
   "execution_count": 51,
   "id": "be9ab653-910d-4898-8e5f-3abe5eb4e753",
   "metadata": {},
   "outputs": [
    {
     "data": {
      "text/plain": [
       "0"
      ]
     },
     "execution_count": 51,
     "metadata": {},
     "output_type": "execute_result"
    }
   ],
   "source": [
    "a//b"
   ]
  },
  {
   "cell_type": "code",
   "execution_count": 52,
   "id": "b69daebc-2783-40c8-a565-7d438830c1c3",
   "metadata": {},
   "outputs": [
    {
     "data": {
      "text/plain": [
       "4"
      ]
     },
     "execution_count": 52,
     "metadata": {},
     "output_type": "execute_result"
    }
   ],
   "source": [
    "b//a"
   ]
  },
  {
   "cell_type": "code",
   "execution_count": 53,
   "id": "e8696a01-9b58-490b-af35-e0a058bae9b1",
   "metadata": {},
   "outputs": [
    {
     "data": {
      "text/plain": [
       "1"
      ]
     },
     "execution_count": 53,
     "metadata": {},
     "output_type": "execute_result"
    }
   ],
   "source": [
    "b%a"
   ]
  },
  {
   "cell_type": "code",
   "execution_count": 54,
   "id": "e11dbcfd-a5c6-4c41-853b-0e0d376480d1",
   "metadata": {},
   "outputs": [
    {
     "data": {
      "text/plain": [
       "25"
      ]
     },
     "execution_count": 54,
     "metadata": {},
     "output_type": "execute_result"
    }
   ],
   "source": [
    "a%b"
   ]
  },
  {
   "cell_type": "markdown",
   "id": "0196ebac-964c-4dc4-b7dc-5a21da6dd4d4",
   "metadata": {},
   "source": [
    "### Bitwise Operators\n",
    "|Operation|Meaning|\n",
    "|:-:|:-:|\n",
    "| **∼** |bitwise complement (prefix unary operator)|\n",
    "| **&** |bitwise and|\n",
    "| **\\|** |bitwise or|\n",
    "| **^** |bitwise exclusive-or|\n",
    "| **<<** |shift bits left, filling in with zeros|\n",
    "| **>>** |shift bits right, filling in with sign bit|"
   ]
  },
  {
   "cell_type": "code",
   "execution_count": 55,
   "id": "4677a7d5-50a4-4a7d-bfb8-0c7486caf610",
   "metadata": {},
   "outputs": [
    {
     "data": {
      "text/plain": [
       "'0b1010'"
      ]
     },
     "execution_count": 55,
     "metadata": {},
     "output_type": "execute_result"
    }
   ],
   "source": [
    "var=10\n",
    "bin(var)"
   ]
  },
  {
   "cell_type": "markdown",
   "id": "db06867f-1c84-4ffd-84c9-8881ab147772",
   "metadata": {},
   "source": [
    "# STRINGS"
   ]
  },
  {
   "cell_type": "code",
   "execution_count": 60,
   "id": "3fcbbff8-3632-4dfb-af2c-9f8cc4bc465e",
   "metadata": {},
   "outputs": [],
   "source": [
    "welcome=\"HELLO WORLD\" "
   ]
  },
  {
   "cell_type": "code",
   "execution_count": 59,
   "id": "8af862c5-7c9a-46cd-8bfe-ad455cea3791",
   "metadata": {},
   "outputs": [],
   "source": [
    "##press tab after dot to see functions in built"
   ]
  },
  {
   "cell_type": "code",
   "execution_count": 69,
   "id": "ea8e2bca-f0ba-4f3f-ae87-b339308d28f0",
   "metadata": {},
   "outputs": [],
   "source": [
    "str1=\"Pw Skills Data Science\""
   ]
  },
  {
   "cell_type": "code",
   "execution_count": 70,
   "id": "925bfe4a-0f0c-47d4-9db9-5c3f640e9e80",
   "metadata": {},
   "outputs": [
    {
     "data": {
      "text/plain": [
       "'i'"
      ]
     },
     "execution_count": 70,
     "metadata": {},
     "output_type": "execute_result"
    }
   ],
   "source": [
    "str1[5]"
   ]
  },
  {
   "cell_type": "code",
   "execution_count": 71,
   "id": "2602fd10-529a-428f-a785-a61d21954444",
   "metadata": {},
   "outputs": [
    {
     "data": {
      "text/plain": [
       "'ills Data Science'"
      ]
     },
     "execution_count": 71,
     "metadata": {},
     "output_type": "execute_result"
    }
   ],
   "source": [
    "##slice operation\n",
    "str1[5:]"
   ]
  },
  {
   "cell_type": "code",
   "execution_count": 72,
   "id": "c48f9ff8-4e40-4d0e-bc96-cd0e2900c42c",
   "metadata": {},
   "outputs": [
    {
     "data": {
      "text/plain": [
       "'ills D'"
      ]
     },
     "execution_count": 72,
     "metadata": {},
     "output_type": "execute_result"
    }
   ],
   "source": [
    "str1[5:11]"
   ]
  },
  {
   "cell_type": "code",
   "execution_count": 73,
   "id": "8eaab0cd-7ab6-4748-9ec0-0935c58a5ba6",
   "metadata": {},
   "outputs": [
    {
     "data": {
      "text/plain": [
       "'Pw Sk'"
      ]
     },
     "execution_count": 73,
     "metadata": {},
     "output_type": "execute_result"
    }
   ],
   "source": [
    "str1[:5]"
   ]
  },
  {
   "cell_type": "code",
   "execution_count": 74,
   "id": "7be54ba1-b6c9-404a-af22-322f527cd1cc",
   "metadata": {},
   "outputs": [
    {
     "data": {
      "text/plain": [
       "'e'"
      ]
     },
     "execution_count": 74,
     "metadata": {},
     "output_type": "execute_result"
    }
   ],
   "source": [
    "str1[-1]"
   ]
  },
  {
   "cell_type": "code",
   "execution_count": 78,
   "id": "bebd70bb-eab3-4873-8cbd-cc67026fe3d6",
   "metadata": {},
   "outputs": [
    {
     "data": {
      "text/plain": [
       "'n'"
      ]
     },
     "execution_count": 78,
     "metadata": {},
     "output_type": "execute_result"
    }
   ],
   "source": [
    "str1[-3]"
   ]
  },
  {
   "cell_type": "code",
   "execution_count": 77,
   "id": "c13ceda2-cf79-40dd-a9f1-c5991cb89ea1",
   "metadata": {},
   "outputs": [
    {
     "data": {
      "text/plain": [
       "'nce'"
      ]
     },
     "execution_count": 77,
     "metadata": {},
     "output_type": "execute_result"
    }
   ],
   "source": [
    "str1[-3:]"
   ]
  },
  {
   "cell_type": "code",
   "execution_count": 76,
   "id": "ca8aff7c-e3c0-4c8f-a3bb-6d5d91900901",
   "metadata": {},
   "outputs": [
    {
     "data": {
      "text/plain": [
       "'Scie'"
      ]
     },
     "execution_count": 76,
     "metadata": {},
     "output_type": "execute_result"
    }
   ],
   "source": [
    "str1[-7:-3]"
   ]
  },
  {
   "cell_type": "code",
   "execution_count": 79,
   "id": "d46dccdd-6f45-4ea3-9eda-5b045dfd14b6",
   "metadata": {},
   "outputs": [
    {
     "data": {
      "text/plain": [
       "''"
      ]
     },
     "execution_count": 79,
     "metadata": {},
     "output_type": "execute_result"
    }
   ],
   "source": [
    "str1[-7:5]"
   ]
  },
  {
   "cell_type": "code",
   "execution_count": 85,
   "id": "bc18800b-2a01-4af1-90ca-54202435bc97",
   "metadata": {},
   "outputs": [
    {
     "data": {
      "text/plain": [
       "'Sci'"
      ]
     },
     "execution_count": 85,
     "metadata": {},
     "output_type": "execute_result"
    }
   ],
   "source": [
    "str1[-7:18]"
   ]
  },
  {
   "cell_type": "code",
   "execution_count": 87,
   "id": "4f91f31c-2feb-46e5-8451-8364ac4213c2",
   "metadata": {},
   "outputs": [
    {
     "data": {
      "text/plain": [
       "'Pw Skills Data Scienc'"
      ]
     },
     "execution_count": 87,
     "metadata": {},
     "output_type": "execute_result"
    }
   ],
   "source": [
    "str1[:-1]"
   ]
  },
  {
   "cell_type": "code",
   "execution_count": 88,
   "id": "e6c7755c-5ee1-4026-83bd-678d76f6ef7f",
   "metadata": {},
   "outputs": [
    {
     "data": {
      "text/plain": [
       "'Pw Skills Data Science'"
      ]
     },
     "execution_count": 88,
     "metadata": {},
     "output_type": "execute_result"
    }
   ],
   "source": [
    "str1[:]"
   ]
  },
  {
   "cell_type": "code",
   "execution_count": 89,
   "id": "cd68f3e4-bef5-41df-87b7-8e5159d5802e",
   "metadata": {},
   "outputs": [
    {
     "data": {
      "text/plain": [
       "'Pw Skills Data Science'"
      ]
     },
     "execution_count": 89,
     "metadata": {},
     "output_type": "execute_result"
    }
   ],
   "source": [
    "str1[::]"
   ]
  },
  {
   "cell_type": "code",
   "execution_count": 122,
   "id": "c73f1aeb-b580-4111-aca2-532b8cab42e7",
   "metadata": {},
   "outputs": [
    {
     "data": {
      "text/plain": [
       "'ecneicS ataD sllikS wP'"
      ]
     },
     "execution_count": 122,
     "metadata": {},
     "output_type": "execute_result"
    }
   ],
   "source": [
    "str1[::-1]#string is reversed. the number gives the step size"
   ]
  },
  {
   "cell_type": "code",
   "execution_count": 93,
   "id": "43f26596-358e-4d18-b46a-30f0cf0ba114",
   "metadata": {},
   "outputs": [
    {
     "data": {
      "text/plain": [
       "'Pw Skills Data Science'"
      ]
     },
     "execution_count": 93,
     "metadata": {},
     "output_type": "execute_result"
    }
   ],
   "source": [
    "str1[::1]"
   ]
  },
  {
   "cell_type": "code",
   "execution_count": 94,
   "id": "66b5ea79-0271-4541-a269-b2660351256e",
   "metadata": {},
   "outputs": [
    {
     "data": {
      "text/plain": [
       "'P klsDt cec'"
      ]
     },
     "execution_count": 94,
     "metadata": {},
     "output_type": "execute_result"
    }
   ],
   "source": [
    "str1[::2]"
   ]
  },
  {
   "cell_type": "code",
   "execution_count": 95,
   "id": "cf692948-79aa-49fd-9065-7348f0517e81",
   "metadata": {},
   "outputs": [
    {
     "data": {
      "text/plain": [
       "'eniSaa liSw'"
      ]
     },
     "execution_count": 95,
     "metadata": {},
     "output_type": "execute_result"
    }
   ],
   "source": [
    "str1[::-2]"
   ]
  },
  {
   "cell_type": "code",
   "execution_count": 99,
   "id": "730af31b-4f07-43c7-86fe-280dfa9ff2b3",
   "metadata": {},
   "outputs": [
    {
     "data": {
      "text/plain": [
       "'likS wP'"
      ]
     },
     "execution_count": 99,
     "metadata": {},
     "output_type": "execute_result"
    }
   ],
   "source": [
    "str1[6::-1] #will print till the 6th element step of 1"
   ]
  },
  {
   "cell_type": "code",
   "execution_count": 102,
   "id": "6f5bc408-c6a1-4b05-adcc-3e369d8ca57f",
   "metadata": {},
   "outputs": [
    {
     "data": {
      "text/plain": [
       "'lik'"
      ]
     },
     "execution_count": 102,
     "metadata": {},
     "output_type": "execute_result"
    }
   ],
   "source": [
    "str1[6:3:-1] #reverse print from 3 to 6th element. will exclude the third one here"
   ]
  },
  {
   "cell_type": "code",
   "execution_count": 115,
   "id": "964f6e68-0b70-43b4-8556-596bfb103d67",
   "metadata": {},
   "outputs": [
    {
     "data": {
      "text/plain": [
       "'Ski'"
      ]
     },
     "execution_count": 115,
     "metadata": {},
     "output_type": "execute_result"
    }
   ],
   "source": [
    "str1[3:6:1] #understand difference between this one and the above one"
   ]
  },
  {
   "cell_type": "code",
   "execution_count": 116,
   "id": "8a8b9c7e-f8e9-4f8f-a39b-76c968483bd2",
   "metadata": {},
   "outputs": [
    {
     "data": {
      "text/plain": [
       "'Sil '"
      ]
     },
     "execution_count": 116,
     "metadata": {},
     "output_type": "execute_result"
    }
   ],
   "source": [
    "str1[3:10:2]"
   ]
  },
  {
   "cell_type": "code",
   "execution_count": 117,
   "id": "7e865afe-e35e-48d6-bdcd-9e2c6b5ece78",
   "metadata": {},
   "outputs": [],
   "source": [
    "name=\"Data Science Masters\""
   ]
  },
  {
   "cell_type": "code",
   "execution_count": 118,
   "id": "c82cce0e-e1fd-4a96-912b-4502a9286518",
   "metadata": {},
   "outputs": [
    {
     "data": {
      "text/plain": [
       "'Science'"
      ]
     },
     "execution_count": 118,
     "metadata": {},
     "output_type": "execute_result"
    }
   ],
   "source": [
    "name[5:12]"
   ]
  },
  {
   "cell_type": "code",
   "execution_count": 119,
   "id": "2d2b39f1-9d8a-4c4f-b342-00d666d46311",
   "metadata": {},
   "outputs": [
    {
     "data": {
      "text/plain": [
       "'Science'"
      ]
     },
     "execution_count": 119,
     "metadata": {},
     "output_type": "execute_result"
    }
   ],
   "source": [
    "name[-15:-8]"
   ]
  },
  {
   "cell_type": "code",
   "execution_count": 120,
   "id": "bf5ed096-7aed-4a7a-8346-e40c63c773fb",
   "metadata": {},
   "outputs": [
    {
     "data": {
      "text/plain": [
       "'ecneicS'"
      ]
     },
     "execution_count": 120,
     "metadata": {},
     "output_type": "execute_result"
    }
   ],
   "source": [
    "name[11:4:-1]"
   ]
  },
  {
   "cell_type": "code",
   "execution_count": 121,
   "id": "85987689-fc0c-4ace-8159-4c9cf21bb4a1",
   "metadata": {},
   "outputs": [
    {
     "data": {
      "text/plain": [
       "'ecneicS'"
      ]
     },
     "execution_count": 121,
     "metadata": {},
     "output_type": "execute_result"
    }
   ],
   "source": [
    "name[-9:-16:-1]"
   ]
  },
  {
   "cell_type": "code",
   "execution_count": 123,
   "id": "d561d45f-c9eb-40c8-8cfe-77f0c42d5c33",
   "metadata": {},
   "outputs": [
    {
     "name": "stdout",
     "output_type": "stream",
     "text": [
      "Data Science Masters Course\n"
     ]
    }
   ],
   "source": [
    "#concatenation\n",
    "print(name + \" Course\")"
   ]
  },
  {
   "cell_type": "code",
   "execution_count": 124,
   "id": "2f37a73d-e529-4297-bcd1-09dc57396852",
   "metadata": {},
   "outputs": [
    {
     "name": "stdout",
     "output_type": "stream",
     "text": [
      "Data Science MastersData Science MastersData Science MastersData Science MastersData Science Masters\n"
     ]
    }
   ],
   "source": [
    "print(name *5)"
   ]
  },
  {
   "cell_type": "code",
   "execution_count": 125,
   "id": "c6679e8f-05cf-4aee-8f14-e6ea9c09f11c",
   "metadata": {},
   "outputs": [
    {
     "data": {
      "text/plain": [
       "20"
      ]
     },
     "execution_count": 125,
     "metadata": {},
     "output_type": "execute_result"
    }
   ],
   "source": [
    "len(name)"
   ]
  },
  {
   "cell_type": "code",
   "execution_count": 126,
   "id": "8b592a3a-4405-4a83-919d-1af36245ed35",
   "metadata": {},
   "outputs": [
    {
     "data": {
      "text/plain": [
       "9"
      ]
     },
     "execution_count": 126,
     "metadata": {},
     "output_type": "execute_result"
    }
   ],
   "source": [
    "##find function\n",
    "name.find('n')"
   ]
  },
  {
   "cell_type": "code",
   "execution_count": 127,
   "id": "07e2db7d-e52d-423a-bfb2-2b0cec34b2e3",
   "metadata": {},
   "outputs": [
    {
     "data": {
      "text/plain": [
       "1"
      ]
     },
     "execution_count": 127,
     "metadata": {},
     "output_type": "execute_result"
    }
   ],
   "source": [
    "name.find(\"a\")"
   ]
  },
  {
   "cell_type": "code",
   "execution_count": 134,
   "id": "13322f86-c08c-458e-b038-526decb5ba06",
   "metadata": {},
   "outputs": [
    {
     "data": {
      "text/plain": [
       "3"
      ]
     },
     "execution_count": 134,
     "metadata": {},
     "output_type": "execute_result"
    }
   ],
   "source": [
    "name.find('a',2,10) ##finding a between index 2 and 10 does not include 10"
   ]
  },
  {
   "cell_type": "code",
   "execution_count": 135,
   "id": "eeac006b-7628-4ca8-9c2e-8b3b380d5601",
   "metadata": {},
   "outputs": [
    {
     "data": {
      "text/plain": [
       "-1"
      ]
     },
     "execution_count": 135,
     "metadata": {},
     "output_type": "execute_result"
    }
   ],
   "source": [
    "name.find(\"k\")"
   ]
  },
  {
   "cell_type": "code",
   "execution_count": 136,
   "id": "e1d16757-c6cf-44e5-aee9-11fd58c72f20",
   "metadata": {},
   "outputs": [
    {
     "data": {
      "text/plain": [
       "3"
      ]
     },
     "execution_count": 136,
     "metadata": {},
     "output_type": "execute_result"
    }
   ],
   "source": [
    "##count function\n",
    "name.count('a')"
   ]
  },
  {
   "cell_type": "code",
   "execution_count": 137,
   "id": "b78e7776-9e4b-4c4a-af7d-4d82e3e65398",
   "metadata": {},
   "outputs": [
    {
     "data": {
      "text/plain": [
       "0"
      ]
     },
     "execution_count": 137,
     "metadata": {},
     "output_type": "execute_result"
    }
   ],
   "source": [
    "name.count(\"k\")"
   ]
  },
  {
   "cell_type": "code",
   "execution_count": 138,
   "id": "5cb93042-a40a-46b9-82ab-9b85ea440c37",
   "metadata": {},
   "outputs": [
    {
     "data": {
      "text/plain": [
       "2"
      ]
     },
     "execution_count": 138,
     "metadata": {},
     "output_type": "execute_result"
    }
   ],
   "source": [
    "name.count(\"t\")"
   ]
  },
  {
   "cell_type": "code",
   "execution_count": 139,
   "id": "45f16fde-48e4-4d3a-9908-ab203f11ba82",
   "metadata": {},
   "outputs": [
    {
     "data": {
      "text/plain": [
       "2"
      ]
     },
     "execution_count": 139,
     "metadata": {},
     "output_type": "execute_result"
    }
   ],
   "source": [
    "name.count(' ')"
   ]
  },
  {
   "cell_type": "code",
   "execution_count": 140,
   "id": "cae3dcef-f7eb-4ac4-90ba-081231f4bac0",
   "metadata": {},
   "outputs": [
    {
     "data": {
      "text/plain": [
       "['Data', 'Science', 'Masters']"
      ]
     },
     "execution_count": 140,
     "metadata": {},
     "output_type": "execute_result"
    }
   ],
   "source": [
    "#string split function\n",
    "name.split(\" \")"
   ]
  },
  {
   "cell_type": "code",
   "execution_count": 147,
   "id": "e83aeb0d-7ae4-4ac2-9f07-72a14fff55fd",
   "metadata": {},
   "outputs": [
    {
     "data": {
      "text/plain": [
       "['Data Science Ma', 'ter', '']"
      ]
     },
     "execution_count": 147,
     "metadata": {},
     "output_type": "execute_result"
    }
   ],
   "source": [
    "name.split('s')## will split for all the s"
   ]
  },
  {
   "cell_type": "code",
   "execution_count": 142,
   "id": "b3486f41-28cb-4ad6-a41a-dcbf41434437",
   "metadata": {},
   "outputs": [
    {
     "data": {
      "text/plain": [
       "['Data ', 'cience Masters']"
      ]
     },
     "execution_count": 142,
     "metadata": {},
     "output_type": "execute_result"
    }
   ],
   "source": [
    "name.split('S')"
   ]
  },
  {
   "cell_type": "code",
   "execution_count": 143,
   "id": "d2aa4142-a029-4e90-ab72-95f82beb259d",
   "metadata": {},
   "outputs": [
    {
     "data": {
      "text/plain": [
       "('Data ', 'S', 'cience Masters')"
      ]
     },
     "execution_count": 143,
     "metadata": {},
     "output_type": "execute_result"
    }
   ],
   "source": [
    "name.partition('S')"
   ]
  },
  {
   "cell_type": "code",
   "execution_count": 146,
   "id": "f801e3ee-eb06-473d-8a08-3148db25db11",
   "metadata": {},
   "outputs": [
    {
     "data": {
      "text/plain": [
       "('Data Science Ma', 's', 'ters')"
      ]
     },
     "execution_count": 146,
     "metadata": {},
     "output_type": "execute_result"
    }
   ],
   "source": [
    "name.partition('s') ## will do only for the first s"
   ]
  },
  {
   "cell_type": "code",
   "execution_count": 148,
   "id": "756c90c9-5b52-40f2-ac21-0870e385a925",
   "metadata": {
    "tags": []
   },
   "outputs": [
    {
     "data": {
      "text/plain": [
       "'DATA SCIENCE MASTERS'"
      ]
     },
     "execution_count": 148,
     "metadata": {},
     "output_type": "execute_result"
    }
   ],
   "source": [
    "#string upper and lower case\n",
    "name.upper()"
   ]
  },
  {
   "cell_type": "code",
   "execution_count": 149,
   "id": "d10f558b-64d3-4b88-a1b2-e24326fd9bf2",
   "metadata": {},
   "outputs": [
    {
     "data": {
      "text/plain": [
       "'data science masters'"
      ]
     },
     "execution_count": 149,
     "metadata": {},
     "output_type": "execute_result"
    }
   ],
   "source": [
    "name.lower()"
   ]
  },
  {
   "cell_type": "code",
   "execution_count": 150,
   "id": "b28588bd-f24a-4644-ade0-03d860b0d1ab",
   "metadata": {},
   "outputs": [
    {
     "data": {
      "text/plain": [
       "'dATA sCIENCE mASTERS'"
      ]
     },
     "execution_count": 150,
     "metadata": {},
     "output_type": "execute_result"
    }
   ],
   "source": [
    "name.swapcase()"
   ]
  },
  {
   "cell_type": "code",
   "execution_count": 153,
   "id": "afb967c3-b29d-4fad-ab82-2aeb4b527b7b",
   "metadata": {},
   "outputs": [
    {
     "data": {
      "text/plain": [
       "'Chocolate And Biscuits'"
      ]
     },
     "execution_count": 153,
     "metadata": {},
     "output_type": "execute_result"
    }
   ],
   "source": [
    "\"chocolate and biscuits\".title()"
   ]
  },
  {
   "cell_type": "code",
   "execution_count": null,
   "id": "97cd84ef-398b-4951-9c4c-f002d70a6499",
   "metadata": {},
   "outputs": [],
   "source": []
  }
 ],
 "metadata": {
  "kernelspec": {
   "display_name": "Python 3 (ipykernel)",
   "language": "python",
   "name": "python3"
  },
  "language_info": {
   "codemirror_mode": {
    "name": "ipython",
    "version": 3
   },
   "file_extension": ".py",
   "mimetype": "text/x-python",
   "name": "python",
   "nbconvert_exporter": "python",
   "pygments_lexer": "ipython3",
   "version": "3.10.8"
  }
 },
 "nbformat": 4,
 "nbformat_minor": 5
}
