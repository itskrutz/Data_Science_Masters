{
 "cells": [
  {
   "cell_type": "markdown",
   "id": "b75de0ab-ecc7-42ab-99fa-8e3f55423a7a",
   "metadata": {},
   "source": [
    "## TUPLES"
   ]
  },
  {
   "cell_type": "code",
   "execution_count": 1,
   "id": "254d4689-df26-406c-a576-df38bb8af847",
   "metadata": {},
   "outputs": [],
   "source": [
    "t=()"
   ]
  },
  {
   "cell_type": "code",
   "execution_count": 2,
   "id": "0673a23b-19ef-4cc4-8f57-85b7349e22cc",
   "metadata": {},
   "outputs": [
    {
     "data": {
      "text/plain": [
       "tuple"
      ]
     },
     "execution_count": 2,
     "metadata": {},
     "output_type": "execute_result"
    }
   ],
   "source": [
    "type(t)"
   ]
  },
  {
   "cell_type": "code",
   "execution_count": 3,
   "id": "b7458747-f34a-4160-82be-25b898b91c30",
   "metadata": {},
   "outputs": [],
   "source": [
    "t1=(1,2,3,4,56.45,1+5j,\"krut\",True)"
   ]
  },
  {
   "cell_type": "code",
   "execution_count": 4,
   "id": "e94d4d27-7c20-4901-8579-0967d8071776",
   "metadata": {},
   "outputs": [
    {
     "data": {
      "text/plain": [
       "tuple"
      ]
     },
     "execution_count": 4,
     "metadata": {},
     "output_type": "execute_result"
    }
   ],
   "source": [
    "type(t1)"
   ]
  },
  {
   "cell_type": "code",
   "execution_count": 5,
   "id": "f2b838da-4d40-4e5c-b61d-15d00ed7171c",
   "metadata": {},
   "outputs": [
    {
     "data": {
      "text/plain": [
       "1"
      ]
     },
     "execution_count": 5,
     "metadata": {},
     "output_type": "execute_result"
    }
   ],
   "source": [
    "t1[0]"
   ]
  },
  {
   "cell_type": "code",
   "execution_count": 6,
   "id": "02b358ae-d3f3-452c-9bbb-41be9e3199ce",
   "metadata": {},
   "outputs": [],
   "source": [
    "l=[1,2,3,4]"
   ]
  },
  {
   "cell_type": "code",
   "execution_count": 7,
   "id": "1f6109c3-a6b6-4dee-99e2-61af2ce70462",
   "metadata": {},
   "outputs": [
    {
     "data": {
      "text/plain": [
       "list"
      ]
     },
     "execution_count": 7,
     "metadata": {},
     "output_type": "execute_result"
    }
   ],
   "source": [
    "type(l)"
   ]
  },
  {
   "cell_type": "code",
   "execution_count": 8,
   "id": "123f40ae-9005-49ab-af79-852b8e2145b6",
   "metadata": {},
   "outputs": [
    {
     "data": {
      "text/plain": [
       "True"
      ]
     },
     "execution_count": 8,
     "metadata": {},
     "output_type": "execute_result"
    }
   ],
   "source": [
    "t1[7]"
   ]
  },
  {
   "cell_type": "code",
   "execution_count": 9,
   "id": "41e134e2-6c79-4bd3-b1d3-ef6ba7d119ac",
   "metadata": {},
   "outputs": [
    {
     "data": {
      "text/plain": [
       "(True, 'krut', (1+5j), 56.45, 4, 3, 2, 1)"
      ]
     },
     "execution_count": 9,
     "metadata": {},
     "output_type": "execute_result"
    }
   ],
   "source": [
    "t1[::-1]"
   ]
  },
  {
   "cell_type": "code",
   "execution_count": 10,
   "id": "9c95b389-f499-4ac2-bb59-439599db2e43",
   "metadata": {},
   "outputs": [],
   "source": [
    "t1 = t1[::-1]"
   ]
  },
  {
   "cell_type": "code",
   "execution_count": 11,
   "id": "e437a417-f563-4e56-98e4-1ee2dd012860",
   "metadata": {},
   "outputs": [
    {
     "data": {
      "text/plain": [
       "(True, 'krut', (1+5j), 56.45, 4, 3, 2, 1)"
      ]
     },
     "execution_count": 11,
     "metadata": {},
     "output_type": "execute_result"
    }
   ],
   "source": [
    "t1"
   ]
  },
  {
   "cell_type": "code",
   "execution_count": 12,
   "id": "2e867daf-dfe6-4ac0-b903-d0303007be05",
   "metadata": {},
   "outputs": [
    {
     "data": {
      "text/plain": [
       "(True, 'krut', (1+5j))"
      ]
     },
     "execution_count": 12,
     "metadata": {},
     "output_type": "execute_result"
    }
   ],
   "source": [
    "t1[0:3]"
   ]
  },
  {
   "cell_type": "code",
   "execution_count": 13,
   "id": "d7c86ed4-07e2-437c-977e-96f288ca0fbf",
   "metadata": {},
   "outputs": [
    {
     "data": {
      "text/plain": [
       "1"
      ]
     },
     "execution_count": 13,
     "metadata": {},
     "output_type": "execute_result"
    }
   ],
   "source": [
    "t1.count(4)"
   ]
  },
  {
   "cell_type": "code",
   "execution_count": 14,
   "id": "1b8af064-1d51-41f3-b77c-be3eec7dd7fa",
   "metadata": {},
   "outputs": [
    {
     "data": {
      "text/plain": [
       "0"
      ]
     },
     "execution_count": 14,
     "metadata": {},
     "output_type": "execute_result"
    }
   ],
   "source": [
    "t1.count(\"abc\")"
   ]
  },
  {
   "cell_type": "code",
   "execution_count": 15,
   "id": "ee2c3054-ac79-4bfb-9fc0-159846227d53",
   "metadata": {},
   "outputs": [
    {
     "data": {
      "text/plain": [
       "0"
      ]
     },
     "execution_count": 15,
     "metadata": {},
     "output_type": "execute_result"
    }
   ],
   "source": [
    "t1.index(1)## it is giving 0 instead of the expected 8 because system comprehends True as 1"
   ]
  },
  {
   "cell_type": "code",
   "execution_count": 16,
   "id": "1701dbf9-f104-4975-b7aa-903c58de1280",
   "metadata": {},
   "outputs": [
    {
     "data": {
      "text/plain": [
       "1"
      ]
     },
     "execution_count": 16,
     "metadata": {},
     "output_type": "execute_result"
    }
   ],
   "source": [
    "t1.index(\"krut\")"
   ]
  },
  {
   "cell_type": "code",
   "execution_count": 17,
   "id": "129b5e8c-83c0-431f-885f-14edbf12fc09",
   "metadata": {},
   "outputs": [
    {
     "data": {
      "text/plain": [
       "2"
      ]
     },
     "execution_count": 17,
     "metadata": {},
     "output_type": "execute_result"
    }
   ],
   "source": [
    "t1.count(True)"
   ]
  },
  {
   "cell_type": "code",
   "execution_count": 18,
   "id": "2207f750-eb13-450f-93b7-0492421c835a",
   "metadata": {},
   "outputs": [
    {
     "data": {
      "text/plain": [
       "2"
      ]
     },
     "execution_count": 18,
     "metadata": {},
     "output_type": "execute_result"
    }
   ],
   "source": [
    "t1.count(1)"
   ]
  },
  {
   "cell_type": "code",
   "execution_count": 19,
   "id": "01dc2e8d-fab2-4554-b0b4-292ad06c1e07",
   "metadata": {},
   "outputs": [
    {
     "data": {
      "text/plain": [
       "(True, 'krut', (1+5j), 56.45, 4, 3, 2, 1)"
      ]
     },
     "execution_count": 19,
     "metadata": {},
     "output_type": "execute_result"
    }
   ],
   "source": [
    "t1"
   ]
  },
  {
   "cell_type": "code",
   "execution_count": 20,
   "id": "2abac914-4f40-4c69-8c3e-78d8be3dfb22",
   "metadata": {},
   "outputs": [
    {
     "data": {
      "text/plain": [
       "[1, 2, 3, 4]"
      ]
     },
     "execution_count": 20,
     "metadata": {},
     "output_type": "execute_result"
    }
   ],
   "source": [
    "l"
   ]
  },
  {
   "cell_type": "code",
   "execution_count": 21,
   "id": "9b69ab50-9072-437b-a2d0-7b4bfbe1370d",
   "metadata": {},
   "outputs": [
    {
     "data": {
      "text/plain": [
       "True"
      ]
     },
     "execution_count": 21,
     "metadata": {},
     "output_type": "execute_result"
    }
   ],
   "source": [
    "t1[0]"
   ]
  },
  {
   "cell_type": "code",
   "execution_count": 22,
   "id": "7a226064-152f-4252-8a38-0b11e76b0b54",
   "metadata": {},
   "outputs": [
    {
     "ename": "TypeError",
     "evalue": "'tuple' object does not support item assignment",
     "output_type": "error",
     "traceback": [
      "\u001b[0;31m---------------------------------------------------------------------------\u001b[0m",
      "\u001b[0;31mTypeError\u001b[0m                                 Traceback (most recent call last)",
      "Cell \u001b[0;32mIn[22], line 1\u001b[0m\n\u001b[0;32m----> 1\u001b[0m \u001b[43mt1\u001b[49m\u001b[43m[\u001b[49m\u001b[38;5;241;43m0\u001b[39;49m\u001b[43m]\u001b[49m\u001b[38;5;241m=\u001b[39m\u001b[38;5;241m345\u001b[39m\n",
      "\u001b[0;31mTypeError\u001b[0m: 'tuple' object does not support item assignment"
     ]
    }
   ],
   "source": [
    "t1[0]=345"
   ]
  },
  {
   "cell_type": "markdown",
   "id": "e20151fb-c6d1-492e-9d0e-cfe723ddb4d3",
   "metadata": {},
   "source": [
    "\"\"\"Tuple are basically follows  Immutability concepts where it is not going to allow to change any element at a perticular index\"\"\""
   ]
  },
  {
   "cell_type": "code",
   "execution_count": 24,
   "id": "62e47b43-0ab2-41c9-8bda-ec39c1b88d19",
   "metadata": {},
   "outputs": [
    {
     "data": {
      "text/plain": [
       "1"
      ]
     },
     "execution_count": 24,
     "metadata": {},
     "output_type": "execute_result"
    }
   ],
   "source": [
    "l[0]"
   ]
  },
  {
   "cell_type": "code",
   "execution_count": 25,
   "id": "3b87410f-b1b9-4f2b-9d80-84d38e4c3621",
   "metadata": {},
   "outputs": [],
   "source": [
    "l[0]=100"
   ]
  },
  {
   "cell_type": "code",
   "execution_count": 26,
   "id": "01ef607a-9c98-4fdc-9ff7-2ca478b65b0a",
   "metadata": {},
   "outputs": [
    {
     "data": {
      "text/plain": [
       "[100, 2, 3, 4]"
      ]
     },
     "execution_count": 26,
     "metadata": {},
     "output_type": "execute_result"
    }
   ],
   "source": [
    "l"
   ]
  },
  {
   "cell_type": "code",
   "execution_count": 27,
   "id": "c3b29304-6485-4846-bc10-e88f432331b5",
   "metadata": {},
   "outputs": [
    {
     "name": "stdout",
     "output_type": "stream",
     "text": [
      "True\n",
      "krut\n",
      "(1+5j)\n",
      "56.45\n",
      "4\n",
      "3\n",
      "2\n",
      "1\n"
     ]
    }
   ],
   "source": [
    "for i in t1:\n",
    "    print(i)"
   ]
  },
  {
   "cell_type": "code",
   "execution_count": 28,
   "id": "6e59163d-21de-4e5d-a527-a2a02c9b252a",
   "metadata": {},
   "outputs": [
    {
     "name": "stdout",
     "output_type": "stream",
     "text": [
      "True <class 'bool'>\n",
      "krut <class 'str'>\n",
      "(1+5j) <class 'complex'>\n",
      "56.45 <class 'float'>\n",
      "4 <class 'int'>\n",
      "3 <class 'int'>\n",
      "2 <class 'int'>\n",
      "1 <class 'int'>\n"
     ]
    }
   ],
   "source": [
    "for i in t1:\n",
    "    print(i, type(i))"
   ]
  },
  {
   "cell_type": "code",
   "execution_count": 29,
   "id": "7dd980cd-c166-4507-8e9f-cac30ce79af9",
   "metadata": {},
   "outputs": [],
   "source": [
    "t2=(1,2,3,4)"
   ]
  },
  {
   "cell_type": "code",
   "execution_count": 30,
   "id": "07e29ef0-88fc-4057-91e5-3ceb3c6776f3",
   "metadata": {},
   "outputs": [
    {
     "data": {
      "text/plain": [
       "(1, 2, 3, 4, 1, 2, 3, 4, 1, 2, 3, 4)"
      ]
     },
     "execution_count": 30,
     "metadata": {},
     "output_type": "execute_result"
    }
   ],
   "source": [
    "t2*3"
   ]
  },
  {
   "cell_type": "code",
   "execution_count": 31,
   "id": "3a4679dc-0750-42a9-9d2e-4284eec890f2",
   "metadata": {},
   "outputs": [
    {
     "data": {
      "text/plain": [
       "(1, 2, 3, 4)"
      ]
     },
     "execution_count": 31,
     "metadata": {},
     "output_type": "execute_result"
    }
   ],
   "source": [
    "t2"
   ]
  },
  {
   "cell_type": "code",
   "execution_count": 32,
   "id": "dbf0aacd-0265-4a07-9d11-63a3e1a65d5e",
   "metadata": {},
   "outputs": [
    {
     "data": {
      "text/plain": [
       "[100, 2, 3, 4, 100, 2, 3, 4, 100, 2, 3, 4]"
      ]
     },
     "execution_count": 32,
     "metadata": {},
     "output_type": "execute_result"
    }
   ],
   "source": [
    "l*3"
   ]
  },
  {
   "cell_type": "code",
   "execution_count": 33,
   "id": "26934d19-ec60-4aaf-9f7c-9190a6e2fcc2",
   "metadata": {},
   "outputs": [
    {
     "data": {
      "text/plain": [
       "4"
      ]
     },
     "execution_count": 33,
     "metadata": {},
     "output_type": "execute_result"
    }
   ],
   "source": [
    "max(t2)"
   ]
  },
  {
   "cell_type": "code",
   "execution_count": 34,
   "id": "ceabbc70-af6e-4730-8b9c-b71d86b0dfd4",
   "metadata": {},
   "outputs": [
    {
     "data": {
      "text/plain": [
       "1"
      ]
     },
     "execution_count": 34,
     "metadata": {},
     "output_type": "execute_result"
    }
   ],
   "source": [
    "min(t2)"
   ]
  },
  {
   "cell_type": "code",
   "execution_count": 35,
   "id": "d6636325-146a-4719-9c4a-ee8e658a39a6",
   "metadata": {},
   "outputs": [
    {
     "ename": "TypeError",
     "evalue": "'<' not supported between instances of 'str' and 'bool'",
     "output_type": "error",
     "traceback": [
      "\u001b[0;31m---------------------------------------------------------------------------\u001b[0m",
      "\u001b[0;31mTypeError\u001b[0m                                 Traceback (most recent call last)",
      "Cell \u001b[0;32mIn[35], line 1\u001b[0m\n\u001b[0;32m----> 1\u001b[0m \u001b[38;5;28;43mmin\u001b[39;49m\u001b[43m(\u001b[49m\u001b[43mt1\u001b[49m\u001b[43m)\u001b[49m\n",
      "\u001b[0;31mTypeError\u001b[0m: '<' not supported between instances of 'str' and 'bool'"
     ]
    }
   ],
   "source": [
    "min(t1)"
   ]
  },
  {
   "cell_type": "code",
   "execution_count": 36,
   "id": "8e4d2629-734e-46c2-9548-713523740071",
   "metadata": {},
   "outputs": [],
   "source": [
    "t1=(1,2,32,4)\n",
    "t2=(4,5,6,7,8)"
   ]
  },
  {
   "cell_type": "code",
   "execution_count": 37,
   "id": "3e2c1aaa-155b-4c6a-9645-7d422f4aa611",
   "metadata": {},
   "outputs": [],
   "source": [
    "t3=(t1,t2)"
   ]
  },
  {
   "cell_type": "code",
   "execution_count": 38,
   "id": "4c68f552-47b6-471a-afc7-4cc581e00c03",
   "metadata": {},
   "outputs": [
    {
     "data": {
      "text/plain": [
       "((1, 2, 32, 4), (4, 5, 6, 7, 8))"
      ]
     },
     "execution_count": 38,
     "metadata": {},
     "output_type": "execute_result"
    }
   ],
   "source": [
    "t3"
   ]
  },
  {
   "cell_type": "code",
   "execution_count": 39,
   "id": "c1e9959e-77ca-4dad-b937-26f828032f86",
   "metadata": {},
   "outputs": [],
   "source": [
    "t4=(t1,t2,l)"
   ]
  },
  {
   "cell_type": "code",
   "execution_count": 40,
   "id": "0284d5f9-db2b-4451-ad1a-00410c614593",
   "metadata": {},
   "outputs": [
    {
     "data": {
      "text/plain": [
       "((1, 2, 32, 4), (4, 5, 6, 7, 8), [100, 2, 3, 4])"
      ]
     },
     "execution_count": 40,
     "metadata": {},
     "output_type": "execute_result"
    }
   ],
   "source": [
    "t4"
   ]
  },
  {
   "cell_type": "markdown",
   "id": "9313b1af-ba1e-4044-8a63-8ddb5e256568",
   "metadata": {},
   "source": [
    "we can put any list or tuple inside another tuple"
   ]
  },
  {
   "cell_type": "code",
   "execution_count": 41,
   "id": "fd4b9159-a719-40ad-a082-a04558333623",
   "metadata": {},
   "outputs": [],
   "source": [
    "del t4 ## deleting a t4. updation is not allowed in tuples"
   ]
  },
  {
   "cell_type": "code",
   "execution_count": 42,
   "id": "f923b66a-9b25-403a-a571-0f51d0c552a8",
   "metadata": {},
   "outputs": [
    {
     "data": {
      "text/plain": [
       "(1, 2, 32, 4)"
      ]
     },
     "execution_count": 42,
     "metadata": {},
     "output_type": "execute_result"
    }
   ],
   "source": [
    "t1"
   ]
  },
  {
   "cell_type": "code",
   "execution_count": 43,
   "id": "029ed782-d7e9-4837-897d-b1c1b4f5e514",
   "metadata": {},
   "outputs": [
    {
     "data": {
      "text/plain": [
       "4"
      ]
     },
     "execution_count": 43,
     "metadata": {},
     "output_type": "execute_result"
    }
   ],
   "source": [
    "len(t1)"
   ]
  },
  {
   "cell_type": "code",
   "execution_count": 44,
   "id": "b403f45b-29c5-4f55-883b-939e01714787",
   "metadata": {},
   "outputs": [
    {
     "data": {
      "text/plain": [
       "False"
      ]
     },
     "execution_count": 44,
     "metadata": {},
     "output_type": "execute_result"
    }
   ],
   "source": [
    "\"krut\" in t1"
   ]
  },
  {
   "cell_type": "code",
   "execution_count": 45,
   "id": "2539f02e-4f99-4bcb-aa0e-e158b87d80a1",
   "metadata": {},
   "outputs": [
    {
     "data": {
      "text/plain": [
       "True"
      ]
     },
     "execution_count": 45,
     "metadata": {},
     "output_type": "execute_result"
    }
   ],
   "source": [
    "2 in t1"
   ]
  },
  {
   "cell_type": "markdown",
   "id": "4ec5d883-eb7d-473d-98b9-746f4e6da55b",
   "metadata": {},
   "source": [
    "## SETS"
   ]
  },
  {
   "cell_type": "code",
   "execution_count": 46,
   "id": "ec5c7c14-dd87-4cea-be8f-07fe11122d42",
   "metadata": {},
   "outputs": [],
   "source": [
    "s={}"
   ]
  },
  {
   "cell_type": "code",
   "execution_count": 47,
   "id": "cf7335c6-bd92-42e1-bbf9-727e38698486",
   "metadata": {},
   "outputs": [
    {
     "data": {
      "text/plain": [
       "dict"
      ]
     },
     "execution_count": 47,
     "metadata": {},
     "output_type": "execute_result"
    }
   ],
   "source": [
    "type(s)"
   ]
  },
  {
   "cell_type": "code",
   "execution_count": 48,
   "id": "1ab48d3c-41b6-49a0-9d39-117428cd0c4b",
   "metadata": {},
   "outputs": [],
   "source": [
    "s1={1,2,3,4,5}"
   ]
  },
  {
   "cell_type": "code",
   "execution_count": 49,
   "id": "d66bd119-9f25-42ab-bfa7-ecc2bed2a265",
   "metadata": {},
   "outputs": [
    {
     "data": {
      "text/plain": [
       "set"
      ]
     },
     "execution_count": 49,
     "metadata": {},
     "output_type": "execute_result"
    }
   ],
   "source": [
    "type(s1)"
   ]
  },
  {
   "cell_type": "code",
   "execution_count": 50,
   "id": "4a759bb1-4361-4552-b204-361ff30bcdc2",
   "metadata": {},
   "outputs": [],
   "source": [
    "s2={1,1,12,3,3,3,4,5,5,5,55,523,34,3,45,6,67}"
   ]
  },
  {
   "cell_type": "code",
   "execution_count": 51,
   "id": "ea6e6a9d-5c76-4f44-bd47-748882aa6cfd",
   "metadata": {},
   "outputs": [
    {
     "data": {
      "text/plain": [
       "{1, 3, 4, 5, 6, 12, 34, 45, 55, 67, 523}"
      ]
     },
     "execution_count": 51,
     "metadata": {},
     "output_type": "execute_result"
    }
   ],
   "source": [
    "s2"
   ]
  },
  {
   "cell_type": "markdown",
   "id": "dbeff56e-0b1b-4fd7-9543-8a439ce1e1e2",
   "metadata": {},
   "source": [
    "BRILLIANT!!!"
   ]
  },
  {
   "cell_type": "code",
   "execution_count": 52,
   "id": "c4324676-c4dd-49e8-8664-eb7acc52af13",
   "metadata": {},
   "outputs": [],
   "source": [
    "l=list(s2)"
   ]
  },
  {
   "cell_type": "code",
   "execution_count": 53,
   "id": "6c92ee60-62be-463e-b6b3-c2db69df90ba",
   "metadata": {},
   "outputs": [
    {
     "data": {
      "text/plain": [
       "(1, 34, 3, 4, 5, 6, 67, 523, 12, 45, 55)"
      ]
     },
     "execution_count": 53,
     "metadata": {},
     "output_type": "execute_result"
    }
   ],
   "source": [
    "tuple(s2)"
   ]
  },
  {
   "cell_type": "code",
   "execution_count": 54,
   "id": "afc6ff21-6bd3-42c2-a936-19959419dfed",
   "metadata": {},
   "outputs": [
    {
     "data": {
      "text/plain": [
       "[1, 34, 3, 4, 5, 6, 67, 523, 12, 45, 55]"
      ]
     },
     "execution_count": 54,
     "metadata": {},
     "output_type": "execute_result"
    }
   ],
   "source": [
    "l"
   ]
  },
  {
   "cell_type": "code",
   "execution_count": 55,
   "id": "0facd801-9ea6-487d-b140-e2a8b5eb37c9",
   "metadata": {},
   "outputs": [
    {
     "data": {
      "text/plain": [
       "{1, 3, 4, 5, 6, 12, 34, 45, 55, 67, 523}"
      ]
     },
     "execution_count": 55,
     "metadata": {},
     "output_type": "execute_result"
    }
   ],
   "source": [
    "set(l)"
   ]
  },
  {
   "cell_type": "code",
   "execution_count": 56,
   "id": "46c2aebf-416f-443e-b969-324d9d477d00",
   "metadata": {},
   "outputs": [],
   "source": [
    "l1=[1,2,3,3,3,4,5,5,5]"
   ]
  },
  {
   "cell_type": "code",
   "execution_count": 57,
   "id": "e40933c7-0d49-4153-a176-e456a385038a",
   "metadata": {},
   "outputs": [
    {
     "data": {
      "text/plain": [
       "{1, 2, 3, 4, 5}"
      ]
     },
     "execution_count": 57,
     "metadata": {},
     "output_type": "execute_result"
    }
   ],
   "source": [
    "set(l1)"
   ]
  },
  {
   "cell_type": "code",
   "execution_count": 58,
   "id": "3e40fb68-b20f-4a10-b089-ae5658d3ac50",
   "metadata": {},
   "outputs": [
    {
     "data": {
      "text/plain": [
       "(1, 2, 3, 3, 3, 4, 5, 5, 5)"
      ]
     },
     "execution_count": 58,
     "metadata": {},
     "output_type": "execute_result"
    }
   ],
   "source": [
    "tuple(l1)"
   ]
  },
  {
   "cell_type": "code",
   "execution_count": 59,
   "id": "0175be00-8189-4039-aba7-d22963a1523e",
   "metadata": {},
   "outputs": [],
   "source": [
    "##conversions are possible"
   ]
  },
  {
   "cell_type": "code",
   "execution_count": 60,
   "id": "80457690-53f2-499e-88ca-b42ffb55983e",
   "metadata": {},
   "outputs": [
    {
     "ename": "TypeError",
     "evalue": "unhashable type: 'list'",
     "output_type": "error",
     "traceback": [
      "\u001b[0;31m---------------------------------------------------------------------------\u001b[0m",
      "\u001b[0;31mTypeError\u001b[0m                                 Traceback (most recent call last)",
      "Cell \u001b[0;32mIn[60], line 1\u001b[0m\n\u001b[0;32m----> 1\u001b[0m s4\u001b[38;5;241m=\u001b[39m{\u001b[38;5;241m1\u001b[39m,\u001b[38;5;241m2\u001b[39m,\u001b[38;5;241m3\u001b[39m,\u001b[38;5;241m4\u001b[39m,[\u001b[38;5;241m1\u001b[39m,\u001b[38;5;241m2\u001b[39m,\u001b[38;5;241m3\u001b[39m,\u001b[38;5;241m4\u001b[39m]}\n",
      "\u001b[0;31mTypeError\u001b[0m: unhashable type: 'list'"
     ]
    }
   ],
   "source": [
    "s4={1,2,3,4,[1,2,3,4]}"
   ]
  },
  {
   "cell_type": "code",
   "execution_count": 61,
   "id": "4d78ad25-3788-424b-8175-d8e773844060",
   "metadata": {},
   "outputs": [],
   "source": [
    "s5={1,2,3,4,(6,1,2,3,4)}"
   ]
  },
  {
   "cell_type": "code",
   "execution_count": 62,
   "id": "bd79c4a6-c342-40d5-9bd9-de0c71acd92f",
   "metadata": {},
   "outputs": [
    {
     "data": {
      "text/plain": [
       "{(6, 1, 2, 3, 4), 1, 2, 3, 4}"
      ]
     },
     "execution_count": 62,
     "metadata": {},
     "output_type": "execute_result"
    }
   ],
   "source": [
    "s5 ## tuple is placed in front"
   ]
  },
  {
   "cell_type": "markdown",
   "id": "f6f28673-6042-4400-ae9b-b698c145dca1",
   "metadata": {},
   "source": [
    "### We can store a tuple in a set but not a list because lists are mutable and not fixed so thwy won't produce a hashing index. this will be explored in detail later"
   ]
  },
  {
   "cell_type": "code",
   "execution_count": 63,
   "id": "fc39dd33-1000-478b-b834-e9bc81f85eea",
   "metadata": {
    "tags": []
   },
   "outputs": [],
   "source": [
    "s6={\"krut\",\"Krut\",2,3,4,4}"
   ]
  },
  {
   "cell_type": "code",
   "execution_count": 64,
   "id": "387a8569-8df0-4fdf-bde4-0933a4a53620",
   "metadata": {},
   "outputs": [
    {
     "data": {
      "text/plain": [
       "{2, 3, 4, 'Krut', 'krut'}"
      ]
     },
     "execution_count": 64,
     "metadata": {},
     "output_type": "execute_result"
    }
   ],
   "source": [
    "s6 ##case sensitive"
   ]
  },
  {
   "cell_type": "code",
   "execution_count": 65,
   "id": "1697cf6c-d45d-468e-ba1b-24af6d953932",
   "metadata": {},
   "outputs": [],
   "source": [
    "s7={\"krut\",\"krut\",2,3,4,4}"
   ]
  },
  {
   "cell_type": "code",
   "execution_count": 66,
   "id": "d9f6bd15-f857-4e40-806d-a0d2b77ea582",
   "metadata": {},
   "outputs": [
    {
     "data": {
      "text/plain": [
       "{2, 3, 4, 'krut'}"
      ]
     },
     "execution_count": 66,
     "metadata": {},
     "output_type": "execute_result"
    }
   ],
   "source": [
    "s7"
   ]
  },
  {
   "cell_type": "code",
   "execution_count": 67,
   "id": "03bed6d8-191e-4712-9a84-bddf878d637c",
   "metadata": {},
   "outputs": [
    {
     "ename": "TypeError",
     "evalue": "'set' object is not subscriptable",
     "output_type": "error",
     "traceback": [
      "\u001b[0;31m---------------------------------------------------------------------------\u001b[0m",
      "\u001b[0;31mTypeError\u001b[0m                                 Traceback (most recent call last)",
      "Cell \u001b[0;32mIn[67], line 1\u001b[0m\n\u001b[0;32m----> 1\u001b[0m \u001b[43ms7\u001b[49m\u001b[43m[\u001b[49m\u001b[38;5;241;43m0\u001b[39;49m\u001b[43m]\u001b[49m\n",
      "\u001b[0;31mTypeError\u001b[0m: 'set' object is not subscriptable"
     ]
    }
   ],
   "source": [
    "s7[0]"
   ]
  },
  {
   "cell_type": "code",
   "execution_count": 68,
   "id": "1900a329-3ea4-4c4d-940c-deb026db27a5",
   "metadata": {},
   "outputs": [
    {
     "ename": "TypeError",
     "evalue": "'set' object is not subscriptable",
     "output_type": "error",
     "traceback": [
      "\u001b[0;31m---------------------------------------------------------------------------\u001b[0m",
      "\u001b[0;31mTypeError\u001b[0m                                 Traceback (most recent call last)",
      "Cell \u001b[0;32mIn[68], line 1\u001b[0m\n\u001b[0;32m----> 1\u001b[0m \u001b[43ms7\u001b[49m\u001b[43m[\u001b[49m\u001b[43m:\u001b[49m\u001b[43m:\u001b[49m\u001b[38;5;241;43m-\u001b[39;49m\u001b[38;5;241;43m1\u001b[39;49m\u001b[43m]\u001b[49m\n",
      "\u001b[0;31mTypeError\u001b[0m: 'set' object is not subscriptable"
     ]
    }
   ],
   "source": [
    "s7[::-1]"
   ]
  },
  {
   "cell_type": "code",
   "execution_count": 69,
   "id": "7b30f6ef-cdf5-4c29-9e87-a2296ad11f77",
   "metadata": {},
   "outputs": [],
   "source": [
    "## SETS ARE NOT SUBSCRIPTABLE!"
   ]
  },
  {
   "cell_type": "code",
   "execution_count": 70,
   "id": "b303a48e-dfc3-49f2-90c4-b7e5b97cd5cd",
   "metadata": {},
   "outputs": [
    {
     "data": {
      "text/plain": [
       "{2, 3, 4, 'krut'}"
      ]
     },
     "execution_count": 70,
     "metadata": {},
     "output_type": "execute_result"
    }
   ],
   "source": [
    "s7"
   ]
  },
  {
   "cell_type": "code",
   "execution_count": 71,
   "id": "7c51ac73-7aa1-4dc8-8e26-37187a917117",
   "metadata": {},
   "outputs": [
    {
     "name": "stdout",
     "output_type": "stream",
     "text": [
      "2\n",
      "3\n",
      "4\n",
      "krut\n"
     ]
    }
   ],
   "source": [
    "for i in s7:\n",
    "    print(i)"
   ]
  },
  {
   "cell_type": "code",
   "execution_count": 72,
   "id": "6bb32038-c370-4d09-b607-bfe4a16433ab",
   "metadata": {},
   "outputs": [
    {
     "data": {
      "text/plain": [
       "{2, 3, 4, 'krut'}"
      ]
     },
     "execution_count": 72,
     "metadata": {},
     "output_type": "execute_result"
    }
   ],
   "source": [
    "s7"
   ]
  },
  {
   "cell_type": "code",
   "execution_count": 73,
   "id": "5d531307-2e31-4b97-8195-b5d5f93a5c5f",
   "metadata": {},
   "outputs": [],
   "source": [
    "s7.add(34)"
   ]
  },
  {
   "cell_type": "code",
   "execution_count": 74,
   "id": "2e1c35a8-6c27-4e5b-b7b6-798cde504247",
   "metadata": {},
   "outputs": [
    {
     "data": {
      "text/plain": [
       "{2, 3, 34, 4, 'krut'}"
      ]
     },
     "execution_count": 74,
     "metadata": {},
     "output_type": "execute_result"
    }
   ],
   "source": [
    "s7"
   ]
  },
  {
   "cell_type": "code",
   "execution_count": 75,
   "id": "d83b9cce-f03b-4bb4-a2c1-2858dbdda916",
   "metadata": {},
   "outputs": [],
   "source": [
    "s7.add(2)"
   ]
  },
  {
   "cell_type": "code",
   "execution_count": 76,
   "id": "90ba5ffd-b667-405a-9666-fbd2b058a59d",
   "metadata": {},
   "outputs": [
    {
     "data": {
      "text/plain": [
       "{2, 3, 34, 4, 'krut'}"
      ]
     },
     "execution_count": 76,
     "metadata": {},
     "output_type": "execute_result"
    }
   ],
   "source": [
    "s7"
   ]
  },
  {
   "cell_type": "code",
   "execution_count": 77,
   "id": "21a3f7df-7096-4f22-801a-35a9b0962458",
   "metadata": {},
   "outputs": [
    {
     "data": {
      "text/plain": [
       "5"
      ]
     },
     "execution_count": 77,
     "metadata": {},
     "output_type": "execute_result"
    }
   ],
   "source": [
    "len(s7)"
   ]
  },
  {
   "cell_type": "code",
   "execution_count": 78,
   "id": "f2a76cab-e466-4a94-bcca-22c888608d97",
   "metadata": {},
   "outputs": [
    {
     "data": {
      "text/plain": [
       "34"
      ]
     },
     "execution_count": 78,
     "metadata": {},
     "output_type": "execute_result"
    }
   ],
   "source": [
    "s7.pop()"
   ]
  },
  {
   "cell_type": "code",
   "execution_count": 79,
   "id": "792f2dfb-9612-4949-9a37-c94271d8e94a",
   "metadata": {},
   "outputs": [
    {
     "data": {
      "text/plain": [
       "{2, 3, 4, 'krut'}"
      ]
     },
     "execution_count": 79,
     "metadata": {},
     "output_type": "execute_result"
    }
   ],
   "source": [
    "s7"
   ]
  },
  {
   "cell_type": "code",
   "execution_count": 80,
   "id": "47f9d105-b492-45d1-a22a-2bd367ef9a18",
   "metadata": {},
   "outputs": [
    {
     "data": {
      "text/plain": [
       "2"
      ]
     },
     "execution_count": 80,
     "metadata": {},
     "output_type": "execute_result"
    }
   ],
   "source": [
    "s7.pop()"
   ]
  },
  {
   "cell_type": "code",
   "execution_count": 81,
   "id": "1eb84bfb-6c91-4e23-9e05-50b2b4df02ab",
   "metadata": {},
   "outputs": [
    {
     "data": {
      "text/plain": [
       "3"
      ]
     },
     "execution_count": 81,
     "metadata": {},
     "output_type": "execute_result"
    }
   ],
   "source": [
    "s7.pop()"
   ]
  },
  {
   "cell_type": "code",
   "execution_count": 82,
   "id": "1ba1f815-bb66-4b1e-9f6d-672d8547775d",
   "metadata": {},
   "outputs": [
    {
     "data": {
      "text/plain": [
       "{4, 'krut'}"
      ]
     },
     "execution_count": 82,
     "metadata": {},
     "output_type": "execute_result"
    }
   ],
   "source": [
    "s7"
   ]
  },
  {
   "cell_type": "code",
   "execution_count": 83,
   "id": "0ed65c4c-94a8-4b28-a6f9-86b4ce15e22d",
   "metadata": {},
   "outputs": [],
   "source": [
    "## it will not pop in order. it will pop based on hashing index"
   ]
  },
  {
   "cell_type": "code",
   "execution_count": 84,
   "id": "cb0a3650-233b-4a53-91f8-fb633dac424d",
   "metadata": {},
   "outputs": [],
   "source": [
    "s7.clear()"
   ]
  },
  {
   "cell_type": "code",
   "execution_count": 85,
   "id": "67d8494d-eab4-4765-bd30-cc06fc8d8cbf",
   "metadata": {},
   "outputs": [
    {
     "data": {
      "text/plain": [
       "set()"
      ]
     },
     "execution_count": 85,
     "metadata": {},
     "output_type": "execute_result"
    }
   ],
   "source": [
    "s7"
   ]
  },
  {
   "cell_type": "code",
   "execution_count": 86,
   "id": "e7b79cd7-3ae5-4745-8105-d8d873234787",
   "metadata": {},
   "outputs": [],
   "source": [
    "s8={1,2,3,4}\n",
    "s9={1,2,3,5}"
   ]
  },
  {
   "cell_type": "code",
   "execution_count": 87,
   "id": "551300ab-7616-42e7-9dcf-22d2264071b0",
   "metadata": {},
   "outputs": [
    {
     "data": {
      "text/plain": [
       "{4}"
      ]
     },
     "execution_count": 87,
     "metadata": {},
     "output_type": "execute_result"
    }
   ],
   "source": [
    "s8.difference(s9) ## gives whatever is different in s8 from s9"
   ]
  },
  {
   "cell_type": "code",
   "execution_count": 88,
   "id": "7e0ebdd1-fd5e-4c47-8d45-fbd39600198c",
   "metadata": {},
   "outputs": [
    {
     "data": {
      "text/plain": [
       "{5}"
      ]
     },
     "execution_count": 88,
     "metadata": {},
     "output_type": "execute_result"
    }
   ],
   "source": [
    "s9.difference(s8)"
   ]
  },
  {
   "cell_type": "markdown",
   "id": "10bba131-76e1-4385-83e2-2cfd2e9f4270",
   "metadata": {},
   "source": [
    "## DICTIONARY"
   ]
  },
  {
   "cell_type": "code",
   "execution_count": 89,
   "id": "5d807eb2-b002-459b-83eb-b6be50434708",
   "metadata": {},
   "outputs": [],
   "source": [
    "d={}"
   ]
  },
  {
   "cell_type": "code",
   "execution_count": 90,
   "id": "9cbe8f48-4510-4d84-a206-d49b9fd12d56",
   "metadata": {},
   "outputs": [
    {
     "data": {
      "text/plain": [
       "dict"
      ]
     },
     "execution_count": 90,
     "metadata": {},
     "output_type": "execute_result"
    }
   ],
   "source": [
    "type(d)"
   ]
  },
  {
   "cell_type": "code",
   "execution_count": 91,
   "id": "2b62af4e-1130-4bcc-8e1e-a393832cf732",
   "metadata": {},
   "outputs": [],
   "source": [
    "d1={\"name\":\"Krutika\" , \"email_id\":\"kk@gmail.com\", \"number\": 98392394}"
   ]
  },
  {
   "cell_type": "code",
   "execution_count": 92,
   "id": "a2cd9453-0040-4109-8300-5b63b33b57b9",
   "metadata": {},
   "outputs": [
    {
     "data": {
      "text/plain": [
       "dict"
      ]
     },
     "execution_count": 92,
     "metadata": {},
     "output_type": "execute_result"
    }
   ],
   "source": [
    "type(d1)"
   ]
  },
  {
   "cell_type": "code",
   "execution_count": 93,
   "id": "36673a94-65ff-4e8b-97a4-b1d9490ba98f",
   "metadata": {},
   "outputs": [
    {
     "data": {
      "text/plain": [
       "{'name': 'Krutika', 'email_id': 'kk@gmail.com', 'number': 98392394}"
      ]
     },
     "execution_count": 93,
     "metadata": {},
     "output_type": "execute_result"
    }
   ],
   "source": [
    "d1 # key:value"
   ]
  },
  {
   "cell_type": "code",
   "execution_count": 94,
   "id": "554a93f5-1875-44fa-8710-c524b3ceef00",
   "metadata": {},
   "outputs": [],
   "source": [
    "d2={\"name\":\"krut\", \"name\":\"krutika\"}"
   ]
  },
  {
   "cell_type": "code",
   "execution_count": 95,
   "id": "241777f9-4231-401e-9f83-13bf391bbda3",
   "metadata": {},
   "outputs": [
    {
     "data": {
      "text/plain": [
       "{'name': 'krutika'}"
      ]
     },
     "execution_count": 95,
     "metadata": {},
     "output_type": "execute_result"
    }
   ],
   "source": [
    "d2 \n",
    "\n",
    "\n",
    "#key should alwys be unique. otherwise it will take the last one. it will update"
   ]
  },
  {
   "cell_type": "code",
   "execution_count": 96,
   "id": "b49beedb-ae08-429e-af31-c718fffa55de",
   "metadata": {},
   "outputs": [],
   "source": [
    "d3={123456: \"krut\"}"
   ]
  },
  {
   "cell_type": "code",
   "execution_count": 97,
   "id": "b243ec7c-d9f9-4608-bb1b-a088834cc873",
   "metadata": {},
   "outputs": [
    {
     "data": {
      "text/plain": [
       "{123456: 'krut'}"
      ]
     },
     "execution_count": 97,
     "metadata": {},
     "output_type": "execute_result"
    }
   ],
   "source": [
    "d3"
   ]
  },
  {
   "cell_type": "code",
   "execution_count": 98,
   "id": "6e7c1708-a581-49ee-9a95-10ea706bd1a0",
   "metadata": {},
   "outputs": [],
   "source": [
    "d4={45.45: \"abc\"}"
   ]
  },
  {
   "cell_type": "code",
   "execution_count": 99,
   "id": "e9c5d37a-151e-494a-832e-9d9d58292135",
   "metadata": {},
   "outputs": [
    {
     "data": {
      "text/plain": [
       "{45.45: 'abc'}"
      ]
     },
     "execution_count": 99,
     "metadata": {},
     "output_type": "execute_result"
    }
   ],
   "source": [
    "d4"
   ]
  },
  {
   "cell_type": "code",
   "execution_count": 100,
   "id": "08ec7507-e602-4974-a02a-bd805ca86d45",
   "metadata": {},
   "outputs": [],
   "source": [
    "d5={True: \"abc\"}"
   ]
  },
  {
   "cell_type": "code",
   "execution_count": 101,
   "id": "6cf12643-3bc3-43d6-bd1e-1db776551ed1",
   "metadata": {},
   "outputs": [
    {
     "data": {
      "text/plain": [
       "{True: 'abc'}"
      ]
     },
     "execution_count": 101,
     "metadata": {},
     "output_type": "execute_result"
    }
   ],
   "source": [
    "d5"
   ]
  },
  {
   "cell_type": "code",
   "execution_count": 102,
   "id": "d13d4b55-1271-4b21-9c53-82cef30fd46f",
   "metadata": {},
   "outputs": [
    {
     "ename": "SyntaxError",
     "evalue": "invalid syntax (3444128162.py, line 1)",
     "output_type": "error",
     "traceback": [
      "\u001b[0;36m  Cell \u001b[0;32mIn[102], line 1\u001b[0;36m\u001b[0m\n\u001b[0;31m    d6={@:\"abc\"}\u001b[0m\n\u001b[0m        ^\u001b[0m\n\u001b[0;31mSyntaxError\u001b[0m\u001b[0;31m:\u001b[0m invalid syntax\n"
     ]
    }
   ],
   "source": [
    "d6={@:\"abc\"}"
   ]
  },
  {
   "cell_type": "code",
   "execution_count": 103,
   "id": "224a5186-cef4-4f4c-9f4c-3bec158efc76",
   "metadata": {},
   "outputs": [
    {
     "ename": "SyntaxError",
     "evalue": "incomplete input (2725229618.py, line 1)",
     "output_type": "error",
     "traceback": [
      "\u001b[0;36m  Cell \u001b[0;32mIn[103], line 1\u001b[0;36m\u001b[0m\n\u001b[0;31m    d6={# : \"abc\"}\u001b[0m\n\u001b[0m                  ^\u001b[0m\n\u001b[0;31mSyntaxError\u001b[0m\u001b[0;31m:\u001b[0m incomplete input\n"
     ]
    }
   ],
   "source": [
    "d6={# : \"abc\"}"
   ]
  },
  {
   "cell_type": "code",
   "execution_count": 104,
   "id": "1d778e77-4985-4501-bdc5-17740560784b",
   "metadata": {},
   "outputs": [
    {
     "ename": "TypeError",
     "evalue": "unhashable type: 'list'",
     "output_type": "error",
     "traceback": [
      "\u001b[0;31m---------------------------------------------------------------------------\u001b[0m",
      "\u001b[0;31mTypeError\u001b[0m                                 Traceback (most recent call last)",
      "Cell \u001b[0;32mIn[104], line 1\u001b[0m\n\u001b[0;32m----> 1\u001b[0m d8\u001b[38;5;241m=\u001b[39m{[\u001b[38;5;241m1\u001b[39m,\u001b[38;5;241m2\u001b[39m,\u001b[38;5;241m3\u001b[39m]: \u001b[38;5;124m\"\u001b[39m\u001b[38;5;124mabc\u001b[39m\u001b[38;5;124m\"\u001b[39m}\n",
      "\u001b[0;31mTypeError\u001b[0m: unhashable type: 'list'"
     ]
    }
   ],
   "source": [
    "d8={[1,2,3]: \"abc\"}"
   ]
  },
  {
   "cell_type": "code",
   "execution_count": 105,
   "id": "be37c753-4a89-4a57-a4a0-6f261fe0a951",
   "metadata": {},
   "outputs": [],
   "source": [
    "d9={(1,2,3):\"abc\"} ##tuples are hashable they will work"
   ]
  },
  {
   "cell_type": "code",
   "execution_count": 106,
   "id": "4a2f8195-632d-493f-a817-a3fcb6e30f22",
   "metadata": {},
   "outputs": [
    {
     "ename": "TypeError",
     "evalue": "unhashable type: 'set'",
     "output_type": "error",
     "traceback": [
      "\u001b[0;31m---------------------------------------------------------------------------\u001b[0m",
      "\u001b[0;31mTypeError\u001b[0m                                 Traceback (most recent call last)",
      "Cell \u001b[0;32mIn[106], line 1\u001b[0m\n\u001b[0;32m----> 1\u001b[0m d10\u001b[38;5;241m=\u001b[39m{{\u001b[38;5;241m1\u001b[39m,\u001b[38;5;241m2\u001b[39m,\u001b[38;5;241m3\u001b[39m}:\u001b[38;5;124m\"\u001b[39m\u001b[38;5;124mabc\u001b[39m\u001b[38;5;124m\"\u001b[39m} \u001b[38;5;66;03m##strings are also unhashable\u001b[39;00m\n",
      "\u001b[0;31mTypeError\u001b[0m: unhashable type: 'set'"
     ]
    }
   ],
   "source": [
    "d10={{1,2,3}:\"abc\"} ##strings are also unhashable"
   ]
  },
  {
   "cell_type": "code",
   "execution_count": 107,
   "id": "8219f0a4-5065-46ff-8cce-473247101183",
   "metadata": {},
   "outputs": [
    {
     "ename": "TypeError",
     "evalue": "unhashable type: 'dict'",
     "output_type": "error",
     "traceback": [
      "\u001b[0;31m---------------------------------------------------------------------------\u001b[0m",
      "\u001b[0;31mTypeError\u001b[0m                                 Traceback (most recent call last)",
      "Cell \u001b[0;32mIn[107], line 1\u001b[0m\n\u001b[0;32m----> 1\u001b[0m d11\u001b[38;5;241m=\u001b[39m{{\u001b[38;5;124m\"\u001b[39m\u001b[38;5;124mname\u001b[39m\u001b[38;5;124m\"\u001b[39m:\u001b[38;5;124m\"\u001b[39m\u001b[38;5;124mkrut\u001b[39m\u001b[38;5;124m\"\u001b[39m}:\u001b[38;5;124m\"\u001b[39m\u001b[38;5;124mabc\u001b[39m\u001b[38;5;124m\"\u001b[39m}  \u001b[38;5;66;03m##dictionary cannot be used either\u001b[39;00m\n",
      "\u001b[0;31mTypeError\u001b[0m: unhashable type: 'dict'"
     ]
    }
   ],
   "source": [
    "d11={{\"name\":\"krut\"}:\"abc\"}  ##dictionary cannot be used either"
   ]
  },
  {
   "cell_type": "code",
   "execution_count": 108,
   "id": "345885fa-8a42-40c4-afdf-263e7f889082",
   "metadata": {},
   "outputs": [],
   "source": [
    "d12={\"course_name\": [\"data science masters\",\"web dev\",\" java\"]}"
   ]
  },
  {
   "cell_type": "code",
   "execution_count": 109,
   "id": "dfdc9f91-b2bb-46b5-aa2b-3d2347bdcf1b",
   "metadata": {},
   "outputs": [
    {
     "data": {
      "text/plain": [
       "{'course_name': ['data science masters', 'web dev', ' java']}"
      ]
     },
     "execution_count": 109,
     "metadata": {},
     "output_type": "execute_result"
    }
   ],
   "source": [
    "d12"
   ]
  },
  {
   "cell_type": "code",
   "execution_count": 110,
   "id": "cf4bf563-6948-4d42-8d4c-8d5fd46981a6",
   "metadata": {},
   "outputs": [],
   "source": [
    "d13={\"key\":(1,2,3,4)}"
   ]
  },
  {
   "cell_type": "code",
   "execution_count": 111,
   "id": "31b33dcc-2016-471b-a9fd-d751a75a9fd7",
   "metadata": {},
   "outputs": [
    {
     "data": {
      "text/plain": [
       "{'key': (1, 2, 3, 4)}"
      ]
     },
     "execution_count": 111,
     "metadata": {},
     "output_type": "execute_result"
    }
   ],
   "source": [
    "d13"
   ]
  },
  {
   "cell_type": "code",
   "execution_count": 112,
   "id": "48060f7a-6ca4-4e14-8f08-78bea0b5ea0e",
   "metadata": {},
   "outputs": [],
   "source": [
    "d14={\"key\":{1,2,3,4}}"
   ]
  },
  {
   "cell_type": "code",
   "execution_count": 113,
   "id": "a4268a61-2b0f-4e77-865d-eaf5ede989a9",
   "metadata": {},
   "outputs": [
    {
     "data": {
      "text/plain": [
       "{'key': {1, 2, 3, 4}}"
      ]
     },
     "execution_count": 113,
     "metadata": {},
     "output_type": "execute_result"
    }
   ],
   "source": [
    "d14"
   ]
  },
  {
   "cell_type": "code",
   "execution_count": 114,
   "id": "4302082d-555d-48ae-a72a-020f4f439b27",
   "metadata": {},
   "outputs": [],
   "source": [
    "d15={\"key\":{\"name\":\"krutike\", \"class\":\"good\"}}"
   ]
  },
  {
   "cell_type": "code",
   "execution_count": 115,
   "id": "ec0b8123-53fb-4966-a069-9096ccb281e0",
   "metadata": {},
   "outputs": [
    {
     "data": {
      "text/plain": [
       "{'key': {'name': 'krutike', 'class': 'good'}}"
      ]
     },
     "execution_count": 115,
     "metadata": {},
     "output_type": "execute_result"
    }
   ],
   "source": [
    "d15"
   ]
  },
  {
   "cell_type": "code",
   "execution_count": 117,
   "id": "535aff2a-8ba9-4496-9e0d-13729757991a",
   "metadata": {},
   "outputs": [],
   "source": [
    "d16={\"batch_name\":[\"data science masters\",\"web dev\",\" java\"] , \"start_date\" : (1,2,3,4) , \"mentor name\" : {\"krish\" , \"sudhanshu\"}}"
   ]
  },
  {
   "cell_type": "code",
   "execution_count": 118,
   "id": "bb416137-0f22-4f3b-9dda-914c747d1926",
   "metadata": {},
   "outputs": [
    {
     "data": {
      "text/plain": [
       "{'batch_name': ['data science masters', 'web dev', ' java'],\n",
       " 'start_date': (1, 2, 3, 4),\n",
       " 'mentor name': {'krish', 'sudhanshu'}}"
      ]
     },
     "execution_count": 118,
     "metadata": {},
     "output_type": "execute_result"
    }
   ],
   "source": [
    "d16"
   ]
  },
  {
   "cell_type": "code",
   "execution_count": 119,
   "id": "7699b510-4617-4174-9889-a9857354f6ad",
   "metadata": {},
   "outputs": [],
   "source": [
    "d16[\"timing\"]=(8,8,8)"
   ]
  },
  {
   "cell_type": "code",
   "execution_count": 121,
   "id": "0e49e32e-8837-4fd3-abc0-f377b4c8f93c",
   "metadata": {},
   "outputs": [
    {
     "data": {
      "text/plain": [
       "{'batch_name': ['data science masters', 'web dev', ' java'],\n",
       " 'start_date': (1, 2, 3, 4),\n",
       " 'mentor name': {'krish', 'sudhanshu'},\n",
       " 'timing': (8, 8, 8)}"
      ]
     },
     "execution_count": 121,
     "metadata": {},
     "output_type": "execute_result"
    }
   ],
   "source": [
    "d16 #if we give key with the same name then it will be updtaed"
   ]
  },
  {
   "cell_type": "code",
   "execution_count": 122,
   "id": "284e4869-6c4a-4bbc-b7db-127d14e4b3ac",
   "metadata": {},
   "outputs": [],
   "source": [
    "d16[\"timing\"]=(7,7,7)"
   ]
  },
  {
   "cell_type": "code",
   "execution_count": 123,
   "id": "9fc7c6a7-bd80-48c4-bda9-f72b9c438918",
   "metadata": {},
   "outputs": [
    {
     "data": {
      "text/plain": [
       "{'batch_name': ['data science masters', 'web dev', ' java'],\n",
       " 'start_date': (1, 2, 3, 4),\n",
       " 'mentor name': {'krish', 'sudhanshu'},\n",
       " 'timing': (7, 7, 7)}"
      ]
     },
     "execution_count": 123,
     "metadata": {},
     "output_type": "execute_result"
    }
   ],
   "source": [
    "d16"
   ]
  },
  {
   "cell_type": "code",
   "execution_count": 125,
   "id": "87e95925-5e57-441f-8169-96216fae7240",
   "metadata": {},
   "outputs": [
    {
     "data": {
      "text/plain": [
       "['data science masters', 'web dev', ' java']"
      ]
     },
     "execution_count": 125,
     "metadata": {},
     "output_type": "execute_result"
    }
   ],
   "source": [
    "d16['batch_name']"
   ]
  },
  {
   "cell_type": "code",
   "execution_count": 126,
   "id": "42e29b5e-827e-4235-9929-c4c42c71ea1f",
   "metadata": {},
   "outputs": [
    {
     "data": {
      "text/plain": [
       "{'krish', 'sudhanshu'}"
      ]
     },
     "execution_count": 126,
     "metadata": {},
     "output_type": "execute_result"
    }
   ],
   "source": [
    "d16['mentor name']"
   ]
  },
  {
   "cell_type": "code",
   "execution_count": 127,
   "id": "5cd37788-14f5-4921-b352-3c7c432bf9b5",
   "metadata": {},
   "outputs": [
    {
     "data": {
      "text/plain": [
       "set"
      ]
     },
     "execution_count": 127,
     "metadata": {},
     "output_type": "execute_result"
    }
   ],
   "source": [
    "type(d16['mentor name'])"
   ]
  },
  {
   "cell_type": "code",
   "execution_count": 128,
   "id": "e89eb631-97ed-4b7d-b973-ed1703a10651",
   "metadata": {},
   "outputs": [
    {
     "ename": "KeyError",
     "evalue": "'abc'",
     "output_type": "error",
     "traceback": [
      "\u001b[0;31m---------------------------------------------------------------------------\u001b[0m",
      "\u001b[0;31mKeyError\u001b[0m                                  Traceback (most recent call last)",
      "Cell \u001b[0;32mIn[128], line 1\u001b[0m\n\u001b[0;32m----> 1\u001b[0m \u001b[43md16\u001b[49m\u001b[43m[\u001b[49m\u001b[38;5;124;43m\"\u001b[39;49m\u001b[38;5;124;43mabc\u001b[39;49m\u001b[38;5;124;43m\"\u001b[39;49m\u001b[43m]\u001b[49m\n",
      "\u001b[0;31mKeyError\u001b[0m: 'abc'"
     ]
    }
   ],
   "source": [
    "d16[\"abc\"]"
   ]
  },
  {
   "cell_type": "code",
   "execution_count": 129,
   "id": "c735718a-16be-4c90-a5e3-291b1e8755f2",
   "metadata": {},
   "outputs": [],
   "source": [
    "d16[\"name\"]=\"krutika\""
   ]
  },
  {
   "cell_type": "code",
   "execution_count": 130,
   "id": "0c475d73-c1ed-480a-8342-888820eac13d",
   "metadata": {},
   "outputs": [
    {
     "data": {
      "text/plain": [
       "{'batch_name': ['data science masters', 'web dev', ' java'],\n",
       " 'start_date': (1, 2, 3, 4),\n",
       " 'mentor name': {'krish', 'sudhanshu'},\n",
       " 'timing': (7, 7, 7),\n",
       " 'name': 'krutika'}"
      ]
     },
     "execution_count": 130,
     "metadata": {},
     "output_type": "execute_result"
    }
   ],
   "source": [
    "d16"
   ]
  },
  {
   "cell_type": "code",
   "execution_count": 131,
   "id": "c39e31fb-30a0-4164-9dd8-527fe06e17d2",
   "metadata": {},
   "outputs": [
    {
     "data": {
      "text/plain": [
       "'krutika'"
      ]
     },
     "execution_count": 131,
     "metadata": {},
     "output_type": "execute_result"
    }
   ],
   "source": [
    "d16[\"name\"]"
   ]
  },
  {
   "cell_type": "code",
   "execution_count": 132,
   "id": "716d4799-d4b4-4fa5-bc21-812760817f43",
   "metadata": {},
   "outputs": [
    {
     "data": {
      "text/plain": [
       "'KRUTIKA'"
      ]
     },
     "execution_count": 132,
     "metadata": {},
     "output_type": "execute_result"
    }
   ],
   "source": [
    "d16[\"name\"].upper()"
   ]
  },
  {
   "cell_type": "code",
   "execution_count": 133,
   "id": "df2bdbf2-0dbe-4efc-8337-44ac2792e986",
   "metadata": {},
   "outputs": [
    {
     "data": {
      "text/plain": [
       "{'key': {'name': 'krutike', 'class': 'good'}}"
      ]
     },
     "execution_count": 133,
     "metadata": {},
     "output_type": "execute_result"
    }
   ],
   "source": [
    "d15"
   ]
  },
  {
   "cell_type": "code",
   "execution_count": 134,
   "id": "63051c5f-b93a-4b27-ad69-f8d7391000e7",
   "metadata": {},
   "outputs": [
    {
     "data": {
      "text/plain": [
       "{'name': 'krutike', 'class': 'good'}"
      ]
     },
     "execution_count": 134,
     "metadata": {},
     "output_type": "execute_result"
    }
   ],
   "source": [
    "d15[\"key\"]"
   ]
  },
  {
   "cell_type": "code",
   "execution_count": 135,
   "id": "0e69f502-5cf4-403e-9e4b-31d8912d4055",
   "metadata": {},
   "outputs": [
    {
     "data": {
      "text/plain": [
       "dict"
      ]
     },
     "execution_count": 135,
     "metadata": {},
     "output_type": "execute_result"
    }
   ],
   "source": [
    "type(d15[\"key\"])"
   ]
  },
  {
   "cell_type": "code",
   "execution_count": 136,
   "id": "c2d29dad-3efa-462c-80b4-048522d8f6a4",
   "metadata": {},
   "outputs": [
    {
     "data": {
      "text/plain": [
       "'good'"
      ]
     },
     "execution_count": 136,
     "metadata": {},
     "output_type": "execute_result"
    }
   ],
   "source": [
    "d15[\"key\"][\"class\"]"
   ]
  },
  {
   "cell_type": "code",
   "execution_count": 137,
   "id": "0b3ba1ae-a20e-4a58-9ab6-4ca211fc9bed",
   "metadata": {},
   "outputs": [
    {
     "data": {
      "text/plain": [
       "{'key': {'name': 'krutike', 'class': 'good'}}"
      ]
     },
     "execution_count": 137,
     "metadata": {},
     "output_type": "execute_result"
    }
   ],
   "source": [
    "d15"
   ]
  },
  {
   "cell_type": "code",
   "execution_count": 138,
   "id": "f1809ca0-d2e4-4a6b-83be-50dbbe67df37",
   "metadata": {},
   "outputs": [],
   "source": [
    "d15[\"key1\"]= \"abc\""
   ]
  },
  {
   "cell_type": "code",
   "execution_count": 139,
   "id": "49269a4b-c524-4052-aa4f-517def97aa54",
   "metadata": {},
   "outputs": [
    {
     "data": {
      "text/plain": [
       "{'key': {'name': 'krutike', 'class': 'good'}, 'key1': 'abc'}"
      ]
     },
     "execution_count": 139,
     "metadata": {},
     "output_type": "execute_result"
    }
   ],
   "source": [
    "d15"
   ]
  },
  {
   "cell_type": "code",
   "execution_count": 140,
   "id": "85fa9dcf-f3b1-494c-affe-1f003556e95a",
   "metadata": {},
   "outputs": [],
   "source": [
    "del d15['key1']"
   ]
  },
  {
   "cell_type": "code",
   "execution_count": 141,
   "id": "57989996-cb45-45c2-a273-fc2b1979eb3b",
   "metadata": {},
   "outputs": [
    {
     "data": {
      "text/plain": [
       "{'key': {'name': 'krutike', 'class': 'good'}}"
      ]
     },
     "execution_count": 141,
     "metadata": {},
     "output_type": "execute_result"
    }
   ],
   "source": [
    "d15"
   ]
  },
  {
   "cell_type": "code",
   "execution_count": 142,
   "id": "d65757dd-8e61-4967-acdf-303326d4de16",
   "metadata": {},
   "outputs": [],
   "source": [
    "d15.clear()"
   ]
  },
  {
   "cell_type": "code",
   "execution_count": 143,
   "id": "096017f1-ca5a-404f-9e9f-fda1fc83af70",
   "metadata": {},
   "outputs": [
    {
     "data": {
      "text/plain": [
       "{}"
      ]
     },
     "execution_count": 143,
     "metadata": {},
     "output_type": "execute_result"
    }
   ],
   "source": [
    "d15"
   ]
  },
  {
   "cell_type": "code",
   "execution_count": 144,
   "id": "ec89ce50-4585-4f02-9f68-718022955261",
   "metadata": {},
   "outputs": [
    {
     "data": {
      "text/plain": [
       "5"
      ]
     },
     "execution_count": 144,
     "metadata": {},
     "output_type": "execute_result"
    }
   ],
   "source": [
    "len(d16)"
   ]
  },
  {
   "cell_type": "code",
   "execution_count": 145,
   "id": "d4e2a564-086c-4c6e-8456-c5e3b575017f",
   "metadata": {},
   "outputs": [
    {
     "data": {
      "text/plain": [
       "{'batch_name': ['data science masters', 'web dev', ' java'],\n",
       " 'start_date': (1, 2, 3, 4),\n",
       " 'mentor name': {'krish', 'sudhanshu'},\n",
       " 'timing': (7, 7, 7),\n",
       " 'name': 'krutika'}"
      ]
     },
     "execution_count": 145,
     "metadata": {},
     "output_type": "execute_result"
    }
   ],
   "source": [
    "d16"
   ]
  },
  {
   "cell_type": "code",
   "execution_count": 146,
   "id": "850805db-0237-466a-b4e3-1b15bedc090a",
   "metadata": {},
   "outputs": [
    {
     "data": {
      "text/plain": [
       "dict_keys(['batch_name', 'start_date', 'mentor name', 'timing', 'name'])"
      ]
     },
     "execution_count": 146,
     "metadata": {},
     "output_type": "execute_result"
    }
   ],
   "source": [
    "d16.keys()"
   ]
  },
  {
   "cell_type": "code",
   "execution_count": 147,
   "id": "1c80898b-a53a-4264-9b9a-6f3983a9a066",
   "metadata": {},
   "outputs": [
    {
     "data": {
      "text/plain": [
       "dict_values([['data science masters', 'web dev', ' java'], (1, 2, 3, 4), {'krish', 'sudhanshu'}, (7, 7, 7), 'krutika'])"
      ]
     },
     "execution_count": 147,
     "metadata": {},
     "output_type": "execute_result"
    }
   ],
   "source": [
    "d16.values()"
   ]
  },
  {
   "cell_type": "code",
   "execution_count": 148,
   "id": "85963af4-415d-4320-9f47-f60e6c4234ac",
   "metadata": {},
   "outputs": [
    {
     "data": {
      "text/plain": [
       "[['data science masters', 'web dev', ' java'],\n",
       " (1, 2, 3, 4),\n",
       " {'krish', 'sudhanshu'},\n",
       " (7, 7, 7),\n",
       " 'krutika']"
      ]
     },
     "execution_count": 148,
     "metadata": {},
     "output_type": "execute_result"
    }
   ],
   "source": [
    "list(d16.values())"
   ]
  },
  {
   "cell_type": "code",
   "execution_count": 149,
   "id": "e304432e-aa17-4b11-ae9c-afdf7fb269ae",
   "metadata": {},
   "outputs": [
    {
     "data": {
      "text/plain": [
       "['batch_name', 'start_date', 'mentor name', 'timing', 'name']"
      ]
     },
     "execution_count": 149,
     "metadata": {},
     "output_type": "execute_result"
    }
   ],
   "source": [
    "list(d16.keys())"
   ]
  },
  {
   "cell_type": "code",
   "execution_count": 151,
   "id": "15625e5e-c252-4e7a-9439-42f7bd16c921",
   "metadata": {},
   "outputs": [
    {
     "data": {
      "text/plain": [
       "dict_items([('batch_name', ['data science masters', 'web dev', ' java']), ('start_date', (1, 2, 3, 4)), ('mentor name', {'krish', 'sudhanshu'}), ('timing', (7, 7, 7)), ('name', 'krutika')])"
      ]
     },
     "execution_count": 151,
     "metadata": {},
     "output_type": "execute_result"
    }
   ],
   "source": [
    "d16.items() ##inside the list, a key value pair are in seprate tuples"
   ]
  },
  {
   "cell_type": "code",
   "execution_count": 157,
   "id": "76802be6-e5ba-48a6-b464-810727bf88f8",
   "metadata": {},
   "outputs": [],
   "source": [
    "d17=d16.copy()# deep copy"
   ]
  },
  {
   "cell_type": "code",
   "execution_count": 153,
   "id": "65f4a08f-da89-4413-aa6f-b951bc0a768b",
   "metadata": {},
   "outputs": [
    {
     "data": {
      "text/plain": [
       "{'batch_name': ['data science masters', 'web dev', ' java'],\n",
       " 'start_date': (1, 2, 3, 4),\n",
       " 'mentor name': {'krish', 'sudhanshu'},\n",
       " 'timing': (7, 7, 7),\n",
       " 'name': 'krutika'}"
      ]
     },
     "execution_count": 153,
     "metadata": {},
     "output_type": "execute_result"
    }
   ],
   "source": [
    "d17"
   ]
  },
  {
   "cell_type": "code",
   "execution_count": 156,
   "id": "88186452-6df1-4c9c-ba4c-96c6a4f25961",
   "metadata": {},
   "outputs": [],
   "source": [
    "d18=d16 #normal copying"
   ]
  },
  {
   "cell_type": "code",
   "execution_count": 155,
   "id": "1f083bb5-4a1f-4238-8772-f82900d9a102",
   "metadata": {},
   "outputs": [
    {
     "data": {
      "text/plain": [
       "{'batch_name': ['data science masters', 'web dev', ' java'],\n",
       " 'start_date': (1, 2, 3, 4),\n",
       " 'mentor name': {'krish', 'sudhanshu'},\n",
       " 'timing': (7, 7, 7),\n",
       " 'name': 'krutika'}"
      ]
     },
     "execution_count": 155,
     "metadata": {},
     "output_type": "execute_result"
    }
   ],
   "source": [
    "d18"
   ]
  },
  {
   "cell_type": "code",
   "execution_count": 158,
   "id": "36067786-21aa-4919-9937-881122e35b00",
   "metadata": {},
   "outputs": [],
   "source": [
    "## here let us see the difference between the two"
   ]
  },
  {
   "cell_type": "code",
   "execution_count": 159,
   "id": "33a793cb-00dd-416f-af2b-bb9ec0ac5aaf",
   "metadata": {},
   "outputs": [],
   "source": [
    "del d16[\"name\"]"
   ]
  },
  {
   "cell_type": "code",
   "execution_count": 162,
   "id": "aae0e4e1-de7d-48de-bf4d-70335bd36cab",
   "metadata": {},
   "outputs": [
    {
     "data": {
      "text/plain": [
       "{'batch_name': ['data science masters', 'web dev', ' java'],\n",
       " 'start_date': (1, 2, 3, 4),\n",
       " 'mentor name': {'krish', 'sudhanshu'},\n",
       " 'timing': (7, 7, 7),\n",
       " 'name': 'krutika'}"
      ]
     },
     "execution_count": 162,
     "metadata": {},
     "output_type": "execute_result"
    }
   ],
   "source": [
    "d17 ##deep copy"
   ]
  },
  {
   "cell_type": "code",
   "execution_count": 163,
   "id": "67ff73da-1d0c-42f9-a8aa-1a8745243cef",
   "metadata": {},
   "outputs": [
    {
     "data": {
      "text/plain": [
       "{'batch_name': ['data science masters', 'web dev', ' java'],\n",
       " 'start_date': (1, 2, 3, 4),\n",
       " 'mentor name': {'krish', 'sudhanshu'},\n",
       " 'timing': (7, 7, 7)}"
      ]
     },
     "execution_count": 163,
     "metadata": {},
     "output_type": "execute_result"
    }
   ],
   "source": [
    "d18 ##swallow copy"
   ]
  },
  {
   "cell_type": "code",
   "execution_count": 164,
   "id": "d7702eb7-6a48-489c-bb16-43f9e3b9702d",
   "metadata": {},
   "outputs": [
    {
     "ename": "TypeError",
     "evalue": "pop expected at least 1 argument, got 0",
     "output_type": "error",
     "traceback": [
      "\u001b[0;31m---------------------------------------------------------------------------\u001b[0m",
      "\u001b[0;31mTypeError\u001b[0m                                 Traceback (most recent call last)",
      "Cell \u001b[0;32mIn[164], line 1\u001b[0m\n\u001b[0;32m----> 1\u001b[0m \u001b[43md16\u001b[49m\u001b[38;5;241;43m.\u001b[39;49m\u001b[43mpop\u001b[49m\u001b[43m(\u001b[49m\u001b[43m)\u001b[49m\n",
      "\u001b[0;31mTypeError\u001b[0m: pop expected at least 1 argument, got 0"
     ]
    }
   ],
   "source": [
    "d16.pop()"
   ]
  },
  {
   "cell_type": "code",
   "execution_count": 165,
   "id": "5184c0ae-cc2d-4db7-b592-688e26afb251",
   "metadata": {},
   "outputs": [
    {
     "data": {
      "text/plain": [
       "(7, 7, 7)"
      ]
     },
     "execution_count": 165,
     "metadata": {},
     "output_type": "execute_result"
    }
   ],
   "source": [
    "d16.pop(\"timing\")"
   ]
  },
  {
   "cell_type": "code",
   "execution_count": 166,
   "id": "8a168872-71d9-465b-8ff2-b75fa7f76bde",
   "metadata": {},
   "outputs": [
    {
     "data": {
      "text/plain": [
       "{'batch_name': ['data science masters', 'web dev', ' java'],\n",
       " 'start_date': (1, 2, 3, 4),\n",
       " 'mentor name': {'krish', 'sudhanshu'}}"
      ]
     },
     "execution_count": 166,
     "metadata": {},
     "output_type": "execute_result"
    }
   ],
   "source": [
    "d16"
   ]
  },
  {
   "cell_type": "code",
   "execution_count": 168,
   "id": "ada51a0c-62aa-4124-a48a-98a64f666e8a",
   "metadata": {},
   "outputs": [
    {
     "data": {
      "text/plain": [
       "{1: ('a', 'b', 'c'), 2: ('a', 'b', 'c'), 3: ('a', 'b', 'c')}"
      ]
     },
     "execution_count": 168,
     "metadata": {},
     "output_type": "execute_result"
    }
   ],
   "source": [
    "d.fromkeys((1,2,3),('a','b','c'))"
   ]
  },
  {
   "cell_type": "code",
   "execution_count": 170,
   "id": "6308dff8-d593-42b3-873e-407545eeccb6",
   "metadata": {},
   "outputs": [],
   "source": [
    "d19={\"key1\":\"value1\", \"key2\":\"value2\"}\n",
    "d20={\"key3\":\"value3\" , \"key4\" :\"value4\"}"
   ]
  },
  {
   "cell_type": "code",
   "execution_count": 171,
   "id": "552c01e8-8950-4a06-9b37-fff64389020e",
   "metadata": {},
   "outputs": [
    {
     "data": {
      "text/plain": [
       "({'key1': 'value1', 'key2': 'value2'}, {'key3': 'value3', 'key4': 'value4'})"
      ]
     },
     "execution_count": 171,
     "metadata": {},
     "output_type": "execute_result"
    }
   ],
   "source": [
    "(d19,d20)"
   ]
  },
  {
   "cell_type": "code",
   "execution_count": 172,
   "id": "46fe45b7-b585-4c2f-b015-7763209a12c5",
   "metadata": {},
   "outputs": [],
   "source": [
    "d19.update(d20)"
   ]
  },
  {
   "cell_type": "code",
   "execution_count": 173,
   "id": "9c0baa68-bee5-48f1-b45c-4830a785cc37",
   "metadata": {},
   "outputs": [
    {
     "data": {
      "text/plain": [
       "{'key1': 'value1', 'key2': 'value2', 'key3': 'value3', 'key4': 'value4'}"
      ]
     },
     "execution_count": 173,
     "metadata": {},
     "output_type": "execute_result"
    }
   ],
   "source": [
    "d19"
   ]
  },
  {
   "cell_type": "code",
   "execution_count": 174,
   "id": "4b1d8791-86f3-47cc-9c37-1e692a8c2af0",
   "metadata": {},
   "outputs": [
    {
     "data": {
      "text/plain": [
       "{'key3': 'value3', 'key4': 'value4'}"
      ]
     },
     "execution_count": 174,
     "metadata": {},
     "output_type": "execute_result"
    }
   ],
   "source": [
    "d20"
   ]
  },
  {
   "cell_type": "code",
   "execution_count": 175,
   "id": "f6887b2f-2824-4694-950b-ebb0a28d8a7b",
   "metadata": {},
   "outputs": [],
   "source": [
    "d20.update(d19)"
   ]
  },
  {
   "cell_type": "code",
   "execution_count": 176,
   "id": "f85934b6-41d1-415c-b135-af9094c4cf0a",
   "metadata": {},
   "outputs": [
    {
     "data": {
      "text/plain": [
       "{'key3': 'value3', 'key4': 'value4', 'key1': 'value1', 'key2': 'value2'}"
      ]
     },
     "execution_count": 176,
     "metadata": {},
     "output_type": "execute_result"
    }
   ],
   "source": [
    "d20"
   ]
  },
  {
   "cell_type": "code",
   "execution_count": 177,
   "id": "08428e9f-21bf-4c8b-980a-a6740db82024",
   "metadata": {},
   "outputs": [],
   "source": [
    "d20.get(\"krut\")"
   ]
  },
  {
   "cell_type": "code",
   "execution_count": 178,
   "id": "3b59e38e-1c64-4ef1-921a-c9a1d62f362b",
   "metadata": {},
   "outputs": [
    {
     "data": {
      "text/plain": [
       "'value3'"
      ]
     },
     "execution_count": 178,
     "metadata": {},
     "output_type": "execute_result"
    }
   ],
   "source": [
    "d20.get(\"key3\")"
   ]
  },
  {
   "cell_type": "code",
   "execution_count": 179,
   "id": "191218c0-e879-4671-a9b5-934892f3ee7b",
   "metadata": {},
   "outputs": [
    {
     "data": {
      "text/plain": [
       "'value3'"
      ]
     },
     "execution_count": 179,
     "metadata": {},
     "output_type": "execute_result"
    }
   ],
   "source": [
    "d20[\"key3\"]"
   ]
  },
  {
   "cell_type": "markdown",
   "id": "2a0447c4-5921-40ae-80a6-02a39e124db0",
   "metadata": {},
   "source": [
    "### Dictionary Comprehensions"
   ]
  },
  {
   "cell_type": "code",
   "execution_count": 181,
   "id": "022246a4-ebde-4113-83af-5f8a082bb19d",
   "metadata": {},
   "outputs": [
    {
     "data": {
      "text/plain": [
       "{1: 1, 2: 4, 3: 9, 4: 16, 5: 25, 6: 36, 7: 49, 8: 64, 9: 81, 10: 100}"
      ]
     },
     "execution_count": 181,
     "metadata": {},
     "output_type": "execute_result"
    }
   ],
   "source": [
    "{i : i**2 for i in range(1,11) }"
   ]
  },
  {
   "cell_type": "code",
   "execution_count": 180,
   "id": "08b159dc-f513-4f87-bea3-0d96852167b4",
   "metadata": {},
   "outputs": [
    {
     "data": {
      "text/plain": [
       "[1, 2, 3, 4, 5, 6, 7, 8, 9, 10]"
      ]
     },
     "execution_count": 180,
     "metadata": {},
     "output_type": "execute_result"
    }
   ],
   "source": [
    "list(range(1,11))"
   ]
  },
  {
   "cell_type": "code",
   "execution_count": 182,
   "id": "4a68e851-85a0-48d3-ad6d-34e66325f902",
   "metadata": {},
   "outputs": [
    {
     "data": {
      "text/plain": [
       "{1: 11, 2: 12, 3: 13, 4: 14, 5: 15, 6: 16, 7: 17, 8: 18, 9: 19, 10: 20}"
      ]
     },
     "execution_count": 182,
     "metadata": {},
     "output_type": "execute_result"
    }
   ],
   "source": [
    "{i : i+10 for i in range(1,11) }"
   ]
  },
  {
   "cell_type": "code",
   "execution_count": 191,
   "id": "19b52fb0-cf2b-4de1-b4e6-00a6b7894490",
   "metadata": {},
   "outputs": [],
   "source": [
    "import math\n",
    "d21 ={i : math.log10(i) for i in range(1,11)}"
   ]
  },
  {
   "cell_type": "code",
   "execution_count": 184,
   "id": "f99c3046-5ea7-43a6-a66f-4a1de4b7547b",
   "metadata": {},
   "outputs": [
    {
     "data": {
      "text/plain": [
       "{'batch_name': ['data science masters', 'web dev', ' java'],\n",
       " 'start_date': (1, 2, 3, 4),\n",
       " 'mentor name': {'krish', 'sudhanshu'}}"
      ]
     },
     "execution_count": 184,
     "metadata": {},
     "output_type": "execute_result"
    }
   ],
   "source": [
    "d16"
   ]
  },
  {
   "cell_type": "code",
   "execution_count": 186,
   "id": "f9e6a9e0-f264-41a1-af30-073467067fd2",
   "metadata": {},
   "outputs": [
    {
     "data": {
      "text/plain": [
       "True"
      ]
     },
     "execution_count": 186,
     "metadata": {},
     "output_type": "execute_result"
    }
   ],
   "source": [
    "'batch_name' in d16"
   ]
  },
  {
   "cell_type": "code",
   "execution_count": 187,
   "id": "fbc2ea15-da48-487e-8776-065af21e8c6c",
   "metadata": {},
   "outputs": [
    {
     "data": {
      "text/plain": [
       "False"
      ]
     },
     "execution_count": 187,
     "metadata": {},
     "output_type": "execute_result"
    }
   ],
   "source": [
    "'krish' in d16"
   ]
  },
  {
   "cell_type": "code",
   "execution_count": 190,
   "id": "fe015e2a-5225-4b10-846f-1b752d99a85c",
   "metadata": {},
   "outputs": [
    {
     "data": {
      "text/plain": [
       "{1: 0.0,\n",
       " 2: 0.3010299956639812,\n",
       " 3: 0.47712125471966244,\n",
       " 4: 0.6020599913279624,\n",
       " 5: 0.6989700043360189,\n",
       " 6: 0.7781512503836436,\n",
       " 7: 0.8450980400142568,\n",
       " 8: 0.9030899869919435,\n",
       " 9: 0.9542425094393249,\n",
       " 10: 1.0}"
      ]
     },
     "execution_count": 190,
     "metadata": {},
     "output_type": "execute_result"
    }
   ],
   "source": [
    "d21"
   ]
  },
  {
   "cell_type": "code",
   "execution_count": 192,
   "id": "5a8dd993-8a1a-473d-94e2-776cd0b069e3",
   "metadata": {},
   "outputs": [
    {
     "data": {
      "text/plain": [
       "dict_keys([1, 2, 3, 4, 5, 6, 7, 8, 9, 10])"
      ]
     },
     "execution_count": 192,
     "metadata": {},
     "output_type": "execute_result"
    }
   ],
   "source": [
    "d21.keys()"
   ]
  },
  {
   "cell_type": "code",
   "execution_count": 194,
   "id": "fdc1808b-aaa8-47a8-ba23-9be14ea3c8c2",
   "metadata": {},
   "outputs": [
    {
     "name": "stdout",
     "output_type": "stream",
     "text": [
      "0.3010299956639812\n",
      "0.6020599913279624\n",
      "0.7781512503836436\n",
      "0.9030899869919435\n",
      "1.0\n"
     ]
    }
   ],
   "source": [
    "for i in d21.keys():\n",
    "    if i%2==0:\n",
    "        print(d21[i])"
   ]
  },
  {
   "cell_type": "code",
   "execution_count": null,
   "id": "3b92b6aa-52df-4b32-99b4-b4f308ecbf0e",
   "metadata": {},
   "outputs": [],
   "source": []
  }
 ],
 "metadata": {
  "kernelspec": {
   "display_name": "Python 3 (ipykernel)",
   "language": "python",
   "name": "python3"
  },
  "language_info": {
   "codemirror_mode": {
    "name": "ipython",
    "version": 3
   },
   "file_extension": ".py",
   "mimetype": "text/x-python",
   "name": "python",
   "nbconvert_exporter": "python",
   "pygments_lexer": "ipython3",
   "version": "3.10.8"
  }
 },
 "nbformat": 4,
 "nbformat_minor": 5
}
