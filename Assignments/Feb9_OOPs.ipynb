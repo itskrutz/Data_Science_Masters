{
 "cells": [
  {
   "cell_type": "markdown",
   "id": "68563ad9",
   "metadata": {},
   "source": [
    "### Questions 1 and 2"
   ]
  },
  {
   "cell_type": "code",
   "execution_count": 1,
   "id": "f1c8cf4c",
   "metadata": {},
   "outputs": [],
   "source": [
    "class vehicle:\n",
    "    \n",
    "    def __init__(self,name_of_vehicle,max_speed,average_of_vehicle):\n",
    "        self.name_of_vehicle = name_of_vehicle\n",
    "        self.max_speed = max_speed\n",
    "        self.average_of_vehicle = average_of_vehicle\n",
    "        "
   ]
  },
  {
   "cell_type": "code",
   "execution_count": 2,
   "id": "236c7bad",
   "metadata": {},
   "outputs": [],
   "source": [
    "class car(vehicle):\n",
    "    def seating_capacity(self, capacity):\n",
    "        self.capacity = capacity\n",
    "        return f\"The {self.name_of_vehicle} has a seating capacity of {self.capacity}.\"\n"
   ]
  },
  {
   "cell_type": "code",
   "execution_count": 3,
   "id": "d3717a27",
   "metadata": {},
   "outputs": [],
   "source": [
    "car_obj=car(\"toyota\", 45 , 40)"
   ]
  },
  {
   "cell_type": "code",
   "execution_count": 4,
   "id": "555d9ecf",
   "metadata": {
    "scrolled": true
   },
   "outputs": [
    {
     "data": {
      "text/plain": [
       "'The toyota has a seating capacity of 6.'"
      ]
     },
     "execution_count": 4,
     "metadata": {},
     "output_type": "execute_result"
    }
   ],
   "source": [
    "car_obj.seating_capacity(6)"
   ]
  },
  {
   "cell_type": "markdown",
   "id": "66ef83a3",
   "metadata": {},
   "source": [
    "### Question 3 Multiple Inheritance\n",
    "A child class inherits from multiple parent classes"
   ]
  },
  {
   "cell_type": "code",
   "execution_count": 5,
   "id": "18b7c6c0",
   "metadata": {},
   "outputs": [],
   "source": [
    "class Mammal:\n",
    "    def breathe(self):\n",
    "        print(\"Breathing...\")\n",
    "\n",
    "class WingedAnimal:\n",
    "    def fly(self):\n",
    "        print(\"Flying...\")\n",
    "\n",
    "class Bat(Mammal, WingedAnimal):  \n",
    "    pass "
   ]
  },
  {
   "cell_type": "markdown",
   "id": "25f90aca",
   "metadata": {},
   "source": [
    "### Question 4 Getter and Setter methods\n",
    "\n",
    "In Python, getter and setter methods are used to access and modify the private attributes of a class, respectively. They provide a way to encapsulate the access and modification of class attributes, allowing you to control how they are retrieved or updated."
   ]
  },
  {
   "cell_type": "code",
   "execution_count": 6,
   "id": "1c1e1602",
   "metadata": {},
   "outputs": [],
   "source": [
    "class MyClass:\n",
    "    def __init__(self):\n",
    "        self._my_attribute = None\n",
    "\n",
    "    def get_my_attribute(self):\n",
    "        return self._my_attribute\n",
    "\n",
    "    def set_my_attribute(self, value):\n",
    "        self._my_attribute = value\n"
   ]
  },
  {
   "cell_type": "code",
   "execution_count": 7,
   "id": "2e2df55c",
   "metadata": {},
   "outputs": [],
   "source": [
    "my_instance = MyClass()"
   ]
  },
  {
   "cell_type": "code",
   "execution_count": 8,
   "id": "3b8c8527",
   "metadata": {},
   "outputs": [],
   "source": [
    "my_instance.set_my_attribute(42)"
   ]
  },
  {
   "cell_type": "code",
   "execution_count": 9,
   "id": "0d3fa895",
   "metadata": {},
   "outputs": [],
   "source": [
    "attribute_value = my_instance.get_my_attribute()"
   ]
  },
  {
   "cell_type": "code",
   "execution_count": 10,
   "id": "09b13f17",
   "metadata": {
    "scrolled": true
   },
   "outputs": [
    {
     "data": {
      "text/plain": [
       "42"
      ]
     },
     "execution_count": 10,
     "metadata": {},
     "output_type": "execute_result"
    }
   ],
   "source": [
    "attribute_value"
   ]
  },
  {
   "cell_type": "markdown",
   "id": "86a71f34",
   "metadata": {},
   "source": [
    "### Question 5   Method Overriding\n",
    "\n",
    "Method overriding in Python occurs when a derived class provides a specific implementation for a method that is already defined in its base class. The overridden method in the derived class should have the same name and signature as the method in the base class. This allows the derived class to provide a specialized implementation while still maintaining the same interface."
   ]
  },
  {
   "cell_type": "code",
   "execution_count": 11,
   "id": "bdb2adb6",
   "metadata": {},
   "outputs": [],
   "source": [
    "class Animal:\n",
    "    def make_sound(self):\n",
    "        print(\"Generic animal sound\")\n",
    "\n",
    "class Dog(Animal):\n",
    "    def make_sound(self):\n",
    "        print(\"Bark\")\n",
    "\n",
    "class Cat(Animal):\n",
    "    def make_sound(self):\n",
    "        print(\"Meow\")"
   ]
  },
  {
   "cell_type": "code",
   "execution_count": 12,
   "id": "8b316cd5",
   "metadata": {},
   "outputs": [],
   "source": [
    "animal = Animal()\n",
    "dog = Dog()\n",
    "cat = Cat()"
   ]
  },
  {
   "cell_type": "code",
   "execution_count": 13,
   "id": "1a1ae4fc",
   "metadata": {},
   "outputs": [
    {
     "name": "stdout",
     "output_type": "stream",
     "text": [
      "Generic animal sound\n",
      "Bark\n",
      "Meow\n"
     ]
    }
   ],
   "source": [
    "animal.make_sound() \n",
    "dog.make_sound()    \n",
    "cat.make_sound()   "
   ]
  }
 ],
 "metadata": {
  "kernelspec": {
   "display_name": "Python 3 (ipykernel)",
   "language": "python",
   "name": "python3"
  },
  "language_info": {
   "codemirror_mode": {
    "name": "ipython",
    "version": 3
   },
   "file_extension": ".py",
   "mimetype": "text/x-python",
   "name": "python",
   "nbconvert_exporter": "python",
   "pygments_lexer": "ipython3",
   "version": "3.9.13"
  }
 },
 "nbformat": 4,
 "nbformat_minor": 5
}
