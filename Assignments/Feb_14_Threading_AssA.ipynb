{
 "cells": [
  {
   "cell_type": "markdown",
   "metadata": {},
   "source": [
    "Q1. What is Multithreading in Python? Why is it used? Name the module used to handle threads in python.\n",
    "Multithreading in Python refers to the concurrent execution of multiple threads (smaller units of a process) within a single process. Each thread runs in the same memory space, allowing them to share data easily, but they also require proper synchronization to avoid conflicts.\n",
    "\n",
    "Responsiveness: Multithreading can make applications more responsive by offloading long-running tasks or I/O operations to separate threads, allowing the main program to continue running without delay.\n",
    "Resource Sharing: Since threads share the same memory space, it is easier to share data between them compared to processes, which require inter-process communication mechanisms.\n",
    "\n",
    "The module used to handle threads in Python is the threading module."
   ]
  },
  {
   "cell_type": "markdown",
   "metadata": {},
   "source": [
    "Q2. Why is the threading Module Used?\n",
    "The threading module in Python is used to handle the creation, management, and synchronization of threads. Here are some of the key reasons for using the threading module:\n",
    "Concurrent Execution: It allows multiple threads to run concurrently, which can improve the performance of I/O-bound and high-latency operations.\n",
    "Resource Sharing: Threads share the same memory space, which makes it easier to share data between them compared to processes.\n",
    "\n",
    "threading.activeCount()- Returns the number of Thread objects currently alive. It can be used to monitor how many threads are running at a given point in time, which is useful for debugging and managing thread resources.\n",
    "\n",
    "threading.currentThread()- Returns the current Thread object corresponding to the caller's thread of control. This function can be used to get information about the thread that is currently executing. It can be useful for logging, debugging, or managing the current thread's execution context.\n",
    "\n",
    "threading.enumerate()- Returns a list of all Thread objects currently alive. It can be used to get a list of all active threads, which is useful for monitoring and debugging purposes."
   ]
  },
  {
   "cell_type": "markdown",
   "metadata": {},
   "source": [
    "run: The entry point for the thread's activity. Typically overridden in a subclass to define the thread's behavior.\n",
    "start: Initializes the thread and invokes the run method in a separate thread.\n",
    "join: Blocks the calling thread until the thread whose join method is called terminates.\n",
    "isAlive (is_alive in newer versions): Returns True if the thread is still running, False if it has finished."
   ]
  },
  {
   "cell_type": "code",
   "execution_count": 1,
   "metadata": {},
   "outputs": [
    {
     "name": "stdout",
     "output_type": "stream",
     "text": [
      "Squares: [1, 4, 9, 16, 25, 36]\n",
      "Cubes: [1, 8, 27, 64, 125, 216]\n",
      "Done!\n"
     ]
    }
   ],
   "source": [
    "import threading\n",
    "\n",
    "numbers=[1,2,3,4,5,6]\n",
    "\n",
    "def print_squares(numbers):\n",
    "    squares = [n**2 for n in numbers]\n",
    "    print(f\"Squares: {squares}\")\n",
    "\n",
    "def print_cubes(numbers):\n",
    "    cubes = [n**3 for n in numbers]\n",
    "    print(f\"Cubes: {cubes}\")\n",
    "\n",
    "t1 = threading.Thread(target=print_squares, args=(numbers,))\n",
    "t2 = threading.Thread(target=print_cubes, args=(numbers,))\n",
    "\n",
    "t1.start()\n",
    "t2.start()\n",
    "\n",
    "t1.join()\n",
    "t2.join()\n",
    "\n",
    "print(\"Done!\")\n",
    "    "
   ]
  },
  {
   "cell_type": "markdown",
   "metadata": {},
   "source": [
    "Q5. Advantages and Disadvantages of Multithreading\n",
    "Advantages\n",
    "Increased Responsiveness:\n",
    "Multithreading can make an application more responsive. For instance, a GUI application can remain responsive to user inputs while performing other tasks in the background.\n",
    "Resource Sharing:\n",
    "Threads within the same process share the same memory space, making it easier to share data among threads compared to separate processes.\n",
    "Better Resource Utilization:\n",
    "Multithreading can lead to better utilization of CPU resources, particularly on multi-core systems where threads can be executed in parallel.\n",
    "\n",
    "Disadvantages\n",
    "Complexity:\n",
    "Writing, testing, and debugging multithreaded programs can be more complex than single-threaded programs due to potential issues like synchronization, deadlocks, and race conditions.\n",
    "Context Switching Overhead:\n",
    "Although threads are lighter than processes, switching between threads (context switching) still incurs overhead, which can reduce performance if not managed properly.\n",
    "Potential for Deadlocks:\n",
    "Improper synchronization can lead to deadlocks where two or more threads are waiting indefinitely for resources held by each other.\n",
    "Race Conditions:\n",
    "Concurrent access to shared resources without proper synchronization can lead to race conditions, causing unpredictable behavior and bugs."
   ]
  },
  {
   "cell_type": "markdown",
   "metadata": {},
   "source": [
    "Deadlocks\n",
    "\n",
    "A deadlock occurs when two or more threads are blocked forever, each waiting for the other to release a resource.\n",
    "Cause:\n",
    "Mutual Exclusion: At least one resource is held in a non-shareable mode.\n",
    "Hold and Wait: A thread holding at least one resource is waiting to acquire additional resources held by other threads.\n",
    "No Preemption: Resources cannot be forcibly removed from threads holding them until the resources are used to completion.\n",
    "Circular Wait: A set of threads are waiting for each other in a circular chain\n",
    "\n",
    "Race Conditions\n",
    "\n",
    "A race condition occurs when the behavior of a program depends on the relative timing of events such as the order of execution of threads, leading to unpredictable and incorrect results.\n",
    "Causes:\n",
    "Concurrent Access to Shared Resources: Multiple threads access and modify shared resources without proper synchronization.\n",
    "Lack of Proper Synchronization: Threads operate on shared data structures without locks or other synchronization mechanisms.\n",
    "Solution: Using locks or other synchronization mechanisms to ensure only one thread modifies the shared resource at a time.\n"
   ]
  }
 ],
 "metadata": {
  "kernelspec": {
   "display_name": "Python 3",
   "language": "python",
   "name": "python3"
  },
  "language_info": {
   "codemirror_mode": {
    "name": "ipython",
    "version": 3
   },
   "file_extension": ".py",
   "mimetype": "text/x-python",
   "name": "python",
   "nbconvert_exporter": "python",
   "pygments_lexer": "ipython3",
   "version": "3.11.4"
  }
 },
 "nbformat": 4,
 "nbformat_minor": 2
}
