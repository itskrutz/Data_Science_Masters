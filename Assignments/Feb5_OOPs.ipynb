{
 "cells": [
  {
   "cell_type": "markdown",
   "id": "3f80704b",
   "metadata": {},
   "source": [
    "Question :Explain Class and Object with respect to Object-Oriented Programming. Give a suitable example.\n",
    "\n",
    "Answer: Class is a template or blueprint for creating objects. It defines the data and methods behavior that objects of that class will have.\n",
    "An object is an individual instance or realization of a class. It has its own specific values for the attributes defined in the class.\n",
    "For example, in the real world example of a laptop. Laptop is a class and defines a classificiation for different types of objects whose attributes will vary. Class will define that a leptop will have some size, RAM, SSD, HDD, some graphics etc. but an object is an example of a class with some specific value for these attributes. For example, Dell Inspiron 14."
   ]
  },
  {
   "cell_type": "code",
   "execution_count": 1,
   "id": "c447be3b",
   "metadata": {},
   "outputs": [],
   "source": [
    "class Dog:\n",
    "\n",
    "    def __init__(self, name, breed):\n",
    "        self.name = name  \n",
    "        self.breed = breed\n",
    "\n",
    "    def bark(self):\n",
    "        print(\"Woof!\")\n"
   ]
  },
  {
   "cell_type": "code",
   "execution_count": 2,
   "id": "26e19e7f",
   "metadata": {},
   "outputs": [],
   "source": [
    "dog1 = Dog(\"Fido\", \"Labrador\")\n",
    "dog2 = Dog(\"Buddy\", \"Golden Retriever\")\n"
   ]
  },
  {
   "cell_type": "code",
   "execution_count": 3,
   "id": "ca81888d",
   "metadata": {},
   "outputs": [
    {
     "name": "stdout",
     "output_type": "stream",
     "text": [
      "Fido\n",
      "Woof!\n"
     ]
    }
   ],
   "source": [
    "print(dog1.name)  \n",
    "dog2.bark()  "
   ]
  },
  {
   "cell_type": "markdown",
   "id": "5333e4dd",
   "metadata": {},
   "source": [
    "Question :Name the four pillars of OOPs.\n",
    "\n",
    "Answer: Polymorphism, Abstraction, Inheritance and Encapsulation"
   ]
  },
  {
   "cell_type": "markdown",
   "id": "db7418f0",
   "metadata": {},
   "source": [
    "Question :Explain why the __init__() function is used. Give a suitable example.\n",
    "\n",
    "Answer: __init__ is  the constructor of a class, meaning it's automatically called when a new object of that class is created.\n",
    "Its primary purpose is to initialize the attributes (data) of the newly created object, ensuring it starts with a defined and consistent state."
   ]
  },
  {
   "cell_type": "code",
   "execution_count": 4,
   "id": "6142ed35",
   "metadata": {},
   "outputs": [],
   "source": [
    "class Point:\n",
    "  \n",
    "\n",
    "    def __init__(self, x, y):\n",
    "       \n",
    "        self.x = x  \n",
    "        self.y = y\n"
   ]
  },
  {
   "cell_type": "code",
   "execution_count": 5,
   "id": "17413efa",
   "metadata": {},
   "outputs": [],
   "source": [
    "\n",
    "point1 = Point(1, 2)\n",
    "point2 = Point(3, 4)"
   ]
  },
  {
   "cell_type": "code",
   "execution_count": 6,
   "id": "591d9207",
   "metadata": {},
   "outputs": [
    {
     "name": "stdout",
     "output_type": "stream",
     "text": [
      "1 2\n",
      "3 4\n"
     ]
    }
   ],
   "source": [
    "print(point1.x, point1.y)  \n",
    "print(point2.x, point2.y)  "
   ]
  },
  {
   "cell_type": "markdown",
   "id": "1bad3899",
   "metadata": {},
   "source": [
    "Question :Why self is used in OOPs?\n",
    "\n",
    "Answer: The self parameter is to bind the method to the class. it tells the class that the method that is defined belongs to it.\n",
    "It refers to the current instance of the class within the method.\n",
    "It allows the method to access and modify the attributes and other methods of that specific object,"
   ]
  },
  {
   "cell_type": "markdown",
   "id": "98022364",
   "metadata": {},
   "source": [
    "Question :What is inheritance? Give an example for each type of inheritance.\n",
    "\n",
    "Answer :Inheritance is a fundamental concept in object-oriented programming (OOP) that allows new classes to derive or inherit attributes and methods from existing classes. It promotes code reusability, extensibility, and the creation of hierarchical relationships between classes.\n",
    "\n",
    "Types of inheritance\n",
    "Single Inheritance\n",
    "Multiple Inheritance\n",
    "Heirarchical Inheritance\n",
    "Multilevel Inheritance"
   ]
  },
  {
   "cell_type": "code",
   "execution_count": 7,
   "id": "d0905497",
   "metadata": {},
   "outputs": [],
   "source": [
    "#Single Inheritance\n",
    "class Animal:\n",
    "    def eat(self):\n",
    "        print(\"Eating...\")\n",
    "\n",
    "class Dog(Animal): \n",
    "    def bark(self):\n",
    "        print(\"Woof!\")\n"
   ]
  },
  {
   "cell_type": "code",
   "execution_count": 8,
   "id": "0ff4cf1e",
   "metadata": {},
   "outputs": [],
   "source": [
    "#Multiple Inheritance\n",
    "\n",
    "class Mammal:\n",
    "    def breathe(self):\n",
    "        print(\"Breathing...\")\n",
    "\n",
    "class WingedAnimal:\n",
    "    def fly(self):\n",
    "        print(\"Flying...\")\n",
    "\n",
    "class Bat(Mammal, WingedAnimal):  \n",
    "    pass \n"
   ]
  },
  {
   "cell_type": "code",
   "execution_count": null,
   "id": "27b29661",
   "metadata": {},
   "outputs": [],
   "source": [
    "#Multilevel Inheritance\n",
    "\n",
    "class Vehicle:\n",
    "    def move(self):\n",
    "        print(\"Moving...\")\n",
    "\n",
    "class Car(Vehicle):\n",
    "    def drive(self):\n",
    "        print(\"Driving...\")\n",
    "\n",
    "class SportsCar(Car):  \n",
    "    def race(self):\n",
    "        print(\"Racing...\")\n"
   ]
  },
  {
   "cell_type": "code",
   "execution_count": 9,
   "id": "f65f9169",
   "metadata": {},
   "outputs": [],
   "source": [
    "#Heirarchical Inheritance\n",
    "\n",
    "class Employee:\n",
    "    def work(self):\n",
    "        print(\"Working...\")\n",
    "\n",
    "class Programmer(Employee): \n",
    "    def code(self):\n",
    "        print(\"Coding...\")\n",
    "\n",
    "class Designer(Employee):  \n",
    "    def design(self):\n",
    "        print(\"Designing...\")\n"
   ]
  }
 ],
 "metadata": {
  "kernelspec": {
   "display_name": "Python 3 (ipykernel)",
   "language": "python",
   "name": "python3"
  },
  "language_info": {
   "codemirror_mode": {
    "name": "ipython",
    "version": 3
   },
   "file_extension": ".py",
   "mimetype": "text/x-python",
   "name": "python",
   "nbconvert_exporter": "python",
   "pygments_lexer": "ipython3",
   "version": "3.9.13"
  }
 },
 "nbformat": 4,
 "nbformat_minor": 5
}
