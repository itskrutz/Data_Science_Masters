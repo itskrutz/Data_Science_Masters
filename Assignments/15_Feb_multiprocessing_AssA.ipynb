{
 "cells": [
  {
   "cell_type": "markdown",
   "metadata": {},
   "source": [
    "Q1. What is multiprocessing in Python? Why is it useful?\n",
    "\n",
    "Multiprocessing in Python is a package that supports spawning processes using an API similar to the threading module. It allows for the creation of multiple processes, each with its own Python interpreter and memory space. This enables parallel execution of code across multiple CPU cores, bypassing the Global Interpreter Lock (GIL) that limits the performance of multithreading in CPU-bound tasks.\n",
    "\n",
    "True Parallelism: Since each process runs independently with its own memory space, multiprocessing allows for true parallel execution on multiple CPU cores, making it suitable for CPU-bound tasks.\n",
    "Bypasses GIL: The GIL in Python restricts the execution of multiple threads in a single process. Multiprocessing avoids this limitation by using separate processes.\n",
    "Scalability: Multiprocessing can leverage the full capabilities of multi-core systems, improving the performance of computationally intensive tasks."
   ]
  },
  {
   "cell_type": "markdown",
   "metadata": {},
   "source": [
    "Q2. What are the differences between multiprocessing and multithreading?\n",
    "\n",
    "Memory Space:\n",
    "Multiprocessing: Each process has its own memory space.\n",
    "Multithreading: Threads share the same memory space within a single process.\n",
    "\n",
    "Parallelism:\n",
    "Multiprocessing: Allows true parallelism by running on multiple CPU cores.\n",
    "Multithreading: Limited by the GIL in Python, so it can't achieve true parallelism for CPU-bound tasks but can be beneficial for I/O-bound tasks.\n",
    "\n",
    "Overhead:\n",
    "Multiprocessing: Higher overhead due to process creation and memory usage.\n",
    "Multithreading: Lower overhead as threads are lighter and share the same memory space.\n",
    "\n",
    "Data Sharing:\n",
    "Multiprocessing: Data must be shared between processes using inter-process communication (IPC) mechanisms like pipes, queues, or shared memory.\n",
    "Multithreading: Data can be easily shared between threads, but this also increases the risk of race conditions.\n",
    "\n",
    "Use Cases:\n",
    "Multiprocessing: Best for CPU-bound tasks that require true parallelism.\n",
    "Multithreading: Best for I/O-bound tasks that spend a lot of time waiting for external resources."
   ]
  },
  {
   "cell_type": "code",
   "execution_count": 1,
   "metadata": {},
   "outputs": [],
   "source": [
    "import multiprocessing\n",
    "\n",
    "def worker(num):\n",
    "    \"\"\"Worker function\"\"\"\n",
    "    print(f'Worker: {num}')\n",
    "\n",
    "if __name__ == '__main__':\n",
    "    process = multiprocessing.Process(target=worker, args=(1,))\n",
    "    process.start()\n"
   ]
  },
  {
   "cell_type": "markdown",
   "metadata": {},
   "source": [
    "Q4. What is a multiprocessing pool in Python? Why is it used?\n",
    "\n",
    "A multiprocessing pool is a collection of worker processes that can execute tasks concurrently. The multiprocessing.Pool class provides a convenient means of parallelizing the execution of a function across multiple input values, distributing the input data across the processes in the pool.\n",
    "\n",
    "Efficiency: Pools manage a fixed number of worker processes, reducing the overhead of process creation and termination.\n",
    "Convenience: The Pool class provides high-level methods such as map, apply, and starmap, simplifying the parallel execution of functions.\n",
    "Load Balancing: Pools can automatically distribute tasks among available workers, balancing the workload."
   ]
  },
  {
   "cell_type": "code",
   "execution_count": 2,
   "metadata": {},
   "outputs": [],
   "source": [
    "import multiprocessing\n",
    "\n",
    "def square(n):\n",
    "    return n * n\n",
    "\n",
    "if __name__ == '__main__':\n",
    "    with multiprocessing.Pool(processes=4) as pool:\n",
    "        numbers = [1, 2, 3, 4, 5]\n",
    "        results = pool.map(square, numbers)\n",
    "        print(results)\n"
   ]
  },
  {
   "cell_type": "code",
   "execution_count": 1,
   "metadata": {},
   "outputs": [],
   "source": [
    "import multiprocessing\n",
    "\n",
    "def print_number(num):\n",
    "    print(f'Process ID: {multiprocessing.current_process().pid}, Number: {num}')\n",
    "\n",
    "if __name__ == '__main__':\n",
    "    numbers = [1, 2, 3, 4]\n",
    "    processes = []\n",
    "\n",
    "    for num in numbers:\n",
    "        process = multiprocessing.Process(target=print_number, args=(num,))\n",
    "        processes.append(process)\n",
    "        process.start()\n",
    "\n",
    "    for process in processes:\n",
    "        process.join()  # Wait for all processes to finish\n"
   ]
  }
 ],
 "metadata": {
  "kernelspec": {
   "display_name": "Python 3",
   "language": "python",
   "name": "python3"
  },
  "language_info": {
   "codemirror_mode": {
    "name": "ipython",
    "version": 3
   },
   "file_extension": ".py",
   "mimetype": "text/x-python",
   "name": "python",
   "nbconvert_exporter": "python",
   "pygments_lexer": "ipython3",
   "version": "3.11.4"
  }
 },
 "nbformat": 4,
 "nbformat_minor": 2
}
